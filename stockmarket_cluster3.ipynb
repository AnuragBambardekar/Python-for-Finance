{
 "cells": [
  {
   "attachments": {},
   "cell_type": "markdown",
   "metadata": {},
   "source": [
    "#  S&P500 Sector Wise Analysis"
   ]
  },
  {
   "cell_type": "code",
   "execution_count": 2,
   "metadata": {},
   "outputs": [],
   "source": [
    "import yfinance as yf\n",
    "import requests\n",
    "import pandas as pd\n",
    "import numpy as np\n",
    "import matplotlib.pyplot as plt\n",
    "import plotly.graph_objects as go\n",
    "import plotly.express as px\n",
    "import seaborn as sns\n",
    "sns.set()\n",
    "from datetime import *\n",
    "from yahoo_fin import stock_info as si\n"
   ]
  },
  {
   "cell_type": "code",
   "execution_count": 3,
   "metadata": {},
   "outputs": [
    {
     "data": {
      "text/html": [
       "<div>\n",
       "<style scoped>\n",
       "    .dataframe tbody tr th:only-of-type {\n",
       "        vertical-align: middle;\n",
       "    }\n",
       "\n",
       "    .dataframe tbody tr th {\n",
       "        vertical-align: top;\n",
       "    }\n",
       "\n",
       "    .dataframe thead th {\n",
       "        text-align: right;\n",
       "    }\n",
       "</style>\n",
       "<table border=\"1\" class=\"dataframe\">\n",
       "  <thead>\n",
       "    <tr style=\"text-align: right;\">\n",
       "      <th></th>\n",
       "      <th>Symbol</th>\n",
       "      <th>Security</th>\n",
       "      <th>GICS Sector</th>\n",
       "      <th>GICS Sub-Industry</th>\n",
       "      <th>Headquarters Location</th>\n",
       "      <th>Date added</th>\n",
       "      <th>CIK</th>\n",
       "      <th>Founded</th>\n",
       "    </tr>\n",
       "  </thead>\n",
       "  <tbody>\n",
       "    <tr>\n",
       "      <th>0</th>\n",
       "      <td>MMM</td>\n",
       "      <td>3M</td>\n",
       "      <td>Industrials</td>\n",
       "      <td>Industrial Conglomerates</td>\n",
       "      <td>Saint Paul, Minnesota</td>\n",
       "      <td>1957-03-04</td>\n",
       "      <td>66740</td>\n",
       "      <td>1902</td>\n",
       "    </tr>\n",
       "    <tr>\n",
       "      <th>1</th>\n",
       "      <td>AOS</td>\n",
       "      <td>A. O. Smith</td>\n",
       "      <td>Industrials</td>\n",
       "      <td>Building Products</td>\n",
       "      <td>Milwaukee, Wisconsin</td>\n",
       "      <td>2017-07-26</td>\n",
       "      <td>91142</td>\n",
       "      <td>1916</td>\n",
       "    </tr>\n",
       "    <tr>\n",
       "      <th>2</th>\n",
       "      <td>ABT</td>\n",
       "      <td>Abbott</td>\n",
       "      <td>Health Care</td>\n",
       "      <td>Health Care Equipment</td>\n",
       "      <td>North Chicago, Illinois</td>\n",
       "      <td>1957-03-04</td>\n",
       "      <td>1800</td>\n",
       "      <td>1888</td>\n",
       "    </tr>\n",
       "    <tr>\n",
       "      <th>3</th>\n",
       "      <td>ABBV</td>\n",
       "      <td>AbbVie</td>\n",
       "      <td>Health Care</td>\n",
       "      <td>Pharmaceuticals</td>\n",
       "      <td>North Chicago, Illinois</td>\n",
       "      <td>2012-12-31</td>\n",
       "      <td>1551152</td>\n",
       "      <td>2013 (1888)</td>\n",
       "    </tr>\n",
       "    <tr>\n",
       "      <th>4</th>\n",
       "      <td>ACN</td>\n",
       "      <td>Accenture</td>\n",
       "      <td>Information Technology</td>\n",
       "      <td>IT Consulting &amp; Other Services</td>\n",
       "      <td>Dublin, Ireland</td>\n",
       "      <td>2011-07-06</td>\n",
       "      <td>1467373</td>\n",
       "      <td>1989</td>\n",
       "    </tr>\n",
       "    <tr>\n",
       "      <th>...</th>\n",
       "      <td>...</td>\n",
       "      <td>...</td>\n",
       "      <td>...</td>\n",
       "      <td>...</td>\n",
       "      <td>...</td>\n",
       "      <td>...</td>\n",
       "      <td>...</td>\n",
       "      <td>...</td>\n",
       "    </tr>\n",
       "    <tr>\n",
       "      <th>498</th>\n",
       "      <td>YUM</td>\n",
       "      <td>Yum! Brands</td>\n",
       "      <td>Consumer Discretionary</td>\n",
       "      <td>Restaurants</td>\n",
       "      <td>Louisville, Kentucky</td>\n",
       "      <td>1997-10-06</td>\n",
       "      <td>1041061</td>\n",
       "      <td>1997</td>\n",
       "    </tr>\n",
       "    <tr>\n",
       "      <th>499</th>\n",
       "      <td>ZBRA</td>\n",
       "      <td>Zebra Technologies</td>\n",
       "      <td>Information Technology</td>\n",
       "      <td>Electronic Equipment &amp; Instruments</td>\n",
       "      <td>Lincolnshire, Illinois</td>\n",
       "      <td>2019-12-23</td>\n",
       "      <td>877212</td>\n",
       "      <td>1969</td>\n",
       "    </tr>\n",
       "    <tr>\n",
       "      <th>500</th>\n",
       "      <td>ZBH</td>\n",
       "      <td>Zimmer Biomet</td>\n",
       "      <td>Health Care</td>\n",
       "      <td>Health Care Equipment</td>\n",
       "      <td>Warsaw, Indiana</td>\n",
       "      <td>2001-08-07</td>\n",
       "      <td>1136869</td>\n",
       "      <td>1927</td>\n",
       "    </tr>\n",
       "    <tr>\n",
       "      <th>501</th>\n",
       "      <td>ZION</td>\n",
       "      <td>Zions Bancorporation</td>\n",
       "      <td>Financials</td>\n",
       "      <td>Regional Banks</td>\n",
       "      <td>Salt Lake City, Utah</td>\n",
       "      <td>2001-06-22</td>\n",
       "      <td>109380</td>\n",
       "      <td>1873</td>\n",
       "    </tr>\n",
       "    <tr>\n",
       "      <th>502</th>\n",
       "      <td>ZTS</td>\n",
       "      <td>Zoetis</td>\n",
       "      <td>Health Care</td>\n",
       "      <td>Pharmaceuticals</td>\n",
       "      <td>Parsippany, New Jersey</td>\n",
       "      <td>2013-06-21</td>\n",
       "      <td>1555280</td>\n",
       "      <td>1952</td>\n",
       "    </tr>\n",
       "  </tbody>\n",
       "</table>\n",
       "<p>503 rows × 8 columns</p>\n",
       "</div>"
      ],
      "text/plain": [
       "    Symbol              Security             GICS Sector  \\\n",
       "0      MMM                    3M             Industrials   \n",
       "1      AOS           A. O. Smith             Industrials   \n",
       "2      ABT                Abbott             Health Care   \n",
       "3     ABBV                AbbVie             Health Care   \n",
       "4      ACN             Accenture  Information Technology   \n",
       "..     ...                   ...                     ...   \n",
       "498    YUM           Yum! Brands  Consumer Discretionary   \n",
       "499   ZBRA    Zebra Technologies  Information Technology   \n",
       "500    ZBH         Zimmer Biomet             Health Care   \n",
       "501   ZION  Zions Bancorporation              Financials   \n",
       "502    ZTS                Zoetis             Health Care   \n",
       "\n",
       "                      GICS Sub-Industry    Headquarters Location  Date added  \\\n",
       "0              Industrial Conglomerates    Saint Paul, Minnesota  1957-03-04   \n",
       "1                     Building Products     Milwaukee, Wisconsin  2017-07-26   \n",
       "2                 Health Care Equipment  North Chicago, Illinois  1957-03-04   \n",
       "3                       Pharmaceuticals  North Chicago, Illinois  2012-12-31   \n",
       "4        IT Consulting & Other Services          Dublin, Ireland  2011-07-06   \n",
       "..                                  ...                      ...         ...   \n",
       "498                         Restaurants     Louisville, Kentucky  1997-10-06   \n",
       "499  Electronic Equipment & Instruments   Lincolnshire, Illinois  2019-12-23   \n",
       "500               Health Care Equipment          Warsaw, Indiana  2001-08-07   \n",
       "501                      Regional Banks     Salt Lake City, Utah  2001-06-22   \n",
       "502                     Pharmaceuticals   Parsippany, New Jersey  2013-06-21   \n",
       "\n",
       "         CIK      Founded  \n",
       "0      66740         1902  \n",
       "1      91142         1916  \n",
       "2       1800         1888  \n",
       "3    1551152  2013 (1888)  \n",
       "4    1467373         1989  \n",
       "..       ...          ...  \n",
       "498  1041061         1997  \n",
       "499   877212         1969  \n",
       "500  1136869         1927  \n",
       "501   109380         1873  \n",
       "502  1555280         1952  \n",
       "\n",
       "[503 rows x 8 columns]"
      ]
     },
     "execution_count": 3,
     "metadata": {},
     "output_type": "execute_result"
    }
   ],
   "source": [
    "sp500url = 'https://en.wikipedia.org/wiki/List_of_S%26P_500_companies'\n",
    "data_table = pd.read_html(sp500url)[0]\n",
    "data_table"
   ]
  },
  {
   "cell_type": "code",
   "execution_count": 4,
   "metadata": {},
   "outputs": [
    {
     "data": {
      "text/plain": [
       "['MMM',\n",
       " 'AOS',\n",
       " 'ABT',\n",
       " 'ABBV',\n",
       " 'ACN',\n",
       " 'ATVI',\n",
       " 'ADM',\n",
       " 'ADBE',\n",
       " 'ADP',\n",
       " 'AAP',\n",
       " 'AES',\n",
       " 'AFL',\n",
       " 'A',\n",
       " 'APD',\n",
       " 'AKAM',\n",
       " 'ALK',\n",
       " 'ALB',\n",
       " 'ARE',\n",
       " 'ALGN',\n",
       " 'ALLE',\n",
       " 'LNT',\n",
       " 'ALL',\n",
       " 'GOOGL',\n",
       " 'GOOG',\n",
       " 'MO',\n",
       " 'AMZN',\n",
       " 'AMCR',\n",
       " 'AMD',\n",
       " 'AEE',\n",
       " 'AAL',\n",
       " 'AEP',\n",
       " 'AXP',\n",
       " 'AIG',\n",
       " 'AMT',\n",
       " 'AWK',\n",
       " 'AMP',\n",
       " 'ABC',\n",
       " 'AME',\n",
       " 'AMGN',\n",
       " 'APH',\n",
       " 'ADI',\n",
       " 'ANSS',\n",
       " 'AON',\n",
       " 'APA',\n",
       " 'AAPL',\n",
       " 'AMAT',\n",
       " 'APTV',\n",
       " 'ACGL',\n",
       " 'ANET',\n",
       " 'AJG',\n",
       " 'AIZ',\n",
       " 'T',\n",
       " 'ATO',\n",
       " 'ADSK',\n",
       " 'AZO',\n",
       " 'AVB',\n",
       " 'AVY',\n",
       " 'AXON',\n",
       " 'BKR',\n",
       " 'BALL',\n",
       " 'BAC',\n",
       " 'BBWI',\n",
       " 'BAX',\n",
       " 'BDX',\n",
       " 'WRB',\n",
       " 'BRK.B',\n",
       " 'BBY',\n",
       " 'BIO',\n",
       " 'TECH',\n",
       " 'BIIB',\n",
       " 'BLK',\n",
       " 'BK',\n",
       " 'BA',\n",
       " 'BKNG',\n",
       " 'BWA',\n",
       " 'BXP',\n",
       " 'BSX',\n",
       " 'BMY',\n",
       " 'AVGO',\n",
       " 'BR',\n",
       " 'BRO',\n",
       " 'BF.B',\n",
       " 'BG',\n",
       " 'CHRW',\n",
       " 'CDNS',\n",
       " 'CZR',\n",
       " 'CPT',\n",
       " 'CPB',\n",
       " 'COF',\n",
       " 'CAH',\n",
       " 'KMX',\n",
       " 'CCL',\n",
       " 'CARR',\n",
       " 'CTLT',\n",
       " 'CAT',\n",
       " 'CBOE',\n",
       " 'CBRE',\n",
       " 'CDW',\n",
       " 'CE',\n",
       " 'CNC',\n",
       " 'CNP',\n",
       " 'CDAY',\n",
       " 'CF',\n",
       " 'CRL',\n",
       " 'SCHW',\n",
       " 'CHTR',\n",
       " 'CVX',\n",
       " 'CMG',\n",
       " 'CB',\n",
       " 'CHD',\n",
       " 'CI',\n",
       " 'CINF',\n",
       " 'CTAS',\n",
       " 'CSCO',\n",
       " 'C',\n",
       " 'CFG',\n",
       " 'CLX',\n",
       " 'CME',\n",
       " 'CMS',\n",
       " 'KO',\n",
       " 'CTSH',\n",
       " 'CL',\n",
       " 'CMCSA',\n",
       " 'CMA',\n",
       " 'CAG',\n",
       " 'COP',\n",
       " 'ED',\n",
       " 'STZ',\n",
       " 'CEG',\n",
       " 'COO',\n",
       " 'CPRT',\n",
       " 'GLW',\n",
       " 'CTVA',\n",
       " 'CSGP',\n",
       " 'COST',\n",
       " 'CTRA',\n",
       " 'CCI',\n",
       " 'CSX',\n",
       " 'CMI',\n",
       " 'CVS',\n",
       " 'DHI',\n",
       " 'DHR',\n",
       " 'DRI',\n",
       " 'DVA',\n",
       " 'DE',\n",
       " 'DAL',\n",
       " 'XRAY',\n",
       " 'DVN',\n",
       " 'DXCM',\n",
       " 'FANG',\n",
       " 'DLR',\n",
       " 'DFS',\n",
       " 'DISH',\n",
       " 'DIS',\n",
       " 'DG',\n",
       " 'DLTR',\n",
       " 'D',\n",
       " 'DPZ',\n",
       " 'DOV',\n",
       " 'DOW',\n",
       " 'DTE',\n",
       " 'DUK',\n",
       " 'DD',\n",
       " 'DXC',\n",
       " 'EMN',\n",
       " 'ETN',\n",
       " 'EBAY',\n",
       " 'ECL',\n",
       " 'EIX',\n",
       " 'EW',\n",
       " 'EA',\n",
       " 'ELV',\n",
       " 'LLY',\n",
       " 'EMR',\n",
       " 'ENPH',\n",
       " 'ETR',\n",
       " 'EOG',\n",
       " 'EPAM',\n",
       " 'EQT',\n",
       " 'EFX',\n",
       " 'EQIX',\n",
       " 'EQR',\n",
       " 'ESS',\n",
       " 'EL',\n",
       " 'ETSY',\n",
       " 'RE',\n",
       " 'EVRG',\n",
       " 'ES',\n",
       " 'EXC',\n",
       " 'EXPE',\n",
       " 'EXPD',\n",
       " 'EXR',\n",
       " 'XOM',\n",
       " 'FFIV',\n",
       " 'FDS',\n",
       " 'FICO',\n",
       " 'FAST',\n",
       " 'FRT',\n",
       " 'FDX',\n",
       " 'FITB',\n",
       " 'FSLR',\n",
       " 'FE',\n",
       " 'FIS',\n",
       " 'FISV',\n",
       " 'FLT',\n",
       " 'FMC',\n",
       " 'F',\n",
       " 'FTNT',\n",
       " 'FTV',\n",
       " 'FOXA',\n",
       " 'FOX',\n",
       " 'BEN',\n",
       " 'FCX',\n",
       " 'GRMN',\n",
       " 'IT',\n",
       " 'GEHC',\n",
       " 'GEN',\n",
       " 'GNRC',\n",
       " 'GD',\n",
       " 'GE',\n",
       " 'GIS',\n",
       " 'GM',\n",
       " 'GPC',\n",
       " 'GILD',\n",
       " 'GL',\n",
       " 'GPN',\n",
       " 'GS',\n",
       " 'HAL',\n",
       " 'HIG',\n",
       " 'HAS',\n",
       " 'HCA',\n",
       " 'PEAK',\n",
       " 'HSIC',\n",
       " 'HSY',\n",
       " 'HES',\n",
       " 'HPE',\n",
       " 'HLT',\n",
       " 'HOLX',\n",
       " 'HD',\n",
       " 'HON',\n",
       " 'HRL',\n",
       " 'HST',\n",
       " 'HWM',\n",
       " 'HPQ',\n",
       " 'HUM',\n",
       " 'HBAN',\n",
       " 'HII',\n",
       " 'IBM',\n",
       " 'IEX',\n",
       " 'IDXX',\n",
       " 'ITW',\n",
       " 'ILMN',\n",
       " 'INCY',\n",
       " 'IR',\n",
       " 'PODD',\n",
       " 'INTC',\n",
       " 'ICE',\n",
       " 'IFF',\n",
       " 'IP',\n",
       " 'IPG',\n",
       " 'INTU',\n",
       " 'ISRG',\n",
       " 'IVZ',\n",
       " 'INVH',\n",
       " 'IQV',\n",
       " 'IRM',\n",
       " 'JBHT',\n",
       " 'JKHY',\n",
       " 'J',\n",
       " 'JNJ',\n",
       " 'JCI',\n",
       " 'JPM',\n",
       " 'JNPR',\n",
       " 'K',\n",
       " 'KDP',\n",
       " 'KEY',\n",
       " 'KEYS',\n",
       " 'KMB',\n",
       " 'KIM',\n",
       " 'KMI',\n",
       " 'KLAC',\n",
       " 'KHC',\n",
       " 'KR',\n",
       " 'LHX',\n",
       " 'LH',\n",
       " 'LRCX',\n",
       " 'LW',\n",
       " 'LVS',\n",
       " 'LDOS',\n",
       " 'LEN',\n",
       " 'LNC',\n",
       " 'LIN',\n",
       " 'LYV',\n",
       " 'LKQ',\n",
       " 'LMT',\n",
       " 'L',\n",
       " 'LOW',\n",
       " 'LYB',\n",
       " 'MTB',\n",
       " 'MRO',\n",
       " 'MPC',\n",
       " 'MKTX',\n",
       " 'MAR',\n",
       " 'MMC',\n",
       " 'MLM',\n",
       " 'MAS',\n",
       " 'MA',\n",
       " 'MTCH',\n",
       " 'MKC',\n",
       " 'MCD',\n",
       " 'MCK',\n",
       " 'MDT',\n",
       " 'MRK',\n",
       " 'META',\n",
       " 'MET',\n",
       " 'MTD',\n",
       " 'MGM',\n",
       " 'MCHP',\n",
       " 'MU',\n",
       " 'MSFT',\n",
       " 'MAA',\n",
       " 'MRNA',\n",
       " 'MHK',\n",
       " 'MOH',\n",
       " 'TAP',\n",
       " 'MDLZ',\n",
       " 'MPWR',\n",
       " 'MNST',\n",
       " 'MCO',\n",
       " 'MS',\n",
       " 'MOS',\n",
       " 'MSI',\n",
       " 'MSCI',\n",
       " 'NDAQ',\n",
       " 'NTAP',\n",
       " 'NFLX',\n",
       " 'NWL',\n",
       " 'NEM',\n",
       " 'NWSA',\n",
       " 'NWS',\n",
       " 'NEE',\n",
       " 'NKE',\n",
       " 'NI',\n",
       " 'NDSN',\n",
       " 'NSC',\n",
       " 'NTRS',\n",
       " 'NOC',\n",
       " 'NCLH',\n",
       " 'NRG',\n",
       " 'NUE',\n",
       " 'NVDA',\n",
       " 'NVR',\n",
       " 'NXPI',\n",
       " 'ORLY',\n",
       " 'OXY',\n",
       " 'ODFL',\n",
       " 'OMC',\n",
       " 'ON',\n",
       " 'OKE',\n",
       " 'ORCL',\n",
       " 'OGN',\n",
       " 'OTIS',\n",
       " 'PCAR',\n",
       " 'PKG',\n",
       " 'PARA',\n",
       " 'PH',\n",
       " 'PAYX',\n",
       " 'PAYC',\n",
       " 'PYPL',\n",
       " 'PNR',\n",
       " 'PEP',\n",
       " 'PKI',\n",
       " 'PFE',\n",
       " 'PCG',\n",
       " 'PM',\n",
       " 'PSX',\n",
       " 'PNW',\n",
       " 'PXD',\n",
       " 'PNC',\n",
       " 'POOL',\n",
       " 'PPG',\n",
       " 'PPL',\n",
       " 'PFG',\n",
       " 'PG',\n",
       " 'PGR',\n",
       " 'PLD',\n",
       " 'PRU',\n",
       " 'PEG',\n",
       " 'PTC',\n",
       " 'PSA',\n",
       " 'PHM',\n",
       " 'QRVO',\n",
       " 'PWR',\n",
       " 'QCOM',\n",
       " 'DGX',\n",
       " 'RL',\n",
       " 'RJF',\n",
       " 'RTX',\n",
       " 'O',\n",
       " 'REG',\n",
       " 'REGN',\n",
       " 'RF',\n",
       " 'RSG',\n",
       " 'RMD',\n",
       " 'RHI',\n",
       " 'ROK',\n",
       " 'ROL',\n",
       " 'ROP',\n",
       " 'ROST',\n",
       " 'RCL',\n",
       " 'SPGI',\n",
       " 'CRM',\n",
       " 'SBAC',\n",
       " 'SLB',\n",
       " 'STX',\n",
       " 'SEE',\n",
       " 'SRE',\n",
       " 'NOW',\n",
       " 'SHW',\n",
       " 'SPG',\n",
       " 'SWKS',\n",
       " 'SJM',\n",
       " 'SNA',\n",
       " 'SEDG',\n",
       " 'SO',\n",
       " 'LUV',\n",
       " 'SWK',\n",
       " 'SBUX',\n",
       " 'STT',\n",
       " 'STLD',\n",
       " 'STE',\n",
       " 'SYK',\n",
       " 'SYF',\n",
       " 'SNPS',\n",
       " 'SYY',\n",
       " 'TMUS',\n",
       " 'TROW',\n",
       " 'TTWO',\n",
       " 'TPR',\n",
       " 'TRGP',\n",
       " 'TGT',\n",
       " 'TEL',\n",
       " 'TDY',\n",
       " 'TFX',\n",
       " 'TER',\n",
       " 'TSLA',\n",
       " 'TXN',\n",
       " 'TXT',\n",
       " 'TMO',\n",
       " 'TJX',\n",
       " 'TSCO',\n",
       " 'TT',\n",
       " 'TDG',\n",
       " 'TRV',\n",
       " 'TRMB',\n",
       " 'TFC',\n",
       " 'TYL',\n",
       " 'TSN',\n",
       " 'USB',\n",
       " 'UDR',\n",
       " 'ULTA',\n",
       " 'UNP',\n",
       " 'UAL',\n",
       " 'UPS',\n",
       " 'URI',\n",
       " 'UNH',\n",
       " 'UHS',\n",
       " 'VLO',\n",
       " 'VTR',\n",
       " 'VRSN',\n",
       " 'VRSK',\n",
       " 'VZ',\n",
       " 'VRTX',\n",
       " 'VFC',\n",
       " 'VTRS',\n",
       " 'VICI',\n",
       " 'V',\n",
       " 'VMC',\n",
       " 'WAB',\n",
       " 'WBA',\n",
       " 'WMT',\n",
       " 'WBD',\n",
       " 'WM',\n",
       " 'WAT',\n",
       " 'WEC',\n",
       " 'WFC',\n",
       " 'WELL',\n",
       " 'WST',\n",
       " 'WDC',\n",
       " 'WRK',\n",
       " 'WY',\n",
       " 'WHR',\n",
       " 'WMB',\n",
       " 'WTW',\n",
       " 'GWW',\n",
       " 'WYNN',\n",
       " 'XEL',\n",
       " 'XYL',\n",
       " 'YUM',\n",
       " 'ZBRA',\n",
       " 'ZBH',\n",
       " 'ZION',\n",
       " 'ZTS']"
      ]
     },
     "execution_count": 4,
     "metadata": {},
     "output_type": "execute_result"
    }
   ],
   "source": [
    "sp500_symbols = data_table[\"Symbol\"].to_list()\n",
    "sp500_symbols"
   ]
  },
  {
   "attachments": {},
   "cell_type": "markdown",
   "metadata": {},
   "source": [
    "Get the Data using yfinance API"
   ]
  },
  {
   "cell_type": "code",
   "execution_count": 5,
   "metadata": {},
   "outputs": [],
   "source": [
    "end_date = date.today()\n",
    "start_date = end_date - pd.DateOffset(365*5) # 5 year data"
   ]
  },
  {
   "cell_type": "code",
   "execution_count": 6,
   "metadata": {},
   "outputs": [
    {
     "name": "stdout",
     "output_type": "stream",
     "text": [
      "[*********************100%***********************]  503 of 503 completed\n"
     ]
    },
    {
     "data": {
      "text/html": [
       "<div>\n",
       "<style scoped>\n",
       "    .dataframe tbody tr th:only-of-type {\n",
       "        vertical-align: middle;\n",
       "    }\n",
       "\n",
       "    .dataframe tbody tr th {\n",
       "        vertical-align: top;\n",
       "    }\n",
       "\n",
       "    .dataframe thead tr th {\n",
       "        text-align: left;\n",
       "    }\n",
       "\n",
       "    .dataframe thead tr:last-of-type th {\n",
       "        text-align: right;\n",
       "    }\n",
       "</style>\n",
       "<table border=\"1\" class=\"dataframe\">\n",
       "  <thead>\n",
       "    <tr>\n",
       "      <th></th>\n",
       "      <th colspan=\"10\" halign=\"left\">Adj Close</th>\n",
       "      <th>...</th>\n",
       "      <th colspan=\"10\" halign=\"left\">Volume</th>\n",
       "    </tr>\n",
       "    <tr>\n",
       "      <th></th>\n",
       "      <th>A</th>\n",
       "      <th>AAL</th>\n",
       "      <th>AAP</th>\n",
       "      <th>AAPL</th>\n",
       "      <th>ABBV</th>\n",
       "      <th>ABC</th>\n",
       "      <th>ABT</th>\n",
       "      <th>ACGL</th>\n",
       "      <th>ACN</th>\n",
       "      <th>ADBE</th>\n",
       "      <th>...</th>\n",
       "      <th>WYNN</th>\n",
       "      <th>XEL</th>\n",
       "      <th>XOM</th>\n",
       "      <th>XRAY</th>\n",
       "      <th>XYL</th>\n",
       "      <th>YUM</th>\n",
       "      <th>ZBH</th>\n",
       "      <th>ZBRA</th>\n",
       "      <th>ZION</th>\n",
       "      <th>ZTS</th>\n",
       "    </tr>\n",
       "    <tr>\n",
       "      <th>Date</th>\n",
       "      <th></th>\n",
       "      <th></th>\n",
       "      <th></th>\n",
       "      <th></th>\n",
       "      <th></th>\n",
       "      <th></th>\n",
       "      <th></th>\n",
       "      <th></th>\n",
       "      <th></th>\n",
       "      <th></th>\n",
       "      <th></th>\n",
       "      <th></th>\n",
       "      <th></th>\n",
       "      <th></th>\n",
       "      <th></th>\n",
       "      <th></th>\n",
       "      <th></th>\n",
       "      <th></th>\n",
       "      <th></th>\n",
       "      <th></th>\n",
       "      <th></th>\n",
       "    </tr>\n",
       "  </thead>\n",
       "  <tbody>\n",
       "    <tr>\n",
       "      <th>2018-05-07</th>\n",
       "      <td>64.931961</td>\n",
       "      <td>41.541306</td>\n",
       "      <td>107.888771</td>\n",
       "      <td>44.129219</td>\n",
       "      <td>78.895020</td>\n",
       "      <td>78.118706</td>\n",
       "      <td>54.640945</td>\n",
       "      <td>26.376667</td>\n",
       "      <td>141.805466</td>\n",
       "      <td>230.990005</td>\n",
       "      <td>...</td>\n",
       "      <td>1936000</td>\n",
       "      <td>1981700</td>\n",
       "      <td>15071500</td>\n",
       "      <td>5235200</td>\n",
       "      <td>943800</td>\n",
       "      <td>3366400</td>\n",
       "      <td>1471561</td>\n",
       "      <td>426500</td>\n",
       "      <td>1774000</td>\n",
       "      <td>2021800</td>\n",
       "    </tr>\n",
       "    <tr>\n",
       "      <th>2018-05-08</th>\n",
       "      <td>64.912727</td>\n",
       "      <td>42.089443</td>\n",
       "      <td>108.501869</td>\n",
       "      <td>44.341351</td>\n",
       "      <td>78.712898</td>\n",
       "      <td>78.118706</td>\n",
       "      <td>54.079071</td>\n",
       "      <td>26.663334</td>\n",
       "      <td>141.470245</td>\n",
       "      <td>234.559998</td>\n",
       "      <td>...</td>\n",
       "      <td>1261600</td>\n",
       "      <td>4135800</td>\n",
       "      <td>17430400</td>\n",
       "      <td>5638600</td>\n",
       "      <td>1530700</td>\n",
       "      <td>1641000</td>\n",
       "      <td>1344768</td>\n",
       "      <td>1501200</td>\n",
       "      <td>3088400</td>\n",
       "      <td>2534400</td>\n",
       "    </tr>\n",
       "    <tr>\n",
       "      <th>2018-05-09</th>\n",
       "      <td>65.644997</td>\n",
       "      <td>40.621212</td>\n",
       "      <td>109.607315</td>\n",
       "      <td>44.653553</td>\n",
       "      <td>80.122444</td>\n",
       "      <td>78.146393</td>\n",
       "      <td>54.714642</td>\n",
       "      <td>26.459999</td>\n",
       "      <td>143.965607</td>\n",
       "      <td>239.740005</td>\n",
       "      <td>...</td>\n",
       "      <td>3152400</td>\n",
       "      <td>3378700</td>\n",
       "      <td>17142100</td>\n",
       "      <td>3114500</td>\n",
       "      <td>1538300</td>\n",
       "      <td>1780200</td>\n",
       "      <td>1302641</td>\n",
       "      <td>536100</td>\n",
       "      <td>2355800</td>\n",
       "      <td>3009300</td>\n",
       "    </tr>\n",
       "    <tr>\n",
       "      <th>2018-05-10</th>\n",
       "      <td>66.348373</td>\n",
       "      <td>41.149776</td>\n",
       "      <td>109.830292</td>\n",
       "      <td>45.292282</td>\n",
       "      <td>81.444893</td>\n",
       "      <td>78.893517</td>\n",
       "      <td>55.783142</td>\n",
       "      <td>26.523333</td>\n",
       "      <td>145.753296</td>\n",
       "      <td>241.149994</td>\n",
       "      <td>...</td>\n",
       "      <td>2749300</td>\n",
       "      <td>2255600</td>\n",
       "      <td>17710300</td>\n",
       "      <td>4435200</td>\n",
       "      <td>1150000</td>\n",
       "      <td>2375800</td>\n",
       "      <td>1178526</td>\n",
       "      <td>375800</td>\n",
       "      <td>2069100</td>\n",
       "      <td>1977600</td>\n",
       "    </tr>\n",
       "    <tr>\n",
       "      <th>2018-05-11</th>\n",
       "      <td>66.916847</td>\n",
       "      <td>41.697910</td>\n",
       "      <td>111.418800</td>\n",
       "      <td>45.120022</td>\n",
       "      <td>82.498077</td>\n",
       "      <td>80.138748</td>\n",
       "      <td>56.427921</td>\n",
       "      <td>26.549999</td>\n",
       "      <td>146.256058</td>\n",
       "      <td>241.880005</td>\n",
       "      <td>...</td>\n",
       "      <td>1899800</td>\n",
       "      <td>1970600</td>\n",
       "      <td>14751000</td>\n",
       "      <td>2472900</td>\n",
       "      <td>1737100</td>\n",
       "      <td>1419400</td>\n",
       "      <td>973041</td>\n",
       "      <td>445400</td>\n",
       "      <td>1436300</td>\n",
       "      <td>2210400</td>\n",
       "    </tr>\n",
       "  </tbody>\n",
       "</table>\n",
       "<p>5 rows × 3018 columns</p>\n",
       "</div>"
      ],
      "text/plain": [
       "            Adj Close                                                          \\\n",
       "                    A        AAL         AAP       AAPL       ABBV        ABC   \n",
       "Date                                                                            \n",
       "2018-05-07  64.931961  41.541306  107.888771  44.129219  78.895020  78.118706   \n",
       "2018-05-08  64.912727  42.089443  108.501869  44.341351  78.712898  78.118706   \n",
       "2018-05-09  65.644997  40.621212  109.607315  44.653553  80.122444  78.146393   \n",
       "2018-05-10  66.348373  41.149776  109.830292  45.292282  81.444893  78.893517   \n",
       "2018-05-11  66.916847  41.697910  111.418800  45.120022  82.498077  80.138748   \n",
       "\n",
       "                                                          ...   Volume  \\\n",
       "                  ABT       ACGL         ACN        ADBE  ...     WYNN   \n",
       "Date                                                      ...            \n",
       "2018-05-07  54.640945  26.376667  141.805466  230.990005  ...  1936000   \n",
       "2018-05-08  54.079071  26.663334  141.470245  234.559998  ...  1261600   \n",
       "2018-05-09  54.714642  26.459999  143.965607  239.740005  ...  3152400   \n",
       "2018-05-10  55.783142  26.523333  145.753296  241.149994  ...  2749300   \n",
       "2018-05-11  56.427921  26.549999  146.256058  241.880005  ...  1899800   \n",
       "\n",
       "                                                                            \\\n",
       "                XEL       XOM     XRAY      XYL      YUM      ZBH     ZBRA   \n",
       "Date                                                                         \n",
       "2018-05-07  1981700  15071500  5235200   943800  3366400  1471561   426500   \n",
       "2018-05-08  4135800  17430400  5638600  1530700  1641000  1344768  1501200   \n",
       "2018-05-09  3378700  17142100  3114500  1538300  1780200  1302641   536100   \n",
       "2018-05-10  2255600  17710300  4435200  1150000  2375800  1178526   375800   \n",
       "2018-05-11  1970600  14751000  2472900  1737100  1419400   973041   445400   \n",
       "\n",
       "                              \n",
       "               ZION      ZTS  \n",
       "Date                          \n",
       "2018-05-07  1774000  2021800  \n",
       "2018-05-08  3088400  2534400  \n",
       "2018-05-09  2355800  3009300  \n",
       "2018-05-10  2069100  1977600  \n",
       "2018-05-11  1436300  2210400  \n",
       "\n",
       "[5 rows x 3018 columns]"
      ]
     },
     "execution_count": 6,
     "metadata": {},
     "output_type": "execute_result"
    }
   ],
   "source": [
    "stocks_list = si.tickers_sp500() # all s&p500 stocks\n",
    "df_sp500 = yf.download(tickers = stocks_list, start = start_date, end = end_date)\n",
    "sp500_symbols = df_sp500[\"Close\"].columns.to_list()\n",
    "df = df_sp500.sort_index()\n",
    "df.head()"
   ]
  },
  {
   "cell_type": "code",
   "execution_count": 7,
   "metadata": {},
   "outputs": [
    {
     "name": "stdout",
     "output_type": "stream",
     "text": [
      "<class 'pandas.core.frame.DataFrame'>\n",
      "DatetimeIndex: 1257 entries, 2018-05-07 to 2023-05-03\n",
      "Columns: 3018 entries, ('Adj Close', 'A') to ('Volume', 'ZTS')\n",
      "dtypes: float64(2525), int64(493)\n",
      "memory usage: 29.0 MB\n"
     ]
    }
   ],
   "source": [
    "df.info()"
   ]
  },
  {
   "attachments": {},
   "cell_type": "markdown",
   "metadata": {},
   "source": [
    "Now we calculate: <br>\n",
    "- Gap Return\n",
    "- Intraday Return\n",
    "- Variation per day\n",
    "- Trailing Volatility over time"
   ]
  },
  {
   "cell_type": "code",
   "execution_count": 8,
   "metadata": {},
   "outputs": [],
   "source": [
    "gap_returns = np.log(df[\"Open\"]/df[\"Close\"].shift(1))\n",
    "intraday_returns = np.log(df[\"Close\"]/df[\"Open\"])\n",
    "df_variation =  df[\"Adj Close\"].pct_change()\n",
    "df_volatility=df_variation.rolling(250).std()*100*np.sqrt(250)"
   ]
  },
  {
   "attachments": {},
   "cell_type": "markdown",
   "metadata": {},
   "source": [
    "Best Day to invest in S&P500? <br>\n",
    "- Taking into account the return of the Gap movement\n",
    "- Taking into account the return of intraday movements"
   ]
  },
  {
   "cell_type": "code",
   "execution_count": 9,
   "metadata": {},
   "outputs": [
    {
     "data": {
      "text/html": [
       "<div>\n",
       "<style scoped>\n",
       "    .dataframe tbody tr th:only-of-type {\n",
       "        vertical-align: middle;\n",
       "    }\n",
       "\n",
       "    .dataframe tbody tr th {\n",
       "        vertical-align: top;\n",
       "    }\n",
       "\n",
       "    .dataframe thead th {\n",
       "        text-align: right;\n",
       "    }\n",
       "</style>\n",
       "<table border=\"1\" class=\"dataframe\">\n",
       "  <thead>\n",
       "    <tr style=\"text-align: right;\">\n",
       "      <th></th>\n",
       "      <th>Day</th>\n",
       "      <th>Gap_return mean</th>\n",
       "      <th>Gap_return std</th>\n",
       "      <th>IntraDay_return mean</th>\n",
       "      <th>IntraDay_return std</th>\n",
       "      <th>Volatility</th>\n",
       "    </tr>\n",
       "  </thead>\n",
       "  <tbody>\n",
       "    <tr>\n",
       "      <th>0</th>\n",
       "      <td>Mon</td>\n",
       "      <td>-0.000443</td>\n",
       "      <td>0.015639</td>\n",
       "      <td>0.000094</td>\n",
       "      <td>0.017830</td>\n",
       "      <td>35.670616</td>\n",
       "    </tr>\n",
       "    <tr>\n",
       "      <th>1</th>\n",
       "      <td>Tue</td>\n",
       "      <td>0.001839</td>\n",
       "      <td>0.012406</td>\n",
       "      <td>-0.001035</td>\n",
       "      <td>0.017730</td>\n",
       "      <td>35.592497</td>\n",
       "    </tr>\n",
       "    <tr>\n",
       "      <th>2</th>\n",
       "      <td>Wed</td>\n",
       "      <td>0.000437</td>\n",
       "      <td>0.012152</td>\n",
       "      <td>-0.000343</td>\n",
       "      <td>0.018302</td>\n",
       "      <td>35.696113</td>\n",
       "    </tr>\n",
       "    <tr>\n",
       "      <th>3</th>\n",
       "      <td>Thu</td>\n",
       "      <td>-0.001022</td>\n",
       "      <td>0.012816</td>\n",
       "      <td>0.001092</td>\n",
       "      <td>0.018913</td>\n",
       "      <td>35.664740</td>\n",
       "    </tr>\n",
       "    <tr>\n",
       "      <th>4</th>\n",
       "      <td>Fri</td>\n",
       "      <td>0.000421</td>\n",
       "      <td>0.012088</td>\n",
       "      <td>0.000249</td>\n",
       "      <td>0.017430</td>\n",
       "      <td>35.376772</td>\n",
       "    </tr>\n",
       "  </tbody>\n",
       "</table>\n",
       "</div>"
      ],
      "text/plain": [
       "   Day  Gap_return mean  Gap_return std  IntraDay_return mean  \\\n",
       "0  Mon        -0.000443        0.015639              0.000094   \n",
       "1  Tue         0.001839        0.012406             -0.001035   \n",
       "2  Wed         0.000437        0.012152             -0.000343   \n",
       "3  Thu        -0.001022        0.012816              0.001092   \n",
       "4  Fri         0.000421        0.012088              0.000249   \n",
       "\n",
       "   IntraDay_return std  Volatility  \n",
       "0             0.017830   35.670616  \n",
       "1             0.017730   35.592497  \n",
       "2             0.018302   35.696113  \n",
       "3             0.018913   35.664740  \n",
       "4             0.017430   35.376772  "
      ]
     },
     "execution_count": 9,
     "metadata": {},
     "output_type": "execute_result"
    }
   ],
   "source": [
    "weekday = gap_returns.index.map(lambda x: x.weekday())\n",
    "\n",
    "best_day=pd.concat([\n",
    "    gap_returns.groupby(weekday).mean().T.mean().rename(\"Gap_return mean\"),\n",
    "    gap_returns.groupby(weekday).std().T.mean().rename(\"Gap_return std\"),\n",
    "    \n",
    "    intraday_returns.groupby(weekday).mean().T.mean().rename(\"IntraDay_return mean\"),\n",
    "    intraday_returns.groupby(weekday).std().T.mean().rename(\"IntraDay_return std\"),\n",
    "    \n",
    "    df_volatility.groupby(weekday).mean().T.mean().rename(\"Volatility\"),\n",
    "],axis=1)\n",
    "\n",
    "best_day.reset_index(inplace=True)\n",
    "best_day[\"Date\"] = best_day[\"Date\"].map({0:\"Mon\",1:\"Tue\",2:\"Wed\",3:\"Thu\",4:\"Fri\"})\n",
    "best_day.rename(columns={\"Date\":\"Day\"},inplace=True)\n",
    "best_day"
   ]
  },
  {
   "cell_type": "code",
   "execution_count": 10,
   "metadata": {},
   "outputs": [
    {
     "data": {
      "text/plain": [
       "Text(0.5, 1.0, 'Mean IntraDay Return per Day of the Week')"
      ]
     },
     "execution_count": 10,
     "metadata": {},
     "output_type": "execute_result"
    },
    {
     "data": {
      "image/png": "[encoded data removed]",
      "text/plain": [
       "<Figure size 2000x500 with 2 Axes>"
      ]
     },
     "metadata": {},
     "output_type": "display_data"
    }
   ],
   "source": [
    "fig, axs = plt.subplots(1,2, figsize=(20,5))\n",
    "sns.barplot(x=best_day[\"Day\"],y=best_day[\"Gap_return mean\"],ax=axs[0])\n",
    "axs[0].set_title(\"Mean Gap Return per Day of the Week\")\n",
    "\n",
    "sns.barplot(x=best_day[\"Day\"],y=best_day[\"IntraDay_return mean\"],ax=axs[1])\n",
    "axs[1].set_title(\"Mean IntraDay Return per Day of the Week\")"
   ]
  },
  {
   "attachments": {},
   "cell_type": "markdown",
   "metadata": {},
   "source": [
    "The best day to invest according to the GAP return is Tuesday <br>\n",
    "The best day to invest according to the Intra Daily return is Thursday"
   ]
  },
  {
   "attachments": {},
   "cell_type": "markdown",
   "metadata": {},
   "source": [
    "## What were the moments of high volatility that affected the S&P-500?"
   ]
  },
  {
   "cell_type": "code",
   "execution_count": 11,
   "metadata": {},
   "outputs": [
    {
     "data": {
      "application/vnd.plotly.v1+json": {
       "config": {
        "plotlyServerURL": "https://plot.ly"
       },
       "data": [
        {
         "hovertemplate": "Date=%{x}<br>Volatility=%{y}<extra></extra>",
         "legendgroup": "",
         "line": {
          "color": "#636efa",
          "dash": "solid"
         },
         "marker": {
          "symbol": "circle"
         },
         "mode": "lines",
         "name": "",
         "showlegend": false,
         "type": "scattergl",
         "x": [
          "2019-05-06T00:00:00",
          "2019-05-07T00:00:00",
          "2019-05-08T00:00:00",
          "2019-05-09T00:00:00",
          "2019-05-10T00:00:00",
          "2019-05-13T00:00:00",
          "2019-05-14T00:00:00",
          "2019-05-15T00:00:00",
          "2019-05-16T00:00:00",
          "2019-05-17T00:00:00",
          "2019-05-20T00:00:00",
          "2019-05-21T00:00:00",
          "2019-05-22T00:00:00",
          "2019-05-23T00:00:00",
          "2019-05-24T00:00:00",
          "2019-05-28T00:00:00",
          "2019-05-29T00:00:00",
          "2019-05-30T00:00:00",
          "2019-05-31T00:00:00",
          "2019-06-03T00:00:00",
          "2019-06-04T00:00:00",
          "2019-06-05T00:00:00",
          "2019-06-06T00:00:00",
          "2019-06-07T00:00:00",
          "2019-06-10T00:00:00",
          "2019-06-11T00:00:00",
          "2019-06-12T00:00:00",
          "2019-06-13T00:00:00",
          "2019-06-14T00:00:00",
          "2019-06-17T00:00:00",
          "2019-06-18T00:00:00",
          "2019-06-19T00:00:00",
          "2019-06-20T00:00:00",
          "2019-06-21T00:00:00",
          "2019-06-24T00:00:00",
          "2019-06-25T00:00:00",
          "2019-06-26T00:00:00",
          "2019-06-27T00:00:00",
          "2019-06-28T00:00:00",
          "2019-07-01T00:00:00",
          "2019-07-02T00:00:00",
          "2019-07-03T00:00:00",
          "2019-07-05T00:00:00",
          "2019-07-08T00:00:00",
          "2019-07-09T00:00:00",
          "2019-07-10T00:00:00",
          "2019-07-11T00:00:00",
          "2019-07-12T00:00:00",
          "2019-07-15T00:00:00",
          "2019-07-16T00:00:00",
          "2019-07-17T00:00:00",
          "2019-07-18T00:00:00",
          "2019-07-19T00:00:00",
          "2019-07-22T00:00:00",
          "2019-07-23T00:00:00",
          "2019-07-24T00:00:00",
          "2019-07-25T00:00:00",
          "2019-07-26T00:00:00",
          "2019-07-29T00:00:00",
          "2019-07-30T00:00:00",
          "2019-07-31T00:00:00",
          "2019-08-01T00:00:00",
          "2019-08-02T00:00:00",
          "2019-08-05T00:00:00",
          "2019-08-06T00:00:00",
          "2019-08-07T00:00:00",
          "2019-08-08T00:00:00",
          "2019-08-09T00:00:00",
          "2019-08-12T00:00:00",
          "2019-08-13T00:00:00",
          "2019-08-14T00:00:00",
          "2019-08-15T00:00:00",
          "2019-08-16T00:00:00",
          "2019-08-19T00:00:00",
          "2019-08-20T00:00:00",
          "2019-08-21T00:00:00",
          "2019-08-22T00:00:00",
          "2019-08-23T00:00:00",
          "2019-08-26T00:00:00",
          "2019-08-27T00:00:00",
          "2019-08-28T00:00:00",
          "2019-08-29T00:00:00",
          "2019-08-30T00:00:00",
          "2019-09-03T00:00:00",
          "2019-09-04T00:00:00",
          "2019-09-05T00:00:00",
          "2019-09-06T00:00:00",
          "2019-09-09T00:00:00",
          "2019-09-10T00:00:00",
          "2019-09-11T00:00:00",
          "2019-09-12T00:00:00",
          "2019-09-13T00:00:00",
          "2019-09-16T00:00:00",
          "2019-09-17T00:00:00",
          "2019-09-18T00:00:00",
          "2019-09-19T00:00:00",
          "2019-09-20T00:00:00",
          "2019-09-23T00:00:00",
          "2019-09-24T00:00:00",
          "2019-09-25T00:00:00",
          "2019-09-26T00:00:00",
          "2019-09-27T00:00:00",
          "2019-09-30T00:00:00",
          "2019-10-01T00:00:00",
          "2019-10-02T00:00:00",
          "2019-10-03T00:00:00",
          "2019-10-04T00:00:00",
          "2019-10-07T00:00:00",
          "2019-10-08T00:00:00",
          "2019-10-09T00:00:00",
          "2019-10-10T00:00:00",
          "2019-10-11T00:00:00",
          "2019-10-14T00:00:00",
          "2019-10-15T00:00:00",
          "2019-10-16T00:00:00",
          "2019-10-17T00:00:00",
          "2019-10-18T00:00:00",
          "2019-10-21T00:00:00",
          "2019-10-22T00:00:00",
          "2019-10-23T00:00:00",
          "2019-10-24T00:00:00",
          "2019-10-25T00:00:00",
          "2019-10-28T00:00:00",
          "2019-10-29T00:00:00",
          "2019-10-30T00:00:00",
          "2019-10-31T00:00:00",
          "2019-11-01T00:00:00",
          "2019-11-04T00:00:00",
          "2019-11-05T00:00:00",
          "2019-11-06T00:00:00",
          "2019-11-07T00:00:00",
          "2019-11-08T00:00:00",
          "2019-11-11T00:00:00",
          "2019-11-12T00:00:00",
          "2019-11-13T00:00:00",
          "2019-11-14T00:00:00",
          "2019-11-15T00:00:00",
          "2019-11-18T00:00:00",
          "2019-11-19T00:00:00",
          "2019-11-20T00:00:00",
          "2019-11-21T00:00:00",
          "2019-11-22T00:00:00",
          "2019-11-25T00:00:00",
          "2019-11-26T00:00:00",
          "2019-11-27T00:00:00",
          "2019-11-29T00:00:00",
          "2019-12-02T00:00:00",
          "2019-12-03T00:00:00",
          "2019-12-04T00:00:00",
          "2019-12-05T00:00:00",
          "2019-12-06T00:00:00",
          "2019-12-09T00:00:00",
          "2019-12-10T00:00:00",
          "2019-12-11T00:00:00",
          "2019-12-12T00:00:00",
          "2019-12-13T00:00:00",
          "2019-12-16T00:00:00",
          "2019-12-17T00:00:00",
          "2019-12-18T00:00:00",
          "2019-12-19T00:00:00",
          "2019-12-20T00:00:00",
          "2019-12-23T00:00:00",
          "2019-12-24T00:00:00",
          "2019-12-26T00:00:00",
          "2019-12-27T00:00:00",
          "2019-12-30T00:00:00",
          "2019-12-31T00:00:00",
          "2020-01-02T00:00:00",
          "2020-01-03T00:00:00",
          "2020-01-06T00:00:00",
          "2020-01-07T00:00:00",
          "2020-01-08T00:00:00",
          "2020-01-09T00:00:00",
          "2020-01-10T00:00:00",
          "2020-01-13T00:00:00",
          "2020-01-14T00:00:00",
          "2020-01-15T00:00:00",
          "2020-01-16T00:00:00",
          "2020-01-17T00:00:00",
          "2020-01-21T00:00:00",
          "2020-01-22T00:00:00",
          "2020-01-23T00:00:00",
          "2020-01-24T00:00:00",
          "2020-01-27T00:00:00",
          "2020-01-28T00:00:00",
          "2020-01-29T00:00:00",
          "2020-01-30T00:00:00",
          "2020-01-31T00:00:00",
          "2020-02-03T00:00:00",
          "2020-02-04T00:00:00",
          "2020-02-05T00:00:00",
          "2020-02-06T00:00:00",
          "2020-02-07T00:00:00",
          "2020-02-10T00:00:00",
          "2020-02-11T00:00:00",
          "2020-02-12T00:00:00",
          "2020-02-13T00:00:00",
          "2020-02-14T00:00:00",
          "2020-02-18T00:00:00",
          "2020-02-19T00:00:00",
          "2020-02-20T00:00:00",
          "2020-02-21T00:00:00",
          "2020-02-24T00:00:00",
          "2020-02-25T00:00:00",
          "2020-02-26T00:00:00",
          "2020-02-27T00:00:00",
          "2020-02-28T00:00:00",
          "2020-03-02T00:00:00",
          "2020-03-03T00:00:00",
          "2020-03-04T00:00:00",
          "2020-03-05T00:00:00",
          "2020-03-06T00:00:00",
          "2020-03-09T00:00:00",
          "2020-03-10T00:00:00",
          "2020-03-11T00:00:00",
          "2020-03-12T00:00:00",
          "2020-03-13T00:00:00",
          "2020-03-16T00:00:00",
          "2020-03-17T00:00:00",
          "2020-03-18T00:00:00",
          "2020-03-19T00:00:00",
          "2020-03-20T00:00:00",
          "2020-03-23T00:00:00",
          "2020-03-24T00:00:00",
          "2020-03-25T00:00:00",
          "2020-03-26T00:00:00",
          "2020-03-27T00:00:00",
          "2020-03-30T00:00:00",
          "2020-03-31T00:00:00",
          "2020-04-01T00:00:00",
          "2020-04-02T00:00:00",
          "2020-04-03T00:00:00",
          "2020-04-06T00:00:00",
          "2020-04-07T00:00:00",
          "2020-04-08T00:00:00",
          "2020-04-09T00:00:00",
          "2020-04-13T00:00:00",
          "2020-04-14T00:00:00",
          "2020-04-15T00:00:00",
          "2020-04-16T00:00:00",
          "2020-04-17T00:00:00",
          "2020-04-20T00:00:00",
          "2020-04-21T00:00:00",
          "2020-04-22T00:00:00",
          "2020-04-23T00:00:00",
          "2020-04-24T00:00:00",
          "2020-04-27T00:00:00",
          "2020-04-28T00:00:00",
          "2020-04-29T00:00:00",
          "2020-04-30T00:00:00",
          "2020-05-01T00:00:00",
          "2020-05-04T00:00:00",
          "2020-05-05T00:00:00",
          "2020-05-06T00:00:00",
          "2020-05-07T00:00:00",
          "2020-05-08T00:00:00",
          "2020-05-11T00:00:00",
          "2020-05-12T00:00:00",
          "2020-05-13T00:00:00",
          "2020-05-14T00:00:00",
          "2020-05-15T00:00:00",
          "2020-05-18T00:00:00",
          "2020-05-19T00:00:00",
          "2020-05-20T00:00:00",
          "2020-05-21T00:00:00",
          "2020-05-22T00:00:00",
          "2020-05-26T00:00:00",
          "2020-05-27T00:00:00",
          "2020-05-28T00:00:00",
          "2020-05-29T00:00:00",
          "2020-06-01T00:00:00",
          "2020-06-02T00:00:00",
          "2020-06-03T00:00:00",
          "2020-06-04T00:00:00",
          "2020-06-05T00:00:00",
          "2020-06-08T00:00:00",
          "2020-06-09T00:00:00",
          "2020-06-10T00:00:00",
          "2020-06-11T00:00:00",
          "2020-06-12T00:00:00",
          "2020-06-15T00:00:00",
          "2020-06-16T00:00:00",
          "2020-06-17T00:00:00",
          "2020-06-18T00:00:00",
          "2020-06-19T00:00:00",
          "2020-06-22T00:00:00",
          "2020-06-23T00:00:00",
          "2020-06-24T00:00:00",
          "2020-06-25T00:00:00",
          "2020-06-26T00:00:00",
          "2020-06-29T00:00:00",
          "2020-06-30T00:00:00",
          "2020-07-01T00:00:00",
          "2020-07-02T00:00:00",
          "2020-07-06T00:00:00",
          "2020-07-07T00:00:00",
          "2020-07-08T00:00:00",
          "2020-07-09T00:00:00",
          "2020-07-10T00:00:00",
          "2020-07-13T00:00:00",
          "2020-07-14T00:00:00",
          "2020-07-15T00:00:00",
          "2020-07-16T00:00:00",
          "2020-07-17T00:00:00",
          "2020-07-20T00:00:00",
          "2020-07-21T00:00:00",
          "2020-07-22T00:00:00",
          "2020-07-23T00:00:00",
          "2020-07-24T00:00:00",
          "2020-07-27T00:00:00",
          "2020-07-28T00:00:00",
          "2020-07-29T00:00:00",
          "2020-07-30T00:00:00",
          "2020-07-31T00:00:00",
          "2020-08-03T00:00:00",
          "2020-08-04T00:00:00",
          "2020-08-05T00:00:00",
          "2020-08-06T00:00:00",
          "2020-08-07T00:00:00",
          "2020-08-10T00:00:00",
          "2020-08-11T00:00:00",
          "2020-08-12T00:00:00",
          "2020-08-13T00:00:00",
          "2020-08-14T00:00:00",
          "2020-08-17T00:00:00",
          "2020-08-18T00:00:00",
          "2020-08-19T00:00:00",
          "2020-08-20T00:00:00",
          "2020-08-21T00:00:00",
          "2020-08-24T00:00:00",
          "2020-08-25T00:00:00",
          "2020-08-26T00:00:00",
          "2020-08-27T00:00:00",
          "2020-08-28T00:00:00",
          "2020-08-31T00:00:00",
          "2020-09-01T00:00:00",
          "2020-09-02T00:00:00",
          "2020-09-03T00:00:00",
          "2020-09-04T00:00:00",
          "2020-09-08T00:00:00",
          "2020-09-09T00:00:00",
          "2020-09-10T00:00:00",
          "2020-09-11T00:00:00",
          "2020-09-14T00:00:00",
          "2020-09-15T00:00:00",
          "2020-09-16T00:00:00",
          "2020-09-17T00:00:00",
          "2020-09-18T00:00:00",
          "2020-09-21T00:00:00",
          "2020-09-22T00:00:00",
          "2020-09-23T00:00:00",
          "2020-09-24T00:00:00",
          "2020-09-25T00:00:00",
          "2020-09-28T00:00:00",
          "2020-09-29T00:00:00",
          "2020-09-30T00:00:00",
          "2020-10-01T00:00:00",
          "2020-10-02T00:00:00",
          "2020-10-05T00:00:00",
          "2020-10-06T00:00:00",
          "2020-10-07T00:00:00",
          "2020-10-08T00:00:00",
          "2020-10-09T00:00:00",
          "2020-10-12T00:00:00",
          "2020-10-13T00:00:00",
          "2020-10-14T00:00:00",
          "2020-10-15T00:00:00",
          "2020-10-16T00:00:00",
          "2020-10-19T00:00:00",
          "2020-10-20T00:00:00",
          "2020-10-21T00:00:00",
          "2020-10-22T00:00:00",
          "2020-10-23T00:00:00",
          "2020-10-26T00:00:00",
          "2020-10-27T00:00:00",
          "2020-10-28T00:00:00",
          "2020-10-29T00:00:00",
          "2020-10-30T00:00:00",
          "2020-11-02T00:00:00",
          "2020-11-03T00:00:00",
          "2020-11-04T00:00:00",
          "2020-11-05T00:00:00",
          "2020-11-06T00:00:00",
          "2020-11-09T00:00:00",
          "2020-11-10T00:00:00",
          "2020-11-11T00:00:00",
          "2020-11-12T00:00:00",
          "2020-11-13T00:00:00",
          "2020-11-16T00:00:00",
          "2020-11-17T00:00:00",
          "2020-11-18T00:00:00",
          "2020-11-19T00:00:00",
          "2020-11-20T00:00:00",
          "2020-11-23T00:00:00",
          "2020-11-24T00:00:00",
          "2020-11-25T00:00:00",
          "2020-11-27T00:00:00",
          "2020-11-30T00:00:00",
          "2020-12-01T00:00:00",
          "2020-12-02T00:00:00",
          "2020-12-03T00:00:00",
          "2020-12-04T00:00:00",
          "2020-12-07T00:00:00",
          "2020-12-08T00:00:00",
          "2020-12-09T00:00:00",
          "2020-12-10T00:00:00",
          "2020-12-11T00:00:00",
          "2020-12-14T00:00:00",
          "2020-12-15T00:00:00",
          "2020-12-16T00:00:00",
          "2020-12-17T00:00:00",
          "2020-12-18T00:00:00",
          "2020-12-21T00:00:00",
          "2020-12-22T00:00:00",
          "2020-12-23T00:00:00",
          "2020-12-24T00:00:00",
          "2020-12-28T00:00:00",
          "2020-12-29T00:00:00",
          "2020-12-30T00:00:00",
          "2020-12-31T00:00:00",
          "2021-01-04T00:00:00",
          "2021-01-05T00:00:00",
          "2021-01-06T00:00:00",
          "2021-01-07T00:00:00",
          "2021-01-08T00:00:00",
          "2021-01-11T00:00:00",
          "2021-01-12T00:00:00",
          "2021-01-13T00:00:00",
          "2021-01-14T00:00:00",
          "2021-01-15T00:00:00",
          "2021-01-19T00:00:00",
          "2021-01-20T00:00:00",
          "2021-01-21T00:00:00",
          "2021-01-22T00:00:00",
          "2021-01-25T00:00:00",
          "2021-01-26T00:00:00",
          "2021-01-27T00:00:00",
          "2021-01-28T00:00:00",
          "2021-01-29T00:00:00",
          "2021-02-01T00:00:00",
          "2021-02-02T00:00:00",
          "2021-02-03T00:00:00",
          "2021-02-04T00:00:00",
          "2021-02-05T00:00:00",
          "2021-02-08T00:00:00",
          "2021-02-09T00:00:00",
          "2021-02-10T00:00:00",
          "2021-02-11T00:00:00",
          "2021-02-12T00:00:00",
          "2021-02-16T00:00:00",
          "2021-02-17T00:00:00",
          "2021-02-18T00:00:00",
          "2021-02-19T00:00:00",
          "2021-02-22T00:00:00",
          "2021-02-23T00:00:00",
          "2021-02-24T00:00:00",
          "2021-02-25T00:00:00",
          "2021-02-26T00:00:00",
          "2021-03-01T00:00:00",
          "2021-03-02T00:00:00",
          "2021-03-03T00:00:00",
          "2021-03-04T00:00:00",
          "2021-03-05T00:00:00",
          "2021-03-08T00:00:00",
          "2021-03-09T00:00:00",
          "2021-03-10T00:00:00",
          "2021-03-11T00:00:00",
          "2021-03-12T00:00:00",
          "2021-03-15T00:00:00",
          "2021-03-16T00:00:00",
          "2021-03-17T00:00:00",
          "2021-03-18T00:00:00",
          "2021-03-19T00:00:00",
          "2021-03-22T00:00:00",
          "2021-03-23T00:00:00",
          "2021-03-24T00:00:00",
          "2021-03-25T00:00:00",
          "2021-03-26T00:00:00",
          "2021-03-29T00:00:00",
          "2021-03-30T00:00:00",
          "2021-03-31T00:00:00",
          "2021-04-01T00:00:00",
          "2021-04-05T00:00:00",
          "2021-04-06T00:00:00",
          "2021-04-07T00:00:00",
          "2021-04-08T00:00:00",
          "2021-04-09T00:00:00",
          "2021-04-12T00:00:00",
          "2021-04-13T00:00:00",
          "2021-04-14T00:00:00",
          "2021-04-15T00:00:00",
          "2021-04-16T00:00:00",
          "2021-04-19T00:00:00",
          "2021-04-20T00:00:00",
          "2021-04-21T00:00:00",
          "2021-04-22T00:00:00",
          "2021-04-23T00:00:00",
          "2021-04-26T00:00:00",
          "2021-04-27T00:00:00",
          "2021-04-28T00:00:00",
          "2021-04-29T00:00:00",
          "2021-04-30T00:00:00",
          "2021-05-03T00:00:00",
          "2021-05-04T00:00:00",
          "2021-05-05T00:00:00",
          "2021-05-06T00:00:00",
          "2021-05-07T00:00:00",
          "2021-05-10T00:00:00",
          "2021-05-11T00:00:00",
          "2021-05-12T00:00:00",
          "2021-05-13T00:00:00",
          "2021-05-14T00:00:00",
          "2021-05-17T00:00:00",
          "2021-05-18T00:00:00",
          "2021-05-19T00:00:00",
          "2021-05-20T00:00:00",
          "2021-05-21T00:00:00",
          "2021-05-24T00:00:00",
          "2021-05-25T00:00:00",
          "2021-05-26T00:00:00",
          "2021-05-27T00:00:00",
          "2021-05-28T00:00:00",
          "2021-06-01T00:00:00",
          "2021-06-02T00:00:00",
          "2021-06-03T00:00:00",
          "2021-06-04T00:00:00",
          "2021-06-07T00:00:00",
          "2021-06-08T00:00:00",
          "2021-06-09T00:00:00",
          "2021-06-10T00:00:00",
          "2021-06-11T00:00:00",
          "2021-06-14T00:00:00",
          "2021-06-15T00:00:00",
          "2021-06-16T00:00:00",
          "2021-06-17T00:00:00",
          "2021-06-18T00:00:00",
          "2021-06-21T00:00:00",
          "2021-06-22T00:00:00",
          "2021-06-23T00:00:00",
          "2021-06-24T00:00:00",
          "2021-06-25T00:00:00",
          "2021-06-28T00:00:00",
          "2021-06-29T00:00:00",
          "2021-06-30T00:00:00",
          "2021-07-01T00:00:00",
          "2021-07-02T00:00:00",
          "2021-07-06T00:00:00",
          "2021-07-07T00:00:00",
          "2021-07-08T00:00:00",
          "2021-07-09T00:00:00",
          "2021-07-12T00:00:00",
          "2021-07-13T00:00:00",
          "2021-07-14T00:00:00",
          "2021-07-15T00:00:00",
          "2021-07-16T00:00:00",
          "2021-07-19T00:00:00",
          "2021-07-20T00:00:00",
          "2021-07-21T00:00:00",
          "2021-07-22T00:00:00",
          "2021-07-23T00:00:00",
          "2021-07-26T00:00:00",
          "2021-07-27T00:00:00",
          "2021-07-28T00:00:00",
          "2021-07-29T00:00:00",
          "2021-07-30T00:00:00",
          "2021-08-02T00:00:00",
          "2021-08-03T00:00:00",
          "2021-08-04T00:00:00",
          "2021-08-05T00:00:00",
          "2021-08-06T00:00:00",
          "2021-08-09T00:00:00",
          "2021-08-10T00:00:00",
          "2021-08-11T00:00:00",
          "2021-08-12T00:00:00",
          "2021-08-13T00:00:00",
          "2021-08-16T00:00:00",
          "2021-08-17T00:00:00",
          "2021-08-18T00:00:00",
          "2021-08-19T00:00:00",
          "2021-08-20T00:00:00",
          "2021-08-23T00:00:00",
          "2021-08-24T00:00:00",
          "2021-08-25T00:00:00",
          "2021-08-26T00:00:00",
          "2021-08-27T00:00:00",
          "2021-08-30T00:00:00",
          "2021-08-31T00:00:00",
          "2021-09-01T00:00:00",
          "2021-09-02T00:00:00",
          "2021-09-03T00:00:00",
          "2021-09-07T00:00:00",
          "2021-09-08T00:00:00",
          "2021-09-09T00:00:00",
          "2021-09-10T00:00:00",
          "2021-09-13T00:00:00",
          "2021-09-14T00:00:00",
          "2021-09-15T00:00:00",
          "2021-09-16T00:00:00",
          "2021-09-17T00:00:00",
          "2021-09-20T00:00:00",
          "2021-09-21T00:00:00",
          "2021-09-22T00:00:00",
          "2021-09-23T00:00:00",
          "2021-09-24T00:00:00",
          "2021-09-27T00:00:00",
          "2021-09-28T00:00:00",
          "2021-09-29T00:00:00",
          "2021-09-30T00:00:00",
          "2021-10-01T00:00:00",
          "2021-10-04T00:00:00",
          "2021-10-05T00:00:00",
          "2021-10-06T00:00:00",
          "2021-10-07T00:00:00",
          "2021-10-08T00:00:00",
          "2021-10-11T00:00:00",
          "2021-10-12T00:00:00",
          "2021-10-13T00:00:00",
          "2021-10-14T00:00:00",
          "2021-10-15T00:00:00",
          "2021-10-18T00:00:00",
          "2021-10-19T00:00:00",
          "2021-10-20T00:00:00",
          "2021-10-21T00:00:00",
          "2021-10-22T00:00:00",
          "2021-10-25T00:00:00",
          "2021-10-26T00:00:00",
          "2021-10-27T00:00:00",
          "2021-10-28T00:00:00",
          "2021-10-29T00:00:00",
          "2021-11-01T00:00:00",
          "2021-11-02T00:00:00",
          "2021-11-03T00:00:00",
          "2021-11-04T00:00:00",
          "2021-11-05T00:00:00",
          "2021-11-08T00:00:00",
          "2021-11-09T00:00:00",
          "2021-11-10T00:00:00",
          "2021-11-11T00:00:00",
          "2021-11-12T00:00:00",
          "2021-11-15T00:00:00",
          "2021-11-16T00:00:00",
          "2021-11-17T00:00:00",
          "2021-11-18T00:00:00",
          "2021-11-19T00:00:00",
          "2021-11-22T00:00:00",
          "2021-11-23T00:00:00",
          "2021-11-24T00:00:00",
          "2021-11-26T00:00:00",
          "2021-11-29T00:00:00",
          "2021-11-30T00:00:00",
          "2021-12-01T00:00:00",
          "2021-12-02T00:00:00",
          "2021-12-03T00:00:00",
          "2021-12-06T00:00:00",
          "2021-12-07T00:00:00",
          "2021-12-08T00:00:00",
          "2021-12-09T00:00:00",
          "2021-12-10T00:00:00",
          "2021-12-13T00:00:00",
          "2021-12-14T00:00:00",
          "2021-12-15T00:00:00",
          "2021-12-16T00:00:00",
          "2021-12-17T00:00:00",
          "2021-12-20T00:00:00",
          "2021-12-21T00:00:00",
          "2021-12-22T00:00:00",
          "2021-12-23T00:00:00",
          "2021-12-27T00:00:00",
          "2021-12-28T00:00:00",
          "2021-12-29T00:00:00",
          "2021-12-30T00:00:00",
          "2021-12-31T00:00:00",
          "2022-01-03T00:00:00",
          "2022-01-04T00:00:00",
          "2022-01-05T00:00:00",
          "2022-01-06T00:00:00",
          "2022-01-07T00:00:00",
          "2022-01-10T00:00:00",
          "2022-01-11T00:00:00",
          "2022-01-12T00:00:00",
          "2022-01-13T00:00:00",
          "2022-01-14T00:00:00",
          "2022-01-18T00:00:00",
          "2022-01-19T00:00:00",
          "2022-01-20T00:00:00",
          "2022-01-21T00:00:00",
          "2022-01-24T00:00:00",
          "2022-01-25T00:00:00",
          "2022-01-26T00:00:00",
          "2022-01-27T00:00:00",
          "2022-01-28T00:00:00",
          "2022-01-31T00:00:00",
          "2022-02-01T00:00:00",
          "2022-02-02T00:00:00",
          "2022-02-03T00:00:00",
          "2022-02-04T00:00:00",
          "2022-02-07T00:00:00",
          "2022-02-08T00:00:00",
          "2022-02-09T00:00:00",
          "2022-02-10T00:00:00",
          "2022-02-11T00:00:00",
          "2022-02-14T00:00:00",
          "2022-02-15T00:00:00",
          "2022-02-16T00:00:00",
          "2022-02-17T00:00:00",
          "2022-02-18T00:00:00",
          "2022-02-22T00:00:00",
          "2022-02-23T00:00:00",
          "2022-02-24T00:00:00",
          "2022-02-25T00:00:00",
          "2022-02-28T00:00:00",
          "2022-03-01T00:00:00",
          "2022-03-02T00:00:00",
          "2022-03-03T00:00:00",
          "2022-03-04T00:00:00",
          "2022-03-07T00:00:00",
          "2022-03-08T00:00:00",
          "2022-03-09T00:00:00",
          "2022-03-10T00:00:00",
          "2022-03-11T00:00:00",
          "2022-03-14T00:00:00",
          "2022-03-15T00:00:00",
          "2022-03-16T00:00:00",
          "2022-03-17T00:00:00",
          "2022-03-18T00:00:00",
          "2022-03-21T00:00:00",
          "2022-03-22T00:00:00",
          "2022-03-23T00:00:00",
          "2022-03-24T00:00:00",
          "2022-03-25T00:00:00",
          "2022-03-28T00:00:00",
          "2022-03-29T00:00:00",
          "2022-03-30T00:00:00",
          "2022-03-31T00:00:00",
          "2022-04-01T00:00:00",
          "2022-04-04T00:00:00",
          "2022-04-05T00:00:00",
          "2022-04-06T00:00:00",
          "2022-04-07T00:00:00",
          "2022-04-08T00:00:00",
          "2022-04-11T00:00:00",
          "2022-04-12T00:00:00",
          "2022-04-13T00:00:00",
          "2022-04-14T00:00:00",
          "2022-04-18T00:00:00",
          "2022-04-19T00:00:00",
          "2022-04-20T00:00:00",
          "2022-04-21T00:00:00",
          "2022-04-22T00:00:00",
          "2022-04-25T00:00:00",
          "2022-04-26T00:00:00",
          "2022-04-27T00:00:00",
          "2022-04-28T00:00:00",
          "2022-04-29T00:00:00",
          "2022-05-02T00:00:00",
          "2022-05-03T00:00:00",
          "2022-05-04T00:00:00",
          "2022-05-05T00:00:00",
          "2022-05-06T00:00:00",
          "2022-05-09T00:00:00",
          "2022-05-10T00:00:00",
          "2022-05-11T00:00:00",
          "2022-05-12T00:00:00",
          "2022-05-13T00:00:00",
          "2022-05-16T00:00:00",
          "2022-05-17T00:00:00",
          "2022-05-18T00:00:00",
          "2022-05-19T00:00:00",
          "2022-05-20T00:00:00",
          "2022-05-23T00:00:00",
          "2022-05-24T00:00:00",
          "2022-05-25T00:00:00",
          "2022-05-26T00:00:00",
          "2022-05-27T00:00:00",
          "2022-05-31T00:00:00",
          "2022-06-01T00:00:00",
          "2022-06-02T00:00:00",
          "2022-06-03T00:00:00",
          "2022-06-06T00:00:00",
          "2022-06-07T00:00:00",
          "2022-06-08T00:00:00",
          "2022-06-09T00:00:00",
          "2022-06-10T00:00:00",
          "2022-06-13T00:00:00",
          "2022-06-14T00:00:00",
          "2022-06-15T00:00:00",
          "2022-06-16T00:00:00",
          "2022-06-17T00:00:00",
          "2022-06-21T00:00:00",
          "2022-06-22T00:00:00",
          "2022-06-23T00:00:00",
          "2022-06-24T00:00:00",
          "2022-06-27T00:00:00",
          "2022-06-28T00:00:00",
          "2022-06-29T00:00:00",
          "2022-06-30T00:00:00",
          "2022-07-01T00:00:00",
          "2022-07-05T00:00:00",
          "2022-07-06T00:00:00",
          "2022-07-07T00:00:00",
          "2022-07-08T00:00:00",
          "2022-07-11T00:00:00",
          "2022-07-12T00:00:00",
          "2022-07-13T00:00:00",
          "2022-07-14T00:00:00",
          "2022-07-15T00:00:00",
          "2022-07-18T00:00:00",
          "2022-07-19T00:00:00",
          "2022-07-20T00:00:00",
          "2022-07-21T00:00:00",
          "2022-07-22T00:00:00",
          "2022-07-25T00:00:00",
          "2022-07-26T00:00:00",
          "2022-07-27T00:00:00",
          "2022-07-28T00:00:00",
          "2022-07-29T00:00:00",
          "2022-08-01T00:00:00",
          "2022-08-02T00:00:00",
          "2022-08-03T00:00:00",
          "2022-08-04T00:00:00",
          "2022-08-05T00:00:00",
          "2022-08-08T00:00:00",
          "2022-08-09T00:00:00",
          "2022-08-10T00:00:00",
          "2022-08-11T00:00:00",
          "2022-08-12T00:00:00",
          "2022-08-15T00:00:00",
          "2022-08-16T00:00:00",
          "2022-08-17T00:00:00",
          "2022-08-18T00:00:00",
          "2022-08-19T00:00:00",
          "2022-08-22T00:00:00",
          "2022-08-23T00:00:00",
          "2022-08-24T00:00:00",
          "2022-08-25T00:00:00",
          "2022-08-26T00:00:00",
          "2022-08-29T00:00:00",
          "2022-08-30T00:00:00",
          "2022-08-31T00:00:00",
          "2022-09-01T00:00:00",
          "2022-09-02T00:00:00",
          "2022-09-06T00:00:00",
          "2022-09-07T00:00:00",
          "2022-09-08T00:00:00",
          "2022-09-09T00:00:00",
          "2022-09-12T00:00:00",
          "2022-09-13T00:00:00",
          "2022-09-14T00:00:00",
          "2022-09-15T00:00:00",
          "2022-09-16T00:00:00",
          "2022-09-19T00:00:00",
          "2022-09-20T00:00:00",
          "2022-09-21T00:00:00",
          "2022-09-22T00:00:00",
          "2022-09-23T00:00:00",
          "2022-09-26T00:00:00",
          "2022-09-27T00:00:00",
          "2022-09-28T00:00:00",
          "2022-09-29T00:00:00",
          "2022-09-30T00:00:00",
          "2022-10-03T00:00:00",
          "2022-10-04T00:00:00",
          "2022-10-05T00:00:00",
          "2022-10-06T00:00:00",
          "2022-10-07T00:00:00",
          "2022-10-10T00:00:00",
          "2022-10-11T00:00:00",
          "2022-10-12T00:00:00",
          "2022-10-13T00:00:00",
          "2022-10-14T00:00:00",
          "2022-10-17T00:00:00",
          "2022-10-18T00:00:00",
          "2022-10-19T00:00:00",
          "2022-10-20T00:00:00",
          "2022-10-21T00:00:00",
          "2022-10-24T00:00:00",
          "2022-10-25T00:00:00",
          "2022-10-26T00:00:00",
          "2022-10-27T00:00:00",
          "2022-10-28T00:00:00",
          "2022-10-31T00:00:00",
          "2022-11-01T00:00:00",
          "2022-11-02T00:00:00",
          "2022-11-03T00:00:00",
          "2022-11-04T00:00:00",
          "2022-11-07T00:00:00",
          "2022-11-08T00:00:00",
          "2022-11-09T00:00:00",
          "2022-11-10T00:00:00",
          "2022-11-11T00:00:00",
          "2022-11-14T00:00:00",
          "2022-11-15T00:00:00",
          "2022-11-16T00:00:00",
          "2022-11-17T00:00:00",
          "2022-11-18T00:00:00",
          "2022-11-21T00:00:00",
          "2022-11-22T00:00:00",
          "2022-11-23T00:00:00",
          "2022-11-25T00:00:00",
          "2022-11-28T00:00:00",
          "2022-11-29T00:00:00",
          "2022-11-30T00:00:00",
          "2022-12-01T00:00:00",
          "2022-12-02T00:00:00",
          "2022-12-05T00:00:00",
          "2022-12-06T00:00:00",
          "2022-12-07T00:00:00",
          "2022-12-08T00:00:00",
          "2022-12-09T00:00:00",
          "2022-12-12T00:00:00",
          "2022-12-13T00:00:00",
          "2022-12-14T00:00:00",
          "2022-12-15T00:00:00",
          "2022-12-16T00:00:00",
          "2022-12-19T00:00:00",
          "2022-12-20T00:00:00",
          "2022-12-21T00:00:00",
          "2022-12-22T00:00:00",
          "2022-12-23T00:00:00",
          "2022-12-27T00:00:00",
          "2022-12-28T00:00:00",
          "2022-12-29T00:00:00",
          "2022-12-30T00:00:00",
          "2023-01-03T00:00:00",
          "2023-01-04T00:00:00",
          "2023-01-05T00:00:00",
          "2023-01-06T00:00:00",
          "2023-01-09T00:00:00",
          "2023-01-10T00:00:00",
          "2023-01-11T00:00:00",
          "2023-01-12T00:00:00",
          "2023-01-13T00:00:00",
          "2023-01-17T00:00:00",
          "2023-01-18T00:00:00",
          "2023-01-19T00:00:00",
          "2023-01-20T00:00:00",
          "2023-01-23T00:00:00",
          "2023-01-24T00:00:00",
          "2023-01-25T00:00:00",
          "2023-01-26T00:00:00",
          "2023-01-27T00:00:00",
          "2023-01-30T00:00:00",
          "2023-01-31T00:00:00",
          "2023-02-01T00:00:00",
          "2023-02-02T00:00:00",
          "2023-02-03T00:00:00",
          "2023-02-06T00:00:00",
          "2023-02-07T00:00:00",
          "2023-02-08T00:00:00",
          "2023-02-09T00:00:00",
          "2023-02-10T00:00:00",
          "2023-02-13T00:00:00",
          "2023-02-14T00:00:00",
          "2023-02-15T00:00:00",
          "2023-02-16T00:00:00",
          "2023-02-17T00:00:00",
          "2023-02-21T00:00:00",
          "2023-02-22T00:00:00",
          "2023-02-23T00:00:00",
          "2023-02-24T00:00:00",
          "2023-02-27T00:00:00",
          "2023-02-28T00:00:00",
          "2023-03-01T00:00:00",
          "2023-03-02T00:00:00",
          "2023-03-03T00:00:00",
          "2023-03-06T00:00:00",
          "2023-03-07T00:00:00",
          "2023-03-08T00:00:00",
          "2023-03-09T00:00:00",
          "2023-03-10T00:00:00",
          "2023-03-13T00:00:00",
          "2023-03-14T00:00:00",
          "2023-03-15T00:00:00",
          "2023-03-16T00:00:00",
          "2023-03-17T00:00:00",
          "2023-03-20T00:00:00",
          "2023-03-21T00:00:00",
          "2023-03-22T00:00:00",
          "2023-03-23T00:00:00",
          "2023-03-24T00:00:00",
          "2023-03-27T00:00:00",
          "2023-03-28T00:00:00",
          "2023-03-29T00:00:00",
          "2023-03-30T00:00:00",
          "2023-03-31T00:00:00",
          "2023-04-03T00:00:00",
          "2023-04-04T00:00:00",
          "2023-04-05T00:00:00",
          "2023-04-06T00:00:00",
          "2023-04-10T00:00:00",
          "2023-04-11T00:00:00",
          "2023-04-12T00:00:00",
          "2023-04-13T00:00:00",
          "2023-04-14T00:00:00",
          "2023-04-17T00:00:00",
          "2023-04-18T00:00:00",
          "2023-04-19T00:00:00",
          "2023-04-20T00:00:00",
          "2023-04-21T00:00:00",
          "2023-04-24T00:00:00",
          "2023-04-25T00:00:00",
          "2023-04-26T00:00:00",
          "2023-04-27T00:00:00",
          "2023-04-28T00:00:00",
          "2023-05-01T00:00:00",
          "2023-05-02T00:00:00",
          "2023-05-03T00:00:00"
         ],
         "xaxis": "x",
         "y": [
          26.734413747724187,
          26.78915518648212,
          26.7660322035756,
          26.7487930146665,
          26.73269252323681,
          26.869528117065503,
          26.869353170739803,
          26.870057016534737,
          26.884708010477308,
          26.891052048452824,
          26.907750058173857,
          26.91455788147014,
          26.916656293920177,
          26.96593962064865,
          26.958599636169634,
          26.946916785015148,
          26.931143752117986,
          26.897478467700537,
          26.918236016795102,
          26.96257622395656,
          27.078349954849628,
          27.08689966088574,
          27.08161307466592,
          27.09266056964404,
          27.089226940525894,
          27.091533124823677,
          27.072574429590954,
          27.05968446670471,
          27.054808526273,
          27.057103121305104,
          27.07608754028309,
          27.071237243182775,
          27.071446044466366,
          27.063367552569968,
          27.013721357236793,
          27.039099844925815,
          27.054586293715307,
          27.049184497709422,
          27.059561682402155,
          27.06840263028899,
          27.081334476665642,
          27.087240741787518,
          27.072404932070604,
          27.03342747268692,
          27.030710983868982,
          27.003938341308817,
          27.003283232379136,
          27.031728923871338,
          27.022308920178215,
          27.022858382435544,
          27.04054376352408,
          27.032946511843356,
          27.048546833328174,
          27.040264050844012,
          27.046069849433366,
          27.060584198881624,
          27.034548507111932,
          27.027580024219418,
          26.997988786204324,
          27.014821782019666,
          27.032630128713166,
          27.056638815583955,
          27.084703404203033,
          27.253639142615366,
          27.300106313795947,
          27.333781871687044,
          27.410297475946727,
          27.432073835962434,
          27.469759052325415,
          27.491574446660497,
          27.638867004470594,
          27.660907405460687,
          27.704993716114164,
          27.736616050968333,
          27.736734404992244,
          27.75127775161157,
          27.754853047007632,
          27.878095474377304,
          27.880603362108552,
          27.902323936129235,
          27.919459559357254,
          27.944143010000275,
          27.9716783398667,
          27.99345128726063,
          28.001412130817297,
          28.06015679432728,
          28.051655080600597,
          28.136039513289642,
          28.213741519975297,
          28.228181590529463,
          28.234245013725335,
          28.230883338718844,
          28.265483991689337,
          28.28218866831598,
          28.254323378469905,
          28.251571054898903,
          28.25814228762634,
          28.229057969414466,
          28.23922588345333,
          28.24098153400387,
          28.24981307242325,
          28.26461748303172,
          28.25251990386579,
          28.297763894293674,
          28.348504644870378,
          28.33425667279352,
          28.348734968006163,
          28.330546780393536,
          28.366520647088148,
          28.187684025282568,
          28.084425098019047,
          28.10653104616376,
          28.090371744412195,
          28.007416822961698,
          27.998721386846277,
          27.946793588708115,
          27.90957987316384,
          27.895608410595905,
          27.918510843953467,
          27.690596950967112,
          27.61749275307743,
          27.548678679627553,
          27.51248519818848,
          27.408577140323473,
          27.375315695762637,
          27.304955896583326,
          27.329828784410097,
          27.344940402045875,
          27.338466515051195,
          27.25621250588126,
          27.308832176082994,
          27.286963203260132,
          27.20404631755616,
          27.204678812201596,
          27.18696147017106,
          27.128618319893892,
          27.10840275347316,
          27.00606949103105,
          26.91641871856214,
          26.907410333976518,
          26.908748646701692,
          26.86271379086848,
          26.861079342765755,
          26.784843442187302,
          26.766246178697703,
          26.73074262024525,
          26.698735070807935,
          26.4747112352986,
          26.439100049190422,
          26.38210301191932,
          26.376767396426086,
          26.37559786574817,
          26.356852534351177,
          26.3334211228791,
          26.306997719253808,
          26.18163434960537,
          26.170970153929755,
          26.09973099410887,
          26.01688886937179,
          25.929550932340963,
          25.729608050429437,
          25.325661732124058,
          25.294914488693184,
          25.287009256000342,
          25.266801039619242,
          25.199773501430872,
          25.029306227325108,
          24.822765095959884,
          24.8023593183385,
          24.76217670756024,
          24.74572214965492,
          24.73540367900277,
          24.73563731180534,
          24.697988838344397,
          24.678911466171552,
          24.66539895899387,
          24.659814174611945,
          24.613678225966517,
          24.5484049757181,
          24.542901799945803,
          24.44259296739828,
          24.406419216857554,
          24.430035641709548,
          24.47759879683414,
          24.437877791164684,
          24.397090449732545,
          24.412055200210773,
          24.505809717617282,
          24.522903733536715,
          24.576861858099456,
          24.604967752109097,
          24.626212819165833,
          24.663196759753838,
          24.6263176619944,
          24.648607103966715,
          24.650079035766534,
          24.63157486276187,
          24.649738591243498,
          24.6417758821934,
          24.676858905920735,
          24.697439209236556,
          24.73280666735286,
          24.960840127890915,
          25.215852900741215,
          25.259473897309142,
          25.62753521654949,
          25.751820811868818,
          26.170718956124,
          26.3232321608975,
          26.693432315701276,
          27.035436097719355,
          27.17277557252786,
          29.015991977974558,
          29.54051452076207,
          30.179553823143788,
          32.13932966506034,
          33.50855436162723,
          36.29279261795632,
          37.2573943669585,
          38.50150417928478,
          39.15617557017041,
          39.73184367238617,
          40.179577754055494,
          42.214114419691036,
          42.60070742059071,
          43.2426928748695,
          43.47153160388374,
          43.68304977293079,
          43.79733147490152,
          44.210679291358296,
          44.36451842740151,
          44.47413320888829,
          45.382012546748655,
          45.47833788931326,
          45.78183213689081,
          45.92484472835129,
          46.039996152783694,
          46.128337138980875,
          46.267953722481614,
          46.34795985596048,
          46.61737772341313,
          46.68088261508426,
          46.79492634201193,
          46.85876418452287,
          46.90321839949153,
          46.94201275111264,
          47.05435020576606,
          47.126990270273474,
          47.34437350533793,
          47.42754481802469,
          47.581978258309604,
          47.558858364975414,
          47.60251077266755,
          47.671569037733,
          47.7604718375451,
          47.79814872381637,
          47.83802263858031,
          47.93026567581531,
          48.02936243875794,
          48.075177271957735,
          48.08695549611317,
          48.48387578083826,
          48.50644815250535,
          48.537571838700664,
          48.58039925738801,
          48.574675574754856,
          48.76606646371784,
          48.86035266741897,
          48.89500558903606,
          48.895401073181006,
          48.86241631727514,
          48.86950942322593,
          48.989693899675416,
          49.0558516066837,
          49.21425666893467,
          49.30725628925897,
          49.38181283663812,
          49.465543120179326,
          49.94388072336673,
          50.01487660806749,
          50.02195119197368,
          50.06987863767818,
          50.08556030549702,
          50.088803394062786,
          50.12572362776649,
          50.1191932791405,
          50.1059623219885,
          50.22105551910226,
          50.241883690735236,
          50.30332718109014,
          50.35134558570101,
          50.36979577368002,
          50.40590159706707,
          50.40960090606968,
          50.440171737400284,
          50.47941987363748,
          50.485064422095405,
          50.52478573915065,
          50.57918407775903,
          50.6083234128734,
          50.63804057803365,
          50.72294954611814,
          50.72386012983145,
          50.74423936277755,
          50.75483128688667,
          50.75822169484526,
          50.7457100771007,
          50.74278248617562,
          50.7589961752722,
          50.75384468000762,
          50.75086040830414,
          50.76324596755418,
          50.773281048912416,
          50.693296066609825,
          50.67039226066011,
          50.67050301844943,
          50.66515820453396,
          50.67689304598531,
          50.69436736113225,
          50.72420105482205,
          50.651631774376156,
          50.65062186290452,
          50.639214743963535,
          50.6219300191181,
          50.627949596237364,
          50.616950080604724,
          50.624457377569094,
          50.56003233465804,
          50.55721547582378,
          50.58717003866506,
          50.585473131673545,
          50.59327965041992,
          50.60674637052493,
          50.5983627914523,
          50.600939048995656,
          50.58217413181491,
          50.62809056768488,
          50.691897069793434,
          50.670645983631445,
          50.73499624859322,
          50.75887323655175,
          50.78636261992688,
          50.774476227500536,
          50.801968044019524,
          50.8176104759959,
          50.84702639381469,
          50.86376566886941,
          50.88594676785097,
          50.966699561325306,
          50.976251094184796,
          51.03492400906539,
          51.0298239910526,
          51.05936792444613,
          51.063747125401775,
          51.03842926042914,
          51.04153685290991,
          51.042903080375915,
          51.07138262899833,
          51.07301581443092,
          51.08428222043921,
          51.11160152378275,
          51.10991937271487,
          51.121400272142346,
          51.124659038844115,
          51.14533157277245,
          51.14638545808434,
          51.15351032689043,
          51.15369321734536,
          51.130468389362946,
          51.12780038314737,
          51.11073574322784,
          51.14616907757129,
          51.14020515062414,
          51.17840956163892,
          51.176766047550025,
          51.27838433023658,
          51.2693701207831,
          51.27874654506895,
          51.323937085410364,
          51.381046101130885,
          51.47996689150287,
          51.55161824148447,
          51.576144439167,
          52.23403462910322,
          52.29343564580631,
          52.33612532797558,
          52.357365732626846,
          52.40769161643834,
          52.461241193820065,
          52.46801159100937,
          52.489565822199815,
          52.50535449618006,
          52.503668888411774,
          52.53798539408268,
          52.61684575609494,
          52.630123917098146,
          52.62957117504079,
          52.65403699524333,
          52.667199199680006,
          52.687230923364474,
          52.69827058218292,
          52.73170059763623,
          52.74193398626297,
          52.74861088241364,
          52.74676803985687,
          52.754973211028144,
          52.7565870674639,
          52.77245625781007,
          52.79624593905936,
          52.796182188267984,
          52.79985526720264,
          52.80995171232745,
          52.83104588062148,
          52.84976231861517,
          52.870727421138774,
          52.87028907863739,
          52.88501547201958,
          52.87291776466415,
          52.864223505800524,
          52.870515052897844,
          52.910278701927425,
          52.92850369056047,
          53.04067432390582,
          53.07468021909096,
          53.07873478774856,
          53.09230097546244,
          53.11666071590521,
          53.12848587746868,
          53.15359698144379,
          53.169192808973996,
          53.18969313612513,
          53.20512208648521,
          53.20477685606092,
          53.17806457498277,
          53.18427643860533,
          53.20157209933733,
          53.30893243306535,
          53.33727947073255,
          53.37460362892708,
          53.37222207216386,
          53.36413091221382,
          53.36762715370555,
          53.38225962938828,
          53.39612081712961,
          53.40618638346024,
          53.403936750848864,
          53.40937672390325,
          53.42417605928862,
          53.42383899569323,
          53.42179632679273,
          53.40136422879448,
          53.40124174268719,
          53.32175432619541,
          53.244816894964906,
          53.229133236753746,
          53.07974102369458,
          53.09940781184269,
          52.92696540719817,
          52.89233388031934,
          52.71292258272077,
          52.59209588940047,
          52.56438005097174,
          51.64105503474167,
          51.410211124380474,
          51.09299585901916,
          49.89669441463477,
          49.02126833372526,
          46.99422841473464,
          46.25340901860274,
          45.183430026870944,
          44.613089167686844,
          44.14202291647691,
          43.710379326081174,
          41.87939529499217,
          41.57464870416438,
          40.95316296975337,
          40.688736625406634,
          40.543304671852546,
          40.42537500498289,
          39.94982607397101,
          39.793066378646586,
          39.66456665495031,
          38.69864836703789,
          38.601257365156094,
          38.26198336322552,
          38.07296193928831,
          37.915889861647315,
          37.766837576621356,
          37.54274638031383,
          37.43913364831985,
          37.14895197036081,
          37.02310617677914,
          36.85397466815344,
          36.778167439895974,
          36.731593320549614,
          36.702062789350606,
          36.577073193013554,
          36.46735186445396,
          36.212766000251044,
          36.0805718967884,
          35.889351217639216,
          35.883595672268235,
          35.835727462936454,
          35.77358181392334,
          35.67680796520647,
          35.562352587396234,
          35.50682811083427,
          35.39179513665415,
          35.2618236394925,
          35.30591802300557,
          35.29799892747785,
          34.820610993254746,
          34.7708351403017,
          34.71776066336155,
          34.68510160502049,
          34.68642829705993,
          34.43343674893777,
          34.307327881300786,
          34.22097469511785,
          34.16195303401638,
          34.12505547722932,
          34.0845833471465,
          33.94751198113596,
          33.86346781981275,
          33.641770683185385,
          33.51653759465946,
          33.417805682937825,
          33.280353713619405,
          32.52100379474408,
          32.42830822509879,
          32.389874058581015,
          32.329269974849716,
          32.281719516549536,
          32.28279728559938,
          32.28177219326003,
          32.32540715170765,
          32.36417157462797,
          32.14660099739338,
          32.0998256321227,
          31.981343692482085,
          31.913749151599273,
          31.90025020771088,
          31.845219185677056,
          31.835634454682513,
          31.796470095632873,
          31.715123774210895,
          31.721628120003604,
          31.62861370242692,
          31.577190844497824,
          31.56053149988494,
          31.48584287223259,
          31.359869547982118,
          31.34863901096081,
          31.322125525321667,
          31.299640896914106,
          31.331605083395804,
          31.35677813266611,
          31.358403771158684,
          31.34222904750417,
          31.311799934154354,
          31.27183224746314,
          31.18740062786143,
          31.124416030613123,
          31.114082167173684,
          31.108123857748005,
          31.07203647269941,
          31.04661284988175,
          31.031880527069927,
          31.017904619107327,
          30.957313119766948,
          30.921844577242307,
          30.910989844253713,
          30.901480269530825,
          30.90192012855865,
          30.878711361207387,
          30.875456977734082,
          30.886284607033186,
          30.890503690591164,
          30.910518905863093,
          30.84801574017181,
          30.857523786773903,
          30.82478415710515,
          30.787545699299102,
          30.78550048456064,
          30.763030393362467,
          30.740144047545932,
          30.665520520587386,
          30.494429583257403,
          30.477846726199846,
          30.341942926680712,
          30.31527670458344,
          30.272497354252508,
          30.2733243296029,
          30.226305062771807,
          30.21780266892305,
          30.198169688268344,
          30.18959460800061,
          30.15128535900172,
          30.000482045946317,
          30.028072005522127,
          29.91063793019513,
          29.919303483173486,
          29.908038235301643,
          29.849314413323,
          29.87643613302208,
          29.91986620973529,
          29.90426027979209,
          29.927797529754574,
          29.901102068595748,
          29.903299380955414,
          29.85656948486067,
          29.818104510527597,
          29.81648805244403,
          29.808636813376733,
          29.773091935388535,
          29.77288828662419,
          29.754198075624526,
          29.791814399569585,
          29.75904538092299,
          29.752072690608017,
          29.732527111584357,
          29.643948134867415,
          29.662280777689375,
          29.556990847863656,
          29.491293332292777,
          29.279281380258695,
          29.30681096981611,
          29.298927706419533,
          29.218951106202173,
          29.129217223553386,
          28.955030211165088,
          28.86779099899738,
          28.887967510245645,
          27.76498359948061,
          27.665095944888634,
          27.589103110770772,
          27.551531805035655,
          27.470940734374192,
          27.373360122432707,
          27.353978306867138,
          27.317633879070275,
          27.30551064537944,
          27.302829219803577,
          27.256783250536028,
          27.14737826312343,
          27.15464747483476,
          27.151456516505867,
          27.256108813640523,
          27.259512687319052,
          27.37370668206481,
          27.408904348557016,
          27.47643637586589,
          27.492128715094015,
          27.5483939370779,
          27.584515392644672,
          27.574820008619202,
          27.5728697443972,
          27.562409375849587,
          27.559056901262373,
          27.569185952322602,
          27.59792538523278,
          27.62886821706827,
          27.661679936931723,
          27.69489767531153,
          27.770656171872915,
          27.78536547060553,
          27.770654994918047,
          27.791583249642528,
          27.78271836547239,
          27.762160367096687,
          27.65500292805187,
          27.60537073995984,
          27.45523162074873,
          27.462817698795842,
          27.53807124264475,
          27.556684743406638,
          27.55875593915427,
          27.557108032684166,
          27.548247071804898,
          27.505067953239912,
          27.51385475820171,
          27.50581958304884,
          27.55988287367444,
          27.58588122130078,
          27.594761364980954,
          27.616408817630692,
          27.419029483623774,
          27.36059203121632,
          27.299721378749474,
          27.305079973863002,
          27.35592715746315,
          27.3988776328873,
          27.355337813858625,
          27.384997512130074,
          27.453528430566976,
          27.495667054360805,
          27.483996535376736,
          27.481443070487643,
          27.54317372574608,
          27.576811748541694,
          27.64826091134305,
          27.623965661370974,
          27.638775427536544,
          27.563238009579475,
          27.645022363288017,
          27.57298863358952,
          27.4749067000711,
          27.496635442778874,
          27.523689074513648,
          27.66505130514726,
          27.707754009634343,
          27.764756735164735,
          27.754093579837367,
          27.702640050000202,
          27.71360134575403,
          27.947625816808273,
          28.022141209661243,
          28.154730692158193,
          28.14490514708103,
          28.147494423260934,
          28.17686890842017,
          28.178912766081318,
          28.30612815830528,
          28.323315741450134,
          28.281801691056273,
          28.276809992151392,
          28.24787809052001,
          28.183171066868404,
          28.18806032440409,
          28.18423692733078,
          28.18340155589863,
          28.21590147220419,
          28.202875017290992,
          28.25183665649363,
          28.283733693337883,
          28.298252955748286,
          28.335001148367503,
          28.388542922723126,
          28.406436783386926,
          28.420539554724908,
          28.437327899933255,
          28.440517407381463,
          28.46889683070947,
          28.45711645181883,
          28.42838581949955,
          28.487499996847312,
          28.529949185782947,
          28.59851996458978,
          28.772802612788855,
          28.774842643140996,
          28.86836411556157,
          28.875644910955327,
          28.989780931835593,
          29.151668176496223,
          29.163534774487175,
          29.18407105115192,
          29.340255255931915,
          29.531942389042758,
          29.576404090168918,
          29.73171313235165,
          29.723620880336835,
          29.76161788825236,
          29.80381835553829,
          29.917340047035474,
          29.922633451933187,
          30.019563600028846,
          30.359104340014067,
          30.397214422962733,
          30.437087179365534,
          30.49393107934433,
          30.54453873110924,
          30.59372818585415,
          30.686065043225604,
          30.780678170965206,
          30.80123704299644,
          30.826718214421785,
          30.875630279014334,
          30.902911356062,
          30.900064675345078,
          30.899158095927362,
          30.94768007094427,
          31.03503937220237,
          31.176898250290222,
          31.457316335139286,
          31.431997125348353,
          31.410910027629072,
          31.579766470631014,
          31.640818847764034,
          31.733251003734395,
          31.757806448113175,
          31.839578776951235,
          32.01691436384245,
          32.02476827977994,
          32.08015823011064,
          32.10034889768959,
          32.126176346422326,
          32.14995597407702,
          32.21436119357571,
          32.208140601629516,
          32.22031908388184,
          32.21994695244492,
          32.22375300376573,
          32.24981471414943,
          32.250458340064554,
          32.259182631205036,
          32.26176158232704,
          32.19698929805569,
          32.3105363360898,
          32.32838744445605,
          32.36665978739422,
          32.37613523909831,
          32.37654757575433,
          32.40294132251553,
          32.4922662445949,
          32.59442435154923,
          32.64113490299206,
          32.613616007069965,
          32.608891933265966,
          32.62901494683256,
          32.67133027577577,
          32.6848031683524,
          32.67178582429302,
          32.695287850811,
          32.77844132992488,
          32.79521241752347,
          32.83127061805514,
          32.813537271902405,
          32.794949570998334,
          32.791308402736355,
          32.79946450210318,
          32.81204273698833,
          32.87419520428215,
          32.88254063689028,
          32.87761736521488,
          32.899794542831415,
          33.060019200460104,
          33.064886265357366,
          33.07908350321167,
          33.067716061932416,
          33.09214414698601,
          33.081172401498684,
          33.07835378466045,
          33.159767366999716,
          33.17908442685243,
          33.1927302873845,
          33.189129039555965,
          33.41037898914645,
          33.43538013258277,
          33.46379822212338,
          33.47464388957173,
          33.496415416682616,
          33.514999477882164,
          33.51576015463736,
          33.5646623091266,
          33.59358775745473,
          33.60083323984097,
          33.60625992096844,
          33.6882430781557,
          33.7312779552208,
          33.75038180915034,
          33.88268635468906,
          34.067912846636595,
          34.06901391749228,
          34.103837475943934,
          34.19937187202638,
          34.221410554273646,
          34.24095474625537,
          34.21882106050734,
          34.3291291780355,
          34.41734618821714,
          34.51256043988009,
          34.533984992453554,
          34.57572848699011,
          34.61928681474654,
          34.72260018216285,
          34.74359580325631,
          34.768223047323204,
          34.76931620110551,
          34.79726813683215,
          34.91938069710609,
          34.88850608355615,
          34.891285231662145,
          34.95081948941138,
          35.003079640642916,
          35.09281709370399,
          35.12768761767846,
          35.14471545101668,
          35.20311584409298,
          35.78231066089751,
          35.885489264851294,
          35.90894063794559,
          35.93140698614758,
          35.97495911543365,
          35.97783491396321,
          35.97312172510555,
          35.962196800967035,
          35.98933490123682,
          35.86326138282681,
          35.82688209445998,
          35.76325815332161,
          35.723764078099315,
          35.72167134439981,
          35.7119217883174,
          35.66060687617334,
          35.67140303130855,
          35.69704094677554,
          35.70222656105482,
          35.69780839330175,
          35.673288772583575,
          35.693937814027485,
          35.68984705756233,
          35.66582003056876,
          35.71005341414641,
          35.694853759645646,
          35.61774796943955,
          35.60937979531099,
          35.646017870314,
          35.6442114370461,
          35.65250594740085,
          35.65971972703644,
          35.68772735043003,
          35.74465330694777,
          35.689913302165905,
          35.651599335160256,
          35.653690566357064,
          35.664928988642494,
          35.731333650517236,
          35.734849486584814,
          35.72138907841235,
          35.757530187993304,
          35.73990144698139,
          35.713719448086934,
          35.642754306300624,
          35.68008429618175,
          35.68658360602552,
          35.68470065732489,
          35.69684706241529,
          35.645543164225536,
          35.63260276505151,
          35.60801646440458,
          35.540948133286015,
          35.48883258010558,
          35.517600027001244,
          35.528387649987614,
          35.552941140139,
          35.55027951008593,
          35.55965653817875,
          35.55655673847891,
          35.52155812285967,
          35.505630648519976,
          35.4689894285321,
          35.476561974124756,
          35.42106495337717,
          35.42343580637141,
          35.3760246530697,
          35.38414433943359,
          35.439025933651216,
          35.38730069442798,
          35.29271112013523,
          35.179352138940594,
          35.096063640738855,
          34.99011212037119,
          34.906245111363084,
          34.897691949982196,
          34.8358745222842,
          34.61162155434976,
          34.56343384620919,
          34.43748476199425,
          34.486227877917266,
          34.537774964530556,
          34.63908332129029,
          34.61649626588098,
          34.57633891238128,
          34.584228899250476,
          34.62131918928369,
          34.63131230395424,
          34.67983058299833,
          34.71013858143053,
          34.70473627473896,
          34.71756660258428,
          34.71767759492382,
          34.66439482107371,
          34.68238222986392,
          34.64372390342585,
          34.64733518232559,
          34.653378817539085,
          34.651434101660406,
          34.64337262274382,
          34.6196300539269,
          34.60690153611621,
          34.58471253725411,
          34.58588701418556,
          34.57007952270071,
          34.56466678982911,
          34.57211644257887,
          34.49835782823944,
          34.463449187602656,
          34.42240059674295,
          34.27975307149974,
          34.25655072289315,
          34.213114950035994,
          34.232860780264275,
          34.20869232449794,
          34.0681084830662,
          34.04680669189799,
          34.07895872686866,
          33.96094236699125
         ],
         "yaxis": "y"
        }
       ],
       "layout": {
        "legend": {
         "tracegroupgap": 0
        },
        "template": {
         "data": {
          "bar": [
           {
            "error_x": {
             "color": "#2a3f5f"
            },
            "error_y": {
             "color": "#2a3f5f"
            },
            "marker": {
             "line": {
              "color": "#E5ECF6",
              "width": 0.5
             },
             "pattern": {
              "fillmode": "overlay",
              "size": 10,
              "solidity": 0.2
             }
            },
            "type": "bar"
           }
          ],
          "barpolar": [
           {
            "marker": {
             "line": {
              "color": "#E5ECF6",
              "width": 0.5
             },
             "pattern": {
              "fillmode": "overlay",
              "size": 10,
              "solidity": 0.2
             }
            },
            "type": "barpolar"
           }
          ],
          "carpet": [
           {
            "aaxis": {
             "endlinecolor": "#2a3f5f",
             "gridcolor": "white",
             "linecolor": "white",
             "minorgridcolor": "white",
             "startlinecolor": "#2a3f5f"
            },
            "baxis": {
             "endlinecolor": "#2a3f5f",
             "gridcolor": "white",
             "linecolor": "white",
             "minorgridcolor": "white",
             "startlinecolor": "#2a3f5f"
            },
            "type": "carpet"
           }
          ],
          "choropleth": [
           {
            "colorbar": {
             "outlinewidth": 0,
             "ticks": ""
            },
            "type": "choropleth"
           }
          ],
          "contour": [
           {
            "colorbar": {
             "outlinewidth": 0,
             "ticks": ""
            },
            "colorscale": [
             [
              0,
              "#0d0887"
             ],
             [
              0.1111111111111111,
              "#46039f"
             ],
             [
              0.2222222222222222,
              "#7201a8"
             ],
             [
              0.3333333333333333,
              "#9c179e"
             ],
             [
              0.4444444444444444,
              "#bd3786"
             ],
             [
              0.5555555555555556,
              "#d8576b"
             ],
             [
              0.6666666666666666,
              "#ed7953"
             ],
             [
              0.7777777777777778,
              "#fb9f3a"
             ],
             [
              0.8888888888888888,
              "#fdca26"
             ],
             [
              1,
              "#f0f921"
             ]
            ],
            "type": "contour"
           }
          ],
          "contourcarpet": [
           {
            "colorbar": {
             "outlinewidth": 0,
             "ticks": ""
            },
            "type": "contourcarpet"
           }
          ],
          "heatmap": [
           {
            "colorbar": {
             "outlinewidth": 0,
             "ticks": ""
            },
            "colorscale": [
             [
              0,
              "#0d0887"
             ],
             [
              0.1111111111111111,
              "#46039f"
             ],
             [
              0.2222222222222222,
              "#7201a8"
             ],
             [
              0.3333333333333333,
              "#9c179e"
             ],
             [
              0.4444444444444444,
              "#bd3786"
             ],
             [
              0.5555555555555556,
              "#d8576b"
             ],
             [
              0.6666666666666666,
              "#ed7953"
             ],
             [
              0.7777777777777778,
              "#fb9f3a"
             ],
             [
              0.8888888888888888,
              "#fdca26"
             ],
             [
              1,
              "#f0f921"
             ]
            ],
            "type": "heatmap"
           }
          ],
          "heatmapgl": [
           {
            "colorbar": {
             "outlinewidth": 0,
             "ticks": ""
            },
            "colorscale": [
             [
              0,
              "#0d0887"
             ],
             [
              0.1111111111111111,
              "#46039f"
             ],
             [
              0.2222222222222222,
              "#7201a8"
             ],
             [
              0.3333333333333333,
              "#9c179e"
             ],
             [
              0.4444444444444444,
              "#bd3786"
             ],
             [
              0.5555555555555556,
              "#d8576b"
             ],
             [
              0.6666666666666666,
              "#ed7953"
             ],
             [
              0.7777777777777778,
              "#fb9f3a"
             ],
             [
              0.8888888888888888,
              "#fdca26"
             ],
             [
              1,
              "#f0f921"
             ]
            ],
            "type": "heatmapgl"
           }
          ],
          "histogram": [
           {
            "marker": {
             "pattern": {
              "fillmode": "overlay",
              "size": 10,
              "solidity": 0.2
             }
            },
            "type": "histogram"
           }
          ],
          "histogram2d": [
           {
            "colorbar": {
             "outlinewidth": 0,
             "ticks": ""
            },
            "colorscale": [
             [
              0,
              "#0d0887"
             ],
             [
              0.1111111111111111,
              "#46039f"
             ],
             [
              0.2222222222222222,
              "#7201a8"
             ],
             [
              0.3333333333333333,
              "#9c179e"
             ],
             [
              0.4444444444444444,
              "#bd3786"
             ],
             [
              0.5555555555555556,
              "#d8576b"
             ],
             [
              0.6666666666666666,
              "#ed7953"
             ],
             [
              0.7777777777777778,
              "#fb9f3a"
             ],
             [
              0.8888888888888888,
              "#fdca26"
             ],
             [
              1,
              "#f0f921"
             ]
            ],
            "type": "histogram2d"
           }
          ],
          "histogram2dcontour": [
           {
            "colorbar": {
             "outlinewidth": 0,
             "ticks": ""
            },
            "colorscale": [
             [
              0,
              "#0d0887"
             ],
             [
              0.1111111111111111,
              "#46039f"
             ],
             [
              0.2222222222222222,
              "#7201a8"
             ],
             [
              0.3333333333333333,
              "#9c179e"
             ],
             [
              0.4444444444444444,
              "#bd3786"
             ],
             [
              0.5555555555555556,
              "#d8576b"
             ],
             [
              0.6666666666666666,
              "#ed7953"
             ],
             [
              0.7777777777777778,
              "#fb9f3a"
             ],
             [
              0.8888888888888888,
              "#fdca26"
             ],
             [
              1,
              "#f0f921"
             ]
            ],
            "type": "histogram2dcontour"
           }
          ],
          "mesh3d": [
           {
            "colorbar": {
             "outlinewidth": 0,
             "ticks": ""
            },
            "type": "mesh3d"
           }
          ],
          "parcoords": [
           {
            "line": {
             "colorbar": {
              "outlinewidth": 0,
              "ticks": ""
             }
            },
            "type": "parcoords"
           }
          ],
          "pie": [
           {
            "automargin": true,
            "type": "pie"
           }
          ],
          "scatter": [
           {
            "fillpattern": {
             "fillmode": "overlay",
             "size": 10,
             "solidity": 0.2
            },
            "type": "scatter"
           }
          ],
          "scatter3d": [
           {
            "line": {
             "colorbar": {
              "outlinewidth": 0,
              "ticks": ""
             }
            },
            "marker": {
             "colorbar": {
              "outlinewidth": 0,
              "ticks": ""
             }
            },
            "type": "scatter3d"
           }
          ],
          "scattercarpet": [
           {
            "marker": {
             "colorbar": {
              "outlinewidth": 0,
              "ticks": ""
             }
            },
            "type": "scattercarpet"
           }
          ],
          "scattergeo": [
           {
            "marker": {
             "colorbar": {
              "outlinewidth": 0,
              "ticks": ""
             }
            },
            "type": "scattergeo"
           }
          ],
          "scattergl": [
           {
            "marker": {
             "colorbar": {
              "outlinewidth": 0,
              "ticks": ""
             }
            },
            "type": "scattergl"
           }
          ],
          "scattermapbox": [
           {
            "marker": {
             "colorbar": {
              "outlinewidth": 0,
              "ticks": ""
             }
            },
            "type": "scattermapbox"
           }
          ],
          "scatterpolar": [
           {
            "marker": {
             "colorbar": {
              "outlinewidth": 0,
              "ticks": ""
             }
            },
            "type": "scatterpolar"
           }
          ],
          "scatterpolargl": [
           {
            "marker": {
             "colorbar": {
              "outlinewidth": 0,
              "ticks": ""
             }
            },
            "type": "scatterpolargl"
           }
          ],
          "scatterternary": [
           {
            "marker": {
             "colorbar": {
              "outlinewidth": 0,
              "ticks": ""
             }
            },
            "type": "scatterternary"
           }
          ],
          "surface": [
           {
            "colorbar": {
             "outlinewidth": 0,
             "ticks": ""
            },
            "colorscale": [
             [
              0,
              "#0d0887"
             ],
             [
              0.1111111111111111,
              "#46039f"
             ],
             [
              0.2222222222222222,
              "#7201a8"
             ],
             [
              0.3333333333333333,
              "#9c179e"
             ],
             [
              0.4444444444444444,
              "#bd3786"
             ],
             [
              0.5555555555555556,
              "#d8576b"
             ],
             [
              0.6666666666666666,
              "#ed7953"
             ],
             [
              0.7777777777777778,
              "#fb9f3a"
             ],
             [
              0.8888888888888888,
              "#fdca26"
             ],
             [
              1,
              "#f0f921"
             ]
            ],
            "type": "surface"
           }
          ],
          "table": [
           {
            "cells": {
             "fill": {
              "color": "#EBF0F8"
             },
             "line": {
              "color": "white"
             }
            },
            "header": {
             "fill": {
              "color": "#C8D4E3"
             },
             "line": {
              "color": "white"
             }
            },
            "type": "table"
           }
          ]
         },
         "layout": {
          "annotationdefaults": {
           "arrowcolor": "#2a3f5f",
           "arrowhead": 0,
           "arrowwidth": 1
          },
          "autotypenumbers": "strict",
          "coloraxis": {
           "colorbar": {
            "outlinewidth": 0,
            "ticks": ""
           }
          },
          "colorscale": {
           "diverging": [
            [
             0,
             "#8e0152"
            ],
            [
             0.1,
             "#c51b7d"
            ],
            [
             0.2,
             "#de77ae"
            ],
            [
             0.3,
             "#f1b6da"
            ],
            [
             0.4,
             "#fde0ef"
            ],
            [
             0.5,
             "#f7f7f7"
            ],
            [
             0.6,
             "#e6f5d0"
            ],
            [
             0.7,
             "#b8e186"
            ],
            [
             0.8,
             "#7fbc41"
            ],
            [
             0.9,
             "#4d9221"
            ],
            [
             1,
             "#276419"
            ]
           ],
           "sequential": [
            [
             0,
             "#0d0887"
            ],
            [
             0.1111111111111111,
             "#46039f"
            ],
            [
             0.2222222222222222,
             "#7201a8"
            ],
            [
             0.3333333333333333,
             "#9c179e"
            ],
            [
             0.4444444444444444,
             "#bd3786"
            ],
            [
             0.5555555555555556,
             "#d8576b"
            ],
            [
             0.6666666666666666,
             "#ed7953"
            ],
            [
             0.7777777777777778,
             "#fb9f3a"
            ],
            [
             0.8888888888888888,
             "#fdca26"
            ],
            [
             1,
             "#f0f921"
            ]
           ],
           "sequentialminus": [
            [
             0,
             "#0d0887"
            ],
            [
             0.1111111111111111,
             "#46039f"
            ],
            [
             0.2222222222222222,
             "#7201a8"
            ],
            [
             0.3333333333333333,
             "#9c179e"
            ],
            [
             0.4444444444444444,
             "#bd3786"
            ],
            [
             0.5555555555555556,
             "#d8576b"
            ],
            [
             0.6666666666666666,
             "#ed7953"
            ],
            [
             0.7777777777777778,
             "#fb9f3a"
            ],
            [
             0.8888888888888888,
             "#fdca26"
            ],
            [
             1,
             "#f0f921"
            ]
           ]
          },
          "colorway": [
           "#636efa",
           "#EF553B",
           "#00cc96",
           "#ab63fa",
           "#FFA15A",
           "#19d3f3",
           "#FF6692",
           "#B6E880",
           "#FF97FF",
           "#FECB52"
          ],
          "font": {
           "color": "#2a3f5f"
          },
          "geo": {
           "bgcolor": "white",
           "lakecolor": "white",
           "landcolor": "#E5ECF6",
           "showlakes": true,
           "showland": true,
           "subunitcolor": "white"
          },
          "hoverlabel": {
           "align": "left"
          },
          "hovermode": "closest",
          "mapbox": {
           "style": "light"
          },
          "paper_bgcolor": "white",
          "plot_bgcolor": "#E5ECF6",
          "polar": {
           "angularaxis": {
            "gridcolor": "white",
            "linecolor": "white",
            "ticks": ""
           },
           "bgcolor": "#E5ECF6",
           "radialaxis": {
            "gridcolor": "white",
            "linecolor": "white",
            "ticks": ""
           }
          },
          "scene": {
           "xaxis": {
            "backgroundcolor": "#E5ECF6",
            "gridcolor": "white",
            "gridwidth": 2,
            "linecolor": "white",
            "showbackground": true,
            "ticks": "",
            "zerolinecolor": "white"
           },
           "yaxis": {
            "backgroundcolor": "#E5ECF6",
            "gridcolor": "white",
            "gridwidth": 2,
            "linecolor": "white",
            "showbackground": true,
            "ticks": "",
            "zerolinecolor": "white"
           },
           "zaxis": {
            "backgroundcolor": "#E5ECF6",
            "gridcolor": "white",
            "gridwidth": 2,
            "linecolor": "white",
            "showbackground": true,
            "ticks": "",
            "zerolinecolor": "white"
           }
          },
          "shapedefaults": {
           "line": {
            "color": "#2a3f5f"
           }
          },
          "ternary": {
           "aaxis": {
            "gridcolor": "white",
            "linecolor": "white",
            "ticks": ""
           },
           "baxis": {
            "gridcolor": "white",
            "linecolor": "white",
            "ticks": ""
           },
           "bgcolor": "#E5ECF6",
           "caxis": {
            "gridcolor": "white",
            "linecolor": "white",
            "ticks": ""
           }
          },
          "title": {
           "x": 0.05
          },
          "xaxis": {
           "automargin": true,
           "gridcolor": "white",
           "linecolor": "white",
           "ticks": "",
           "title": {
            "standoff": 15
           },
           "zerolinecolor": "white",
           "zerolinewidth": 2
          },
          "yaxis": {
           "automargin": true,
           "gridcolor": "white",
           "linecolor": "white",
           "ticks": "",
           "title": {
            "standoff": 15
           },
           "zerolinecolor": "white",
           "zerolinewidth": 2
          }
         }
        },
        "title": {
         "text": "S&P-500 Volatility Over Time"
        },
        "xaxis": {
         "anchor": "y",
         "domain": [
          0,
          1
         ],
         "title": {
          "text": "Date"
         }
        },
        "yaxis": {
         "anchor": "x",
         "domain": [
          0,
          1
         ],
         "title": {
          "text": "Volatility"
         }
        }
       }
      }
     },
     "metadata": {},
     "output_type": "display_data"
    }
   ],
   "source": [
    "Vix = df_volatility.T.mean().dropna()\n",
    "fig = px.line(x=Vix.index, y=Vix, title=\"S&P-500 Volatility Over Time\",labels=dict(x=\"Date\", y=\"Volatility\"))\n",
    "fig.show()"
   ]
  },
  {
   "attachments": {},
   "cell_type": "markdown",
   "metadata": {},
   "source": [
    "In the context of the plot, we see max volatility during February of 2021"
   ]
  },
  {
   "attachments": {},
   "cell_type": "markdown",
   "metadata": {},
   "source": [
    "## Sector-wise analysis of Companies in S&P500"
   ]
  },
  {
   "cell_type": "code",
   "execution_count": 12,
   "metadata": {},
   "outputs": [
    {
     "data": {
      "text/html": [
       "<div>\n",
       "<style scoped>\n",
       "    .dataframe tbody tr th:only-of-type {\n",
       "        vertical-align: middle;\n",
       "    }\n",
       "\n",
       "    .dataframe tbody tr th {\n",
       "        vertical-align: top;\n",
       "    }\n",
       "\n",
       "    .dataframe thead th {\n",
       "        text-align: right;\n",
       "    }\n",
       "</style>\n",
       "<table border=\"1\" class=\"dataframe\">\n",
       "  <thead>\n",
       "    <tr style=\"text-align: right;\">\n",
       "      <th></th>\n",
       "      <th>Ticker</th>\n",
       "      <th>GICS Sector</th>\n",
       "    </tr>\n",
       "  </thead>\n",
       "  <tbody>\n",
       "    <tr>\n",
       "      <th>0</th>\n",
       "      <td>MMM</td>\n",
       "      <td>Industrials</td>\n",
       "    </tr>\n",
       "    <tr>\n",
       "      <th>1</th>\n",
       "      <td>AOS</td>\n",
       "      <td>Industrials</td>\n",
       "    </tr>\n",
       "    <tr>\n",
       "      <th>2</th>\n",
       "      <td>ABT</td>\n",
       "      <td>Health Care</td>\n",
       "    </tr>\n",
       "    <tr>\n",
       "      <th>3</th>\n",
       "      <td>ABBV</td>\n",
       "      <td>Health Care</td>\n",
       "    </tr>\n",
       "    <tr>\n",
       "      <th>4</th>\n",
       "      <td>ACN</td>\n",
       "      <td>Information Technology</td>\n",
       "    </tr>\n",
       "    <tr>\n",
       "      <th>...</th>\n",
       "      <td>...</td>\n",
       "      <td>...</td>\n",
       "    </tr>\n",
       "    <tr>\n",
       "      <th>498</th>\n",
       "      <td>YUM</td>\n",
       "      <td>Consumer Discretionary</td>\n",
       "    </tr>\n",
       "    <tr>\n",
       "      <th>499</th>\n",
       "      <td>ZBRA</td>\n",
       "      <td>Information Technology</td>\n",
       "    </tr>\n",
       "    <tr>\n",
       "      <th>500</th>\n",
       "      <td>ZBH</td>\n",
       "      <td>Health Care</td>\n",
       "    </tr>\n",
       "    <tr>\n",
       "      <th>501</th>\n",
       "      <td>ZION</td>\n",
       "      <td>Financials</td>\n",
       "    </tr>\n",
       "    <tr>\n",
       "      <th>502</th>\n",
       "      <td>ZTS</td>\n",
       "      <td>Health Care</td>\n",
       "    </tr>\n",
       "  </tbody>\n",
       "</table>\n",
       "<p>503 rows × 2 columns</p>\n",
       "</div>"
      ],
      "text/plain": [
       "    Ticker             GICS Sector\n",
       "0      MMM             Industrials\n",
       "1      AOS             Industrials\n",
       "2      ABT             Health Care\n",
       "3     ABBV             Health Care\n",
       "4      ACN  Information Technology\n",
       "..     ...                     ...\n",
       "498    YUM  Consumer Discretionary\n",
       "499   ZBRA  Information Technology\n",
       "500    ZBH             Health Care\n",
       "501   ZION              Financials\n",
       "502    ZTS             Health Care\n",
       "\n",
       "[503 rows x 2 columns]"
      ]
     },
     "execution_count": 12,
     "metadata": {},
     "output_type": "execute_result"
    }
   ],
   "source": [
    "df_perCompany=pd.DataFrame( data_table[['Symbol', 'GICS Sector']])\n",
    "df_perCompany.rename(columns={\"Symbol\":\"Ticker\"},inplace=True)\n",
    "df_perCompany"
   ]
  },
  {
   "cell_type": "code",
   "execution_count": 13,
   "metadata": {},
   "outputs": [],
   "source": [
    "for ticker in sp500_symbols:\n",
    "    df_adjClose_ticker=df[\"Adj Close\"][ticker].dropna()\n",
    "    if df_adjClose_ticker.shape[0]==0:\n",
    "        continue\n",
    "    year_index = df_adjClose_ticker.index.map(lambda x: x.year)\n",
    "\n",
    "    first_close, last_close = df_adjClose_ticker.iloc[[0,-1]]\n",
    "    total_return = (last_close/first_close)-1\n",
    "    first_year = df_adjClose_ticker.index[0].year\n",
    "    last_year = df_adjClose_ticker.index[-1].year\n",
    "\n",
    "    years=last_year-first_year+1\n",
    "    returnPerYear=[]\n",
    "    for year in range(first_year,last_year+1):\n",
    "        first_close_year, last_close_year = df_adjClose_ticker[year_index==year].iloc[[0,-1]]\n",
    "        year_return= (last_close_year/first_close_year)-1\n",
    "        returnPerYear.append(year_return)\n",
    "    mean_return_per_year = np.mean(returnPerYear)\n",
    "    volatility = np.std(returnPerYear)\n",
    "    df_perCompany.loc[df_perCompany[\"Ticker\"]==ticker,[\"years\",\"total_return\",\"mean_return_per_year\",\"volatility\"]]=years,total_return,mean_return_per_year,volatility\n",
    "    "
   ]
  },
  {
   "cell_type": "code",
   "execution_count": 14,
   "metadata": {},
   "outputs": [
    {
     "data": {
      "text/html": [
       "<div>\n",
       "<style scoped>\n",
       "    .dataframe tbody tr th:only-of-type {\n",
       "        vertical-align: middle;\n",
       "    }\n",
       "\n",
       "    .dataframe tbody tr th {\n",
       "        vertical-align: top;\n",
       "    }\n",
       "\n",
       "    .dataframe thead th {\n",
       "        text-align: right;\n",
       "    }\n",
       "</style>\n",
       "<table border=\"1\" class=\"dataframe\">\n",
       "  <thead>\n",
       "    <tr style=\"text-align: right;\">\n",
       "      <th></th>\n",
       "      <th>Ticker</th>\n",
       "      <th>GICS Sector</th>\n",
       "      <th>years</th>\n",
       "      <th>total_return</th>\n",
       "      <th>mean_return_per_year</th>\n",
       "      <th>volatility</th>\n",
       "    </tr>\n",
       "  </thead>\n",
       "  <tbody>\n",
       "    <tr>\n",
       "      <th>0</th>\n",
       "      <td>MMM</td>\n",
       "      <td>Industrials</td>\n",
       "      <td>6.0</td>\n",
       "      <td>-0.387748</td>\n",
       "      <td>-0.074400</td>\n",
       "      <td>0.118608</td>\n",
       "    </tr>\n",
       "    <tr>\n",
       "      <th>1</th>\n",
       "      <td>AOS</td>\n",
       "      <td>Industrials</td>\n",
       "      <td>6.0</td>\n",
       "      <td>0.214694</td>\n",
       "      <td>0.080261</td>\n",
       "      <td>0.319789</td>\n",
       "    </tr>\n",
       "    <tr>\n",
       "      <th>2</th>\n",
       "      <td>ABT</td>\n",
       "      <td>Health Care</td>\n",
       "      <td>6.0</td>\n",
       "      <td>1.045353</td>\n",
       "      <td>0.153628</td>\n",
       "      <td>0.181662</td>\n",
       "    </tr>\n",
       "    <tr>\n",
       "      <th>3</th>\n",
       "      <td>ABBV</td>\n",
       "      <td>Health Care</td>\n",
       "      <td>6.0</td>\n",
       "      <td>0.891754</td>\n",
       "      <td>0.129720</td>\n",
       "      <td>0.160658</td>\n",
       "    </tr>\n",
       "    <tr>\n",
       "      <th>4</th>\n",
       "      <td>ACN</td>\n",
       "      <td>Information Technology</td>\n",
       "      <td>6.0</td>\n",
       "      <td>0.940546</td>\n",
       "      <td>0.173489</td>\n",
       "      <td>0.336214</td>\n",
       "    </tr>\n",
       "    <tr>\n",
       "      <th>...</th>\n",
       "      <td>...</td>\n",
       "      <td>...</td>\n",
       "      <td>...</td>\n",
       "      <td>...</td>\n",
       "      <td>...</td>\n",
       "      <td>...</td>\n",
       "    </tr>\n",
       "    <tr>\n",
       "      <th>498</th>\n",
       "      <td>YUM</td>\n",
       "      <td>Consumer Discretionary</td>\n",
       "      <td>6.0</td>\n",
       "      <td>0.805248</td>\n",
       "      <td>0.116673</td>\n",
       "      <td>0.111928</td>\n",
       "    </tr>\n",
       "    <tr>\n",
       "      <th>499</th>\n",
       "      <td>ZBRA</td>\n",
       "      <td>Information Technology</td>\n",
       "      <td>6.0</td>\n",
       "      <td>0.880274</td>\n",
       "      <td>0.213814</td>\n",
       "      <td>0.414608</td>\n",
       "    </tr>\n",
       "    <tr>\n",
       "      <th>500</th>\n",
       "      <td>ZBH</td>\n",
       "      <td>Health Care</td>\n",
       "      <td>6.0</td>\n",
       "      <td>0.277284</td>\n",
       "      <td>0.061139</td>\n",
       "      <td>0.205538</td>\n",
       "    </tr>\n",
       "    <tr>\n",
       "      <th>501</th>\n",
       "      <td>ZION</td>\n",
       "      <td>Financials</td>\n",
       "      <td>6.0</td>\n",
       "      <td>-0.530138</td>\n",
       "      <td>-0.057463</td>\n",
       "      <td>0.348572</td>\n",
       "    </tr>\n",
       "    <tr>\n",
       "      <th>502</th>\n",
       "      <td>ZTS</td>\n",
       "      <td>Health Care</td>\n",
       "      <td>6.0</td>\n",
       "      <td>1.234271</td>\n",
       "      <td>0.201361</td>\n",
       "      <td>0.311442</td>\n",
       "    </tr>\n",
       "  </tbody>\n",
       "</table>\n",
       "<p>503 rows × 6 columns</p>\n",
       "</div>"
      ],
      "text/plain": [
       "    Ticker             GICS Sector  years  total_return  mean_return_per_year  \\\n",
       "0      MMM             Industrials    6.0     -0.387748             -0.074400   \n",
       "1      AOS             Industrials    6.0      0.214694              0.080261   \n",
       "2      ABT             Health Care    6.0      1.045353              0.153628   \n",
       "3     ABBV             Health Care    6.0      0.891754              0.129720   \n",
       "4      ACN  Information Technology    6.0      0.940546              0.173489   \n",
       "..     ...                     ...    ...           ...                   ...   \n",
       "498    YUM  Consumer Discretionary    6.0      0.805248              0.116673   \n",
       "499   ZBRA  Information Technology    6.0      0.880274              0.213814   \n",
       "500    ZBH             Health Care    6.0      0.277284              0.061139   \n",
       "501   ZION              Financials    6.0     -0.530138             -0.057463   \n",
       "502    ZTS             Health Care    6.0      1.234271              0.201361   \n",
       "\n",
       "     volatility  \n",
       "0      0.118608  \n",
       "1      0.319789  \n",
       "2      0.181662  \n",
       "3      0.160658  \n",
       "4      0.336214  \n",
       "..          ...  \n",
       "498    0.111928  \n",
       "499    0.414608  \n",
       "500    0.205538  \n",
       "501    0.348572  \n",
       "502    0.311442  \n",
       "\n",
       "[503 rows x 6 columns]"
      ]
     },
     "execution_count": 14,
     "metadata": {},
     "output_type": "execute_result"
    }
   ],
   "source": [
    "df_perCompany"
   ]
  },
  {
   "cell_type": "code",
   "execution_count": 15,
   "metadata": {},
   "outputs": [],
   "source": [
    "df_perCompany.dropna(inplace=True)"
   ]
  },
  {
   "attachments": {},
   "cell_type": "markdown",
   "metadata": {},
   "source": [
    "How to Know Which Company is Best to Invest? <br>\n",
    "- Sharpe ratio\n",
    "- Sortino Ratio\n",
    "- Modigliani ratio\n",
    "- Calmar Ratio"
   ]
  },
  {
   "cell_type": "code",
   "execution_count": 16,
   "metadata": {},
   "outputs": [
    {
     "data": {
      "text/html": [
       "<div>\n",
       "<style scoped>\n",
       "    .dataframe tbody tr th:only-of-type {\n",
       "        vertical-align: middle;\n",
       "    }\n",
       "\n",
       "    .dataframe tbody tr th {\n",
       "        vertical-align: top;\n",
       "    }\n",
       "\n",
       "    .dataframe thead th {\n",
       "        text-align: right;\n",
       "    }\n",
       "</style>\n",
       "<table border=\"1\" class=\"dataframe\">\n",
       "  <thead>\n",
       "    <tr style=\"text-align: right;\">\n",
       "      <th></th>\n",
       "      <th>Ticker</th>\n",
       "      <th>GICS Sector</th>\n",
       "      <th>years</th>\n",
       "      <th>total_return</th>\n",
       "      <th>mean_return_per_year</th>\n",
       "      <th>volatility</th>\n",
       "      <th>Return_Volatility_Ratio</th>\n",
       "    </tr>\n",
       "  </thead>\n",
       "  <tbody>\n",
       "    <tr>\n",
       "      <th>0</th>\n",
       "      <td>MMM</td>\n",
       "      <td>Industrials</td>\n",
       "      <td>6.0</td>\n",
       "      <td>-0.387748</td>\n",
       "      <td>-0.074400</td>\n",
       "      <td>0.118608</td>\n",
       "      <td>0.040551</td>\n",
       "    </tr>\n",
       "    <tr>\n",
       "      <th>1</th>\n",
       "      <td>AOS</td>\n",
       "      <td>Industrials</td>\n",
       "      <td>6.0</td>\n",
       "      <td>0.214694</td>\n",
       "      <td>0.080261</td>\n",
       "      <td>0.319789</td>\n",
       "      <td>0.008982</td>\n",
       "    </tr>\n",
       "    <tr>\n",
       "      <th>2</th>\n",
       "      <td>ABT</td>\n",
       "      <td>Health Care</td>\n",
       "      <td>6.0</td>\n",
       "      <td>1.045353</td>\n",
       "      <td>0.153628</td>\n",
       "      <td>0.181662</td>\n",
       "      <td>0.147371</td>\n",
       "    </tr>\n",
       "    <tr>\n",
       "      <th>3</th>\n",
       "      <td>ABBV</td>\n",
       "      <td>Health Care</td>\n",
       "      <td>6.0</td>\n",
       "      <td>0.891754</td>\n",
       "      <td>0.129720</td>\n",
       "      <td>0.160658</td>\n",
       "      <td>0.120034</td>\n",
       "    </tr>\n",
       "    <tr>\n",
       "      <th>4</th>\n",
       "      <td>ACN</td>\n",
       "      <td>Information Technology</td>\n",
       "      <td>6.0</td>\n",
       "      <td>0.940546</td>\n",
       "      <td>0.173489</td>\n",
       "      <td>0.336214</td>\n",
       "      <td>0.080897</td>\n",
       "    </tr>\n",
       "    <tr>\n",
       "      <th>...</th>\n",
       "      <td>...</td>\n",
       "      <td>...</td>\n",
       "      <td>...</td>\n",
       "      <td>...</td>\n",
       "      <td>...</td>\n",
       "      <td>...</td>\n",
       "      <td>...</td>\n",
       "    </tr>\n",
       "    <tr>\n",
       "      <th>498</th>\n",
       "      <td>YUM</td>\n",
       "      <td>Consumer Discretionary</td>\n",
       "      <td>6.0</td>\n",
       "      <td>0.805248</td>\n",
       "      <td>0.116673</td>\n",
       "      <td>0.111928</td>\n",
       "      <td>0.139946</td>\n",
       "    </tr>\n",
       "    <tr>\n",
       "      <th>499</th>\n",
       "      <td>ZBRA</td>\n",
       "      <td>Information Technology</td>\n",
       "      <td>6.0</td>\n",
       "      <td>0.880274</td>\n",
       "      <td>0.213814</td>\n",
       "      <td>0.414608</td>\n",
       "      <td>0.075667</td>\n",
       "    </tr>\n",
       "    <tr>\n",
       "      <th>500</th>\n",
       "      <td>ZBH</td>\n",
       "      <td>Health Care</td>\n",
       "      <td>6.0</td>\n",
       "      <td>0.277284</td>\n",
       "      <td>0.061139</td>\n",
       "      <td>0.205538</td>\n",
       "      <td>0.013749</td>\n",
       "    </tr>\n",
       "    <tr>\n",
       "      <th>501</th>\n",
       "      <td>ZION</td>\n",
       "      <td>Financials</td>\n",
       "      <td>6.0</td>\n",
       "      <td>-0.530138</td>\n",
       "      <td>-0.057463</td>\n",
       "      <td>0.348572</td>\n",
       "      <td>0.014567</td>\n",
       "    </tr>\n",
       "    <tr>\n",
       "      <th>502</th>\n",
       "      <td>ZTS</td>\n",
       "      <td>Health Care</td>\n",
       "      <td>6.0</td>\n",
       "      <td>1.234271</td>\n",
       "      <td>0.201361</td>\n",
       "      <td>0.311442</td>\n",
       "      <td>0.133019</td>\n",
       "    </tr>\n",
       "  </tbody>\n",
       "</table>\n",
       "<p>501 rows × 7 columns</p>\n",
       "</div>"
      ],
      "text/plain": [
       "    Ticker             GICS Sector  years  total_return  mean_return_per_year  \\\n",
       "0      MMM             Industrials    6.0     -0.387748             -0.074400   \n",
       "1      AOS             Industrials    6.0      0.214694              0.080261   \n",
       "2      ABT             Health Care    6.0      1.045353              0.153628   \n",
       "3     ABBV             Health Care    6.0      0.891754              0.129720   \n",
       "4      ACN  Information Technology    6.0      0.940546              0.173489   \n",
       "..     ...                     ...    ...           ...                   ...   \n",
       "498    YUM  Consumer Discretionary    6.0      0.805248              0.116673   \n",
       "499   ZBRA  Information Technology    6.0      0.880274              0.213814   \n",
       "500    ZBH             Health Care    6.0      0.277284              0.061139   \n",
       "501   ZION              Financials    6.0     -0.530138             -0.057463   \n",
       "502    ZTS             Health Care    6.0      1.234271              0.201361   \n",
       "\n",
       "     volatility  Return_Volatility_Ratio  \n",
       "0      0.118608                 0.040551  \n",
       "1      0.319789                 0.008982  \n",
       "2      0.181662                 0.147371  \n",
       "3      0.160658                 0.120034  \n",
       "4      0.336214                 0.080897  \n",
       "..          ...                      ...  \n",
       "498    0.111928                 0.139946  \n",
       "499    0.414608                 0.075667  \n",
       "500    0.205538                 0.013749  \n",
       "501    0.348572                 0.014567  \n",
       "502    0.311442                 0.133019  \n",
       "\n",
       "[501 rows x 7 columns]"
      ]
     },
     "execution_count": 16,
     "metadata": {},
     "output_type": "execute_result"
    }
   ],
   "source": [
    "Rf = 0.01/255\n",
    "df_perCompany[\"Return_Volatility_Ratio\"] = (df_perCompany[\"mean_return_per_year\"]*df_perCompany[\"total_return\"])/((df_perCompany[\"volatility\"]-Rf)*df_perCompany[\"years\"])\n",
    "df_perCompany"
   ]
  },
  {
   "attachments": {},
   "cell_type": "markdown",
   "metadata": {},
   "source": [
    "What are the 10 best companies to invest in?"
   ]
  },
  {
   "cell_type": "code",
   "execution_count": 17,
   "metadata": {},
   "outputs": [
    {
     "data": {
      "text/html": [
       "<div>\n",
       "<style scoped>\n",
       "    .dataframe tbody tr th:only-of-type {\n",
       "        vertical-align: middle;\n",
       "    }\n",
       "\n",
       "    .dataframe tbody tr th {\n",
       "        vertical-align: top;\n",
       "    }\n",
       "\n",
       "    .dataframe thead th {\n",
       "        text-align: right;\n",
       "    }\n",
       "</style>\n",
       "<table border=\"1\" class=\"dataframe\">\n",
       "  <thead>\n",
       "    <tr style=\"text-align: right;\">\n",
       "      <th></th>\n",
       "      <th>Ticker</th>\n",
       "      <th>GICS Sector</th>\n",
       "      <th>years</th>\n",
       "      <th>total_return</th>\n",
       "      <th>mean_return_per_year</th>\n",
       "      <th>volatility</th>\n",
       "      <th>Return_Volatility_Ratio</th>\n",
       "    </tr>\n",
       "  </thead>\n",
       "  <tbody>\n",
       "    <tr>\n",
       "      <th>174</th>\n",
       "      <td>ENPH</td>\n",
       "      <td>Information Technology</td>\n",
       "      <td>6.0</td>\n",
       "      <td>32.860565</td>\n",
       "      <td>1.572369</td>\n",
       "      <td>2.194736</td>\n",
       "      <td>3.923772</td>\n",
       "    </tr>\n",
       "    <tr>\n",
       "      <th>172</th>\n",
       "      <td>LLY</td>\n",
       "      <td>Health Care</td>\n",
       "      <td>6.0</td>\n",
       "      <td>5.008809</td>\n",
       "      <td>0.369055</td>\n",
       "      <td>0.182660</td>\n",
       "      <td>1.687040</td>\n",
       "    </tr>\n",
       "    <tr>\n",
       "      <th>233</th>\n",
       "      <td>HSY</td>\n",
       "      <td>Consumer Staples</td>\n",
       "      <td>6.0</td>\n",
       "      <td>2.329956</td>\n",
       "      <td>0.240429</td>\n",
       "      <td>0.105929</td>\n",
       "      <td>0.881719</td>\n",
       "    </tr>\n",
       "    <tr>\n",
       "      <th>57</th>\n",
       "      <td>AXON</td>\n",
       "      <td>Industrials</td>\n",
       "      <td>6.0</td>\n",
       "      <td>3.916092</td>\n",
       "      <td>0.323429</td>\n",
       "      <td>0.240420</td>\n",
       "      <td>0.878176</td>\n",
       "    </tr>\n",
       "    <tr>\n",
       "      <th>27</th>\n",
       "      <td>AMD</td>\n",
       "      <td>Information Technology</td>\n",
       "      <td>6.0</td>\n",
       "      <td>6.042278</td>\n",
       "      <td>0.526853</td>\n",
       "      <td>0.607091</td>\n",
       "      <td>0.874004</td>\n",
       "    </tr>\n",
       "    <tr>\n",
       "      <th>148</th>\n",
       "      <td>DXCM</td>\n",
       "      <td>Health Care</td>\n",
       "      <td>6.0</td>\n",
       "      <td>4.482884</td>\n",
       "      <td>0.396231</td>\n",
       "      <td>0.356890</td>\n",
       "      <td>0.829599</td>\n",
       "    </tr>\n",
       "    <tr>\n",
       "      <th>392</th>\n",
       "      <td>PWR</td>\n",
       "      <td>Industrials</td>\n",
       "      <td>6.0</td>\n",
       "      <td>3.862322</td>\n",
       "      <td>0.356241</td>\n",
       "      <td>0.303247</td>\n",
       "      <td>0.756312</td>\n",
       "    </tr>\n",
       "    <tr>\n",
       "      <th>49</th>\n",
       "      <td>AJG</td>\n",
       "      <td>Financials</td>\n",
       "      <td>6.0</td>\n",
       "      <td>2.288882</td>\n",
       "      <td>0.241559</td>\n",
       "      <td>0.130178</td>\n",
       "      <td>0.708092</td>\n",
       "    </tr>\n",
       "    <tr>\n",
       "      <th>84</th>\n",
       "      <td>CDNS</td>\n",
       "      <td>Information Technology</td>\n",
       "      <td>6.0</td>\n",
       "      <td>4.051132</td>\n",
       "      <td>0.353669</td>\n",
       "      <td>0.339007</td>\n",
       "      <td>0.704471</td>\n",
       "    </tr>\n",
       "    <tr>\n",
       "      <th>107</th>\n",
       "      <td>CMG</td>\n",
       "      <td>Consumer Discretionary</td>\n",
       "      <td>6.0</td>\n",
       "      <td>3.904724</td>\n",
       "      <td>0.363332</td>\n",
       "      <td>0.357262</td>\n",
       "      <td>0.661917</td>\n",
       "    </tr>\n",
       "  </tbody>\n",
       "</table>\n",
       "</div>"
      ],
      "text/plain": [
       "    Ticker             GICS Sector  years  total_return  mean_return_per_year  \\\n",
       "174   ENPH  Information Technology    6.0     32.860565              1.572369   \n",
       "172    LLY             Health Care    6.0      5.008809              0.369055   \n",
       "233    HSY        Consumer Staples    6.0      2.329956              0.240429   \n",
       "57    AXON             Industrials    6.0      3.916092              0.323429   \n",
       "27     AMD  Information Technology    6.0      6.042278              0.526853   \n",
       "148   DXCM             Health Care    6.0      4.482884              0.396231   \n",
       "392    PWR             Industrials    6.0      3.862322              0.356241   \n",
       "49     AJG              Financials    6.0      2.288882              0.241559   \n",
       "84    CDNS  Information Technology    6.0      4.051132              0.353669   \n",
       "107    CMG  Consumer Discretionary    6.0      3.904724              0.363332   \n",
       "\n",
       "     volatility  Return_Volatility_Ratio  \n",
       "174    2.194736                 3.923772  \n",
       "172    0.182660                 1.687040  \n",
       "233    0.105929                 0.881719  \n",
       "57     0.240420                 0.878176  \n",
       "27     0.607091                 0.874004  \n",
       "148    0.356890                 0.829599  \n",
       "392    0.303247                 0.756312  \n",
       "49     0.130178                 0.708092  \n",
       "84     0.339007                 0.704471  \n",
       "107    0.357262                 0.661917  "
      ]
     },
     "execution_count": 17,
     "metadata": {},
     "output_type": "execute_result"
    }
   ],
   "source": [
    "top10_companies=df_perCompany.sort_values(by=\"Return_Volatility_Ratio\",ascending=False)[0:10]\n",
    "top10_companies"
   ]
  },
  {
   "cell_type": "code",
   "execution_count": 18,
   "metadata": {},
   "outputs": [
    {
     "data": {
      "text/plain": [
       "<AxesSubplot: xlabel='Ticker', ylabel='Return_Volatility_Ratio'>"
      ]
     },
     "execution_count": 18,
     "metadata": {},
     "output_type": "execute_result"
    },
    {
     "data": {
      "image/png": "[encoded data removed]",
      "text/plain": [
       "<Figure size 1500x500 with 1 Axes>"
      ]
     },
     "metadata": {},
     "output_type": "display_data"
    }
   ],
   "source": [
    "fig, axs=plt.subplots(1,1,figsize=(15,5))\n",
    "sns.barplot(x=top10_companies[\"Ticker\"],y=top10_companies[\"Return_Volatility_Ratio\"])"
   ]
  },
  {
   "cell_type": "code",
   "execution_count": 19,
   "metadata": {},
   "outputs": [
    {
     "data": {
      "application/vnd.plotly.v1+json": {
       "config": {
        "plotlyServerURL": "https://plot.ly"
       },
       "data": [
        {
         "branchvalues": "total",
         "customdata": [
          [
           2.2888821538071498
          ],
          [
           6.042277969975469
          ],
          [
           3.9160917734818685
          ],
          [
           4.051132176521193
          ],
          [
           3.9047236574432733
          ],
          [
           4.482883734761266
          ],
          [
           32.8605649242338
          ],
          [
           2.3299555011515
          ],
          [
           5.0088091451123145
          ],
          [
           3.862321708991497
          ],
          [
           3.9047236574432733
          ],
          [
           2.3299555011515
          ],
          [
           2.2888821538071498
          ],
          [
           4.835440185622493
          ],
          [
           3.8912112293012338
          ],
          [
           24.91205025838671
          ]
         ],
         "domain": {
          "x": [
           0,
           1
          ],
          "y": [
           0,
           1
          ]
         },
         "hovertemplate": "labels=%{label}<br>Return_Volatility_Ratio=%{value}<br>parent=%{parent}<br>id=%{id}<br>total_return=%{color}<extra></extra>",
         "ids": [
          "Financials/AJG",
          "Information Technology/AMD",
          "Industrials/AXON",
          "Information Technology/CDNS",
          "Consumer Discretionary/CMG",
          "Health Care/DXCM",
          "Information Technology/ENPH",
          "Consumer Staples/HSY",
          "Health Care/LLY",
          "Industrials/PWR",
          "Consumer Discretionary",
          "Consumer Staples",
          "Financials",
          "Health Care",
          "Industrials",
          "Information Technology"
         ],
         "labels": [
          "AJG",
          "AMD",
          "AXON",
          "CDNS",
          "CMG",
          "DXCM",
          "ENPH",
          "HSY",
          "LLY",
          "PWR",
          "Consumer Discretionary",
          "Consumer Staples",
          "Financials",
          "Health Care",
          "Industrials",
          "Information Technology"
         ],
         "marker": {
          "coloraxis": "coloraxis",
          "colors": [
           2.2888821538071498,
           6.042277969975469,
           3.9160917734818685,
           4.051132176521193,
           3.9047236574432733,
           4.482883734761266,
           32.8605649242338,
           2.3299555011515,
           5.0088091451123145,
           3.862321708991497,
           3.9047236574432733,
           2.3299555011515,
           2.2888821538071498,
           4.835440185622493,
           3.8912112293012338,
           24.91205025838671
          ]
         },
         "name": "",
         "parents": [
          "Financials",
          "Information Technology",
          "Industrials",
          "Information Technology",
          "Consumer Discretionary",
          "Health Care",
          "Information Technology",
          "Consumer Staples",
          "Health Care",
          "Industrials",
          "",
          "",
          "",
          "",
          "",
          ""
         ],
         "type": "sunburst",
         "values": [
          0.708091922004728,
          0.8740035840671075,
          0.8781756716472984,
          0.7044710641902092,
          0.6619171493882667,
          0.8295985328849936,
          3.9237723125461983,
          0.8817191395690311,
          1.6870396826185294,
          0.7563119208115046,
          0.6619171493882667,
          0.8817191395690311,
          0.708091922004728,
          2.516638215503523,
          1.634487592458803,
          5.502246960803515
         ]
        }
       ],
       "layout": {
        "coloraxis": {
         "colorbar": {
          "title": {
           "text": "total_return"
          }
         },
         "colorscale": [
          [
           0,
           "#0d0887"
          ],
          [
           0.1111111111111111,
           "#46039f"
          ],
          [
           0.2222222222222222,
           "#7201a8"
          ],
          [
           0.3333333333333333,
           "#9c179e"
          ],
          [
           0.4444444444444444,
           "#bd3786"
          ],
          [
           0.5555555555555556,
           "#d8576b"
          ],
          [
           0.6666666666666666,
           "#ed7953"
          ],
          [
           0.7777777777777778,
           "#fb9f3a"
          ],
          [
           0.8888888888888888,
           "#fdca26"
          ],
          [
           1,
           "#f0f921"
          ]
         ]
        },
        "legend": {
         "tracegroupgap": 0
        },
        "margin": {
         "t": 60
        },
        "template": {
         "data": {
          "bar": [
           {
            "error_x": {
             "color": "#2a3f5f"
            },
            "error_y": {
             "color": "#2a3f5f"
            },
            "marker": {
             "line": {
              "color": "#E5ECF6",
              "width": 0.5
             },
             "pattern": {
              "fillmode": "overlay",
              "size": 10,
              "solidity": 0.2
             }
            },
            "type": "bar"
           }
          ],
          "barpolar": [
           {
            "marker": {
             "line": {
              "color": "#E5ECF6",
              "width": 0.5
             },
             "pattern": {
              "fillmode": "overlay",
              "size": 10,
              "solidity": 0.2
             }
            },
            "type": "barpolar"
           }
          ],
          "carpet": [
           {
            "aaxis": {
             "endlinecolor": "#2a3f5f",
             "gridcolor": "white",
             "linecolor": "white",
             "minorgridcolor": "white",
             "startlinecolor": "#2a3f5f"
            },
            "baxis": {
             "endlinecolor": "#2a3f5f",
             "gridcolor": "white",
             "linecolor": "white",
             "minorgridcolor": "white",
             "startlinecolor": "#2a3f5f"
            },
            "type": "carpet"
           }
          ],
          "choropleth": [
           {
            "colorbar": {
             "outlinewidth": 0,
             "ticks": ""
            },
            "type": "choropleth"
           }
          ],
          "contour": [
           {
            "colorbar": {
             "outlinewidth": 0,
             "ticks": ""
            },
            "colorscale": [
             [
              0,
              "#0d0887"
             ],
             [
              0.1111111111111111,
              "#46039f"
             ],
             [
              0.2222222222222222,
              "#7201a8"
             ],
             [
              0.3333333333333333,
              "#9c179e"
             ],
             [
              0.4444444444444444,
              "#bd3786"
             ],
             [
              0.5555555555555556,
              "#d8576b"
             ],
             [
              0.6666666666666666,
              "#ed7953"
             ],
             [
              0.7777777777777778,
              "#fb9f3a"
             ],
             [
              0.8888888888888888,
              "#fdca26"
             ],
             [
              1,
              "#f0f921"
             ]
            ],
            "type": "contour"
           }
          ],
          "contourcarpet": [
           {
            "colorbar": {
             "outlinewidth": 0,
             "ticks": ""
            },
            "type": "contourcarpet"
           }
          ],
          "heatmap": [
           {
            "colorbar": {
             "outlinewidth": 0,
             "ticks": ""
            },
            "colorscale": [
             [
              0,
              "#0d0887"
             ],
             [
              0.1111111111111111,
              "#46039f"
             ],
             [
              0.2222222222222222,
              "#7201a8"
             ],
             [
              0.3333333333333333,
              "#9c179e"
             ],
             [
              0.4444444444444444,
              "#bd3786"
             ],
             [
              0.5555555555555556,
              "#d8576b"
             ],
             [
              0.6666666666666666,
              "#ed7953"
             ],
             [
              0.7777777777777778,
              "#fb9f3a"
             ],
             [
              0.8888888888888888,
              "#fdca26"
             ],
             [
              1,
              "#f0f921"
             ]
            ],
            "type": "heatmap"
           }
          ],
          "heatmapgl": [
           {
            "colorbar": {
             "outlinewidth": 0,
             "ticks": ""
            },
            "colorscale": [
             [
              0,
              "#0d0887"
             ],
             [
              0.1111111111111111,
              "#46039f"
             ],
             [
              0.2222222222222222,
              "#7201a8"
             ],
             [
              0.3333333333333333,
              "#9c179e"
             ],
             [
              0.4444444444444444,
              "#bd3786"
             ],
             [
              0.5555555555555556,
              "#d8576b"
             ],
             [
              0.6666666666666666,
              "#ed7953"
             ],
             [
              0.7777777777777778,
              "#fb9f3a"
             ],
             [
              0.8888888888888888,
              "#fdca26"
             ],
             [
              1,
              "#f0f921"
             ]
            ],
            "type": "heatmapgl"
           }
          ],
          "histogram": [
           {
            "marker": {
             "pattern": {
              "fillmode": "overlay",
              "size": 10,
              "solidity": 0.2
             }
            },
            "type": "histogram"
           }
          ],
          "histogram2d": [
           {
            "colorbar": {
             "outlinewidth": 0,
             "ticks": ""
            },
            "colorscale": [
             [
              0,
              "#0d0887"
             ],
             [
              0.1111111111111111,
              "#46039f"
             ],
             [
              0.2222222222222222,
              "#7201a8"
             ],
             [
              0.3333333333333333,
              "#9c179e"
             ],
             [
              0.4444444444444444,
              "#bd3786"
             ],
             [
              0.5555555555555556,
              "#d8576b"
             ],
             [
              0.6666666666666666,
              "#ed7953"
             ],
             [
              0.7777777777777778,
              "#fb9f3a"
             ],
             [
              0.8888888888888888,
              "#fdca26"
             ],
             [
              1,
              "#f0f921"
             ]
            ],
            "type": "histogram2d"
           }
          ],
          "histogram2dcontour": [
           {
            "colorbar": {
             "outlinewidth": 0,
             "ticks": ""
            },
            "colorscale": [
             [
              0,
              "#0d0887"
             ],
             [
              0.1111111111111111,
              "#46039f"
             ],
             [
              0.2222222222222222,
              "#7201a8"
             ],
             [
              0.3333333333333333,
              "#9c179e"
             ],
             [
              0.4444444444444444,
              "#bd3786"
             ],
             [
              0.5555555555555556,
              "#d8576b"
             ],
             [
              0.6666666666666666,
              "#ed7953"
             ],
             [
              0.7777777777777778,
              "#fb9f3a"
             ],
             [
              0.8888888888888888,
              "#fdca26"
             ],
             [
              1,
              "#f0f921"
             ]
            ],
            "type": "histogram2dcontour"
           }
          ],
          "mesh3d": [
           {
            "colorbar": {
             "outlinewidth": 0,
             "ticks": ""
            },
            "type": "mesh3d"
           }
          ],
          "parcoords": [
           {
            "line": {
             "colorbar": {
              "outlinewidth": 0,
              "ticks": ""
             }
            },
            "type": "parcoords"
           }
          ],
          "pie": [
           {
            "automargin": true,
            "type": "pie"
           }
          ],
          "scatter": [
           {
            "fillpattern": {
             "fillmode": "overlay",
             "size": 10,
             "solidity": 0.2
            },
            "type": "scatter"
           }
          ],
          "scatter3d": [
           {
            "line": {
             "colorbar": {
              "outlinewidth": 0,
              "ticks": ""
             }
            },
            "marker": {
             "colorbar": {
              "outlinewidth": 0,
              "ticks": ""
             }
            },
            "type": "scatter3d"
           }
          ],
          "scattercarpet": [
           {
            "marker": {
             "colorbar": {
              "outlinewidth": 0,
              "ticks": ""
             }
            },
            "type": "scattercarpet"
           }
          ],
          "scattergeo": [
           {
            "marker": {
             "colorbar": {
              "outlinewidth": 0,
              "ticks": ""
             }
            },
            "type": "scattergeo"
           }
          ],
          "scattergl": [
           {
            "marker": {
             "colorbar": {
              "outlinewidth": 0,
              "ticks": ""
             }
            },
            "type": "scattergl"
           }
          ],
          "scattermapbox": [
           {
            "marker": {
             "colorbar": {
              "outlinewidth": 0,
              "ticks": ""
             }
            },
            "type": "scattermapbox"
           }
          ],
          "scatterpolar": [
           {
            "marker": {
             "colorbar": {
              "outlinewidth": 0,
              "ticks": ""
             }
            },
            "type": "scatterpolar"
           }
          ],
          "scatterpolargl": [
           {
            "marker": {
             "colorbar": {
              "outlinewidth": 0,
              "ticks": ""
             }
            },
            "type": "scatterpolargl"
           }
          ],
          "scatterternary": [
           {
            "marker": {
             "colorbar": {
              "outlinewidth": 0,
              "ticks": ""
             }
            },
            "type": "scatterternary"
           }
          ],
          "surface": [
           {
            "colorbar": {
             "outlinewidth": 0,
             "ticks": ""
            },
            "colorscale": [
             [
              0,
              "#0d0887"
             ],
             [
              0.1111111111111111,
              "#46039f"
             ],
             [
              0.2222222222222222,
              "#7201a8"
             ],
             [
              0.3333333333333333,
              "#9c179e"
             ],
             [
              0.4444444444444444,
              "#bd3786"
             ],
             [
              0.5555555555555556,
              "#d8576b"
             ],
             [
              0.6666666666666666,
              "#ed7953"
             ],
             [
              0.7777777777777778,
              "#fb9f3a"
             ],
             [
              0.8888888888888888,
              "#fdca26"
             ],
             [
              1,
              "#f0f921"
             ]
            ],
            "type": "surface"
           }
          ],
          "table": [
           {
            "cells": {
             "fill": {
              "color": "#EBF0F8"
             },
             "line": {
              "color": "white"
             }
            },
            "header": {
             "fill": {
              "color": "#C8D4E3"
             },
             "line": {
              "color": "white"
             }
            },
            "type": "table"
           }
          ]
         },
         "layout": {
          "annotationdefaults": {
           "arrowcolor": "#2a3f5f",
           "arrowhead": 0,
           "arrowwidth": 1
          },
          "autotypenumbers": "strict",
          "coloraxis": {
           "colorbar": {
            "outlinewidth": 0,
            "ticks": ""
           }
          },
          "colorscale": {
           "diverging": [
            [
             0,
             "#8e0152"
            ],
            [
             0.1,
             "#c51b7d"
            ],
            [
             0.2,
             "#de77ae"
            ],
            [
             0.3,
             "#f1b6da"
            ],
            [
             0.4,
             "#fde0ef"
            ],
            [
             0.5,
             "#f7f7f7"
            ],
            [
             0.6,
             "#e6f5d0"
            ],
            [
             0.7,
             "#b8e186"
            ],
            [
             0.8,
             "#7fbc41"
            ],
            [
             0.9,
             "#4d9221"
            ],
            [
             1,
             "#276419"
            ]
           ],
           "sequential": [
            [
             0,
             "#0d0887"
            ],
            [
             0.1111111111111111,
             "#46039f"
            ],
            [
             0.2222222222222222,
             "#7201a8"
            ],
            [
             0.3333333333333333,
             "#9c179e"
            ],
            [
             0.4444444444444444,
             "#bd3786"
            ],
            [
             0.5555555555555556,
             "#d8576b"
            ],
            [
             0.6666666666666666,
             "#ed7953"
            ],
            [
             0.7777777777777778,
             "#fb9f3a"
            ],
            [
             0.8888888888888888,
             "#fdca26"
            ],
            [
             1,
             "#f0f921"
            ]
           ],
           "sequentialminus": [
            [
             0,
             "#0d0887"
            ],
            [
             0.1111111111111111,
             "#46039f"
            ],
            [
             0.2222222222222222,
             "#7201a8"
            ],
            [
             0.3333333333333333,
             "#9c179e"
            ],
            [
             0.4444444444444444,
             "#bd3786"
            ],
            [
             0.5555555555555556,
             "#d8576b"
            ],
            [
             0.6666666666666666,
             "#ed7953"
            ],
            [
             0.7777777777777778,
             "#fb9f3a"
            ],
            [
             0.8888888888888888,
             "#fdca26"
            ],
            [
             1,
             "#f0f921"
            ]
           ]
          },
          "colorway": [
           "#636efa",
           "#EF553B",
           "#00cc96",
           "#ab63fa",
           "#FFA15A",
           "#19d3f3",
           "#FF6692",
           "#B6E880",
           "#FF97FF",
           "#FECB52"
          ],
          "font": {
           "color": "#2a3f5f"
          },
          "geo": {
           "bgcolor": "white",
           "lakecolor": "white",
           "landcolor": "#E5ECF6",
           "showlakes": true,
           "showland": true,
           "subunitcolor": "white"
          },
          "hoverlabel": {
           "align": "left"
          },
          "hovermode": "closest",
          "mapbox": {
           "style": "light"
          },
          "paper_bgcolor": "white",
          "plot_bgcolor": "#E5ECF6",
          "polar": {
           "angularaxis": {
            "gridcolor": "white",
            "linecolor": "white",
            "ticks": ""
           },
           "bgcolor": "#E5ECF6",
           "radialaxis": {
            "gridcolor": "white",
            "linecolor": "white",
            "ticks": ""
           }
          },
          "scene": {
           "xaxis": {
            "backgroundcolor": "#E5ECF6",
            "gridcolor": "white",
            "gridwidth": 2,
            "linecolor": "white",
            "showbackground": true,
            "ticks": "",
            "zerolinecolor": "white"
           },
           "yaxis": {
            "backgroundcolor": "#E5ECF6",
            "gridcolor": "white",
            "gridwidth": 2,
            "linecolor": "white",
            "showbackground": true,
            "ticks": "",
            "zerolinecolor": "white"
           },
           "zaxis": {
            "backgroundcolor": "#E5ECF6",
            "gridcolor": "white",
            "gridwidth": 2,
            "linecolor": "white",
            "showbackground": true,
            "ticks": "",
            "zerolinecolor": "white"
           }
          },
          "shapedefaults": {
           "line": {
            "color": "#2a3f5f"
           }
          },
          "ternary": {
           "aaxis": {
            "gridcolor": "white",
            "linecolor": "white",
            "ticks": ""
           },
           "baxis": {
            "gridcolor": "white",
            "linecolor": "white",
            "ticks": ""
           },
           "bgcolor": "#E5ECF6",
           "caxis": {
            "gridcolor": "white",
            "linecolor": "white",
            "ticks": ""
           }
          },
          "title": {
           "x": 0.05
          },
          "xaxis": {
           "automargin": true,
           "gridcolor": "white",
           "linecolor": "white",
           "ticks": "",
           "title": {
            "standoff": 15
           },
           "zerolinecolor": "white",
           "zerolinewidth": 2
          },
          "yaxis": {
           "automargin": true,
           "gridcolor": "white",
           "linecolor": "white",
           "ticks": "",
           "title": {
            "standoff": 15
           },
           "zerolinecolor": "white",
           "zerolinewidth": 2
          }
         }
        }
       }
      }
     },
     "metadata": {},
     "output_type": "display_data"
    }
   ],
   "source": [
    "fig = px.sunburst(top10_companies, path=['GICS Sector', 'Ticker'], values='Return_Volatility_Ratio',\n",
    "                  color='total_return')\n",
    "fig.show()"
   ]
  },
  {
   "cell_type": "code",
   "execution_count": 20,
   "metadata": {},
   "outputs": [
    {
     "name": "stderr",
     "output_type": "stream",
     "text": [
      "C:\\Users\\anura\\AppData\\Local\\Temp\\ipykernel_13024\\3978100931.py:1: FutureWarning:\n",
      "\n",
      "The default value of numeric_only in DataFrameGroupBy.mean is deprecated. In a future version, numeric_only will default to False. Either specify numeric_only or select only columns which should be valid for the function.\n",
      "\n"
     ]
    },
    {
     "data": {
      "text/html": [
       "<div>\n",
       "<style scoped>\n",
       "    .dataframe tbody tr th:only-of-type {\n",
       "        vertical-align: middle;\n",
       "    }\n",
       "\n",
       "    .dataframe tbody tr th {\n",
       "        vertical-align: top;\n",
       "    }\n",
       "\n",
       "    .dataframe thead th {\n",
       "        text-align: right;\n",
       "    }\n",
       "</style>\n",
       "<table border=\"1\" class=\"dataframe\">\n",
       "  <thead>\n",
       "    <tr style=\"text-align: right;\">\n",
       "      <th></th>\n",
       "      <th>years</th>\n",
       "      <th>total_return</th>\n",
       "      <th>mean_return_per_year</th>\n",
       "      <th>volatility</th>\n",
       "      <th>Return_Volatility_Ratio</th>\n",
       "    </tr>\n",
       "    <tr>\n",
       "      <th>GICS Sector</th>\n",
       "      <th></th>\n",
       "      <th></th>\n",
       "      <th></th>\n",
       "      <th></th>\n",
       "      <th></th>\n",
       "    </tr>\n",
       "  </thead>\n",
       "  <tbody>\n",
       "    <tr>\n",
       "      <th>Information Technology</th>\n",
       "      <td>6.000000</td>\n",
       "      <td>1.721592</td>\n",
       "      <td>0.200544</td>\n",
       "      <td>0.377049</td>\n",
       "      <td>0.152629</td>\n",
       "    </tr>\n",
       "    <tr>\n",
       "      <th>Health Care</th>\n",
       "      <td>5.892308</td>\n",
       "      <td>1.026657</td>\n",
       "      <td>0.146257</td>\n",
       "      <td>0.244611</td>\n",
       "      <td>0.104196</td>\n",
       "    </tr>\n",
       "    <tr>\n",
       "      <th>Consumer Staples</th>\n",
       "      <td>6.000000</td>\n",
       "      <td>0.771076</td>\n",
       "      <td>0.112873</td>\n",
       "      <td>0.176493</td>\n",
       "      <td>0.082207</td>\n",
       "    </tr>\n",
       "    <tr>\n",
       "      <th>Industrials</th>\n",
       "      <td>5.945946</td>\n",
       "      <td>0.823925</td>\n",
       "      <td>0.127116</td>\n",
       "      <td>0.245706</td>\n",
       "      <td>0.071700</td>\n",
       "    </tr>\n",
       "    <tr>\n",
       "      <th>Utilities</th>\n",
       "      <td>5.866667</td>\n",
       "      <td>0.505148</td>\n",
       "      <td>0.102261</td>\n",
       "      <td>0.168361</td>\n",
       "      <td>0.052312</td>\n",
       "    </tr>\n",
       "    <tr>\n",
       "      <th>Consumer Discretionary</th>\n",
       "      <td>6.000000</td>\n",
       "      <td>0.764476</td>\n",
       "      <td>0.128192</td>\n",
       "      <td>0.334121</td>\n",
       "      <td>0.048890</td>\n",
       "    </tr>\n",
       "    <tr>\n",
       "      <th>Materials</th>\n",
       "      <td>5.931034</td>\n",
       "      <td>0.561946</td>\n",
       "      <td>0.102579</td>\n",
       "      <td>0.245615</td>\n",
       "      <td>0.039576</td>\n",
       "    </tr>\n",
       "    <tr>\n",
       "      <th>Real Estate</th>\n",
       "      <td>6.000000</td>\n",
       "      <td>0.420508</td>\n",
       "      <td>0.107659</td>\n",
       "      <td>0.296801</td>\n",
       "      <td>0.025425</td>\n",
       "    </tr>\n",
       "    <tr>\n",
       "      <th>Financials</th>\n",
       "      <td>6.000000</td>\n",
       "      <td>0.403632</td>\n",
       "      <td>0.073065</td>\n",
       "      <td>0.250039</td>\n",
       "      <td>0.019661</td>\n",
       "    </tr>\n",
       "    <tr>\n",
       "      <th>Energy</th>\n",
       "      <td>6.000000</td>\n",
       "      <td>0.336742</td>\n",
       "      <td>0.115127</td>\n",
       "      <td>0.408522</td>\n",
       "      <td>0.015818</td>\n",
       "    </tr>\n",
       "    <tr>\n",
       "      <th>Communication Services</th>\n",
       "      <td>5.916667</td>\n",
       "      <td>0.195331</td>\n",
       "      <td>0.059335</td>\n",
       "      <td>0.284563</td>\n",
       "      <td>0.006885</td>\n",
       "    </tr>\n",
       "  </tbody>\n",
       "</table>\n",
       "</div>"
      ],
      "text/plain": [
       "                           years  total_return  mean_return_per_year  \\\n",
       "GICS Sector                                                            \n",
       "Information Technology  6.000000      1.721592              0.200544   \n",
       "Health Care             5.892308      1.026657              0.146257   \n",
       "Consumer Staples        6.000000      0.771076              0.112873   \n",
       "Industrials             5.945946      0.823925              0.127116   \n",
       "Utilities               5.866667      0.505148              0.102261   \n",
       "Consumer Discretionary  6.000000      0.764476              0.128192   \n",
       "Materials               5.931034      0.561946              0.102579   \n",
       "Real Estate             6.000000      0.420508              0.107659   \n",
       "Financials              6.000000      0.403632              0.073065   \n",
       "Energy                  6.000000      0.336742              0.115127   \n",
       "Communication Services  5.916667      0.195331              0.059335   \n",
       "\n",
       "                        volatility  Return_Volatility_Ratio  \n",
       "GICS Sector                                                  \n",
       "Information Technology    0.377049                 0.152629  \n",
       "Health Care               0.244611                 0.104196  \n",
       "Consumer Staples          0.176493                 0.082207  \n",
       "Industrials               0.245706                 0.071700  \n",
       "Utilities                 0.168361                 0.052312  \n",
       "Consumer Discretionary    0.334121                 0.048890  \n",
       "Materials                 0.245615                 0.039576  \n",
       "Real Estate               0.296801                 0.025425  \n",
       "Financials                0.250039                 0.019661  \n",
       "Energy                    0.408522                 0.015818  \n",
       "Communication Services    0.284563                 0.006885  "
      ]
     },
     "execution_count": 20,
     "metadata": {},
     "output_type": "execute_result"
    }
   ],
   "source": [
    "df_perSector=df_perCompany.groupby(\"GICS Sector\").mean()\n",
    "Rf = 0.01/255\n",
    "df_perSector[\"Return_Volatility_Ratio\"] = (df_perSector[\"mean_return_per_year\"]*df_perSector[\"total_return\"])/((df_perSector[\"volatility\"]-Rf)*df_perSector[\"years\"])\n",
    "df_perSector.sort_values(\"Return_Volatility_Ratio\",ascending=False,inplace=True)\n",
    "df_perSector"
   ]
  },
  {
   "cell_type": "code",
   "execution_count": 21,
   "metadata": {},
   "outputs": [
    {
     "data": {
      "text/plain": [
       "<AxesSubplot: xlabel='GICS Sector', ylabel='Return_Volatility_Ratio'>"
      ]
     },
     "execution_count": 21,
     "metadata": {},
     "output_type": "execute_result"
    },
    {
     "data": {
      "image/png": "[encoded data removed]",
      "text/plain": [
       "<Figure size 3000x800 with 1 Axes>"
      ]
     },
     "metadata": {},
     "output_type": "display_data"
    }
   ],
   "source": [
    "fig, axs=plt.subplots(1,1,figsize=(30,8))\n",
    "sns.barplot(x=df_perSector.index, y=df_perSector[\"Return_Volatility_Ratio\"])"
   ]
  },
  {
   "cell_type": "code",
   "execution_count": 22,
   "metadata": {},
   "outputs": [
    {
     "data": {
      "application/vnd.plotly.v1+json": {
       "config": {
        "plotlyServerURL": "https://plot.ly"
       },
       "data": [
        {
         "branchvalues": "total",
         "customdata": [
          [
           0.20010025804875525
          ],
          [
           0.2236749535283802
          ],
          [
           0.3057239340451148
          ],
          [
           0.4305756590044747
          ],
          [
           0.16065825010010748
          ],
          [
           0.16334029691812618
          ],
          [
           0.18166218663518535
          ],
          [
           0.2603722467168518
          ],
          [
           0.3362142016498956
          ],
          [
           0.307656289815578
          ],
          [
           0.16455156052811196
          ],
          [
           0.20365637892417554
          ],
          [
           0.20144163948487936
          ],
          [
           0.32025168108477675
          ],
          [
           0.08733704334346594
          ],
          [
           0.13395577917710375
          ],
          [
           0.19204367218976015
          ],
          [
           0.18348821180192962
          ],
          [
           0.3094397945975291
          ],
          [
           0.2041698206232608
          ],
          [
           0.13017797487101312
          ],
          [
           0.2481020200256519
          ],
          [
           0.4717115525659019
          ],
          [
           0.49727665106764335
          ],
          [
           0.13445008509395698
          ],
          [
           0.19520856705285816
          ],
          [
           0.23110306949818354
          ],
          [
           0.5023926427423733
          ],
          [
           0.12942292176860523
          ],
          [
           0.6070911832734033
          ],
          [
           0.1900724726769362
          ],
          [
           0.14115197242648794
          ],
          [
           0.31629481899780326
          ],
          [
           0.2547546627925668
          ],
          [
           0.36482303342937356
          ],
          [
           0.41970048179391384
          ],
          [
           0.38160819089440795
          ],
          [
           0.20247858703851718
          ],
          [
           0.3197886869463007
          ],
          [
           0.49323643931877553
          ],
          [
           0.17920916033894657
          ],
          [
           0.19759548614682543
          ],
          [
           0.36469298050221366
          ],
          [
           0.28192574475738846
          ],
          [
           0.11740095638871649
          ],
          [
           0.3167934475013479
          ],
          [
           0.32631214670479014
          ],
          [
           0.23873705413762092
          ],
          [
           0.2602501541941482
          ],
          [
           0.20039128392178357
          ],
          [
           0.2404199049610914
          ],
          [
           0.191036837764206
          ],
          [
           0.25222341959071753
          ],
          [
           0.1324681504712003
          ],
          [
           0.3122275358378782
          ],
          [
           0.3105351409843832
          ],
          [
           0.20881760546774011
          ],
          [
           0.6805050330943784
          ],
          [
           0.31635919008686947
          ],
          [
           0.09808050657436551
          ],
          [
           0.1976708629159467
          ],
          [
           0.20529574017497557
          ],
          [
           0.11148530103987313
          ],
          [
           0.36776196996836785
          ],
          [
           0.21678029923399394
          ],
          [
           0.1878684778652851
          ],
          [
           0.2290327331334703
          ],
          [
           0.277704788479421
          ],
          [
           0.11443724021760968
          ],
          [
           0.20565390430758895
          ],
          [
           0.24330356505860304
          ],
          [
           0.16198059867834136
          ],
          [
           0.1957504324966548
          ],
          [
           0.2786692424761689
          ],
          [
           0.27311615653716376
          ],
          [
           0.319295912896791
          ],
          [
           0.20164070683910054
          ],
          [
           0.9359327525779684
          ],
          [
           0.15023594246107017
          ],
          [
           0.14861917761202265
          ],
          [
           0.20559361928534203
          ],
          [
           0.3952694697543594
          ],
          [
           0.25954118860679354
          ],
          [
           0.307863166651472
          ],
          [
           0.4487035871543533
          ],
          [
           0.3390072345283192
          ],
          [
           0.37432928931566584
          ],
          [
           0.26946587233028996
          ],
          [
           0.5669418578060347
          ],
          [
           0.3325074874806616
          ],
          [
           0.2873391107436844
          ],
          [
           0.18315633209598223
          ],
          [
           0.13329613118113065
          ],
          [
           0.3541842298677608
          ],
          [
           0.19676385975591673
          ],
          [
           0.21542261819303812
          ],
          [
           0.12135576847336393
          ],
          [
           0.202197457143727
          ],
          [
           0.3453385435846033
          ],
          [
           0.19188951813892177
          ],
          [
           0.1746280149459874
          ],
          [
           0.35726169812412045
          ],
          [
           0.17303999295661962
          ],
          [
           0.12195057955266547
          ],
          [
           0.14622596991191242
          ],
          [
           0.1526787396305385
          ],
          [
           0.29569866256391786
          ],
          [
           0.15343454295356435
          ],
          [
           0.45093448687015164
          ],
          [
           0.24407530946481076
          ],
          [
           0.2654077046844471
          ],
          [
           0.35059789725525287
          ],
          [
           0.3862746172573302
          ],
          [
           0.3607178206696405
          ],
          [
           0.2918571967633723
          ],
          [
           0.2181241797062518
          ],
          [
           0.3506116201901732
          ],
          [
           0.15682899444353976
          ],
          [
           0.22431539516177545
          ],
          [
           0.5305122680235519
          ],
          [
           0.19612448863439805
          ],
          [
           0.2197301974676223
          ],
          [
           0.13933858597954257
          ],
          [
           0.236617888320069
          ],
          [
           0.30284326191059197
          ],
          [
           0.3592731742106997
          ],
          [
           0.14334285743233124
          ],
          [
           0.1650674778236264
          ],
          [
           0.1379328872558093
          ],
          [
           0.19715586446522218
          ],
          [
           0.2314709638705836
          ],
          [
           0.18993179691281734
          ],
          [
           0.22951388173204723
          ],
          [
           0.3135867904001797
          ],
          [
           0.27885938877519356
          ],
          [
           0.2583761052157362
          ],
          [
           0.3225931789488325
          ],
          [
           0.24550045312880303
          ],
          [
           0.11461993916232421
          ],
          [
           0.30290143385391544
          ],
          [
           0.07374790497926992
          ],
          [
           0.28221181759554953
          ],
          [
           0.10807833534796633
          ],
          [
           0.11062459249184547
          ],
          [
           0.08372473843609053
          ],
          [
           0.33264017076284963
          ],
          [
           0.786771666994983
          ],
          [
           0.20331148483037131
          ],
          [
           0.35689010600790544
          ],
          [
           0.2469311215046153
          ],
          [
           0.2904138322341406
          ],
          [
           0.21637543638228632
          ],
          [
           0.1462452680088836
          ],
          [
           0.33989782267507546
          ],
          [
           0.16872549163191441
          ],
          [
           0.3363165108847086
          ],
          [
           0.166947758426655
          ],
          [
           0.24451446582087208
          ],
          [
           0.1607909722191998
          ],
          [
           2.19473583138063
          ],
          [
           0.4498032564294843
          ],
          [
           0.5432845201010522
          ],
          [
           0.2919958434077476
          ],
          [
           0.31749014499642814
          ],
          [
           0.4056985418821507
          ],
          [
           0.14691395436767055
          ],
          [
           0.3122901812751545
          ],
          [
           0.22014593636191745
          ],
          [
           0.19063285224204463
          ],
          [
           1.122375919003947
          ],
          [
           0.14530881498319753
          ],
          [
           0.31222473552366836
          ],
          [
           0.16014851151918907
          ],
          [
           0.1974223317622814
          ],
          [
           0.2763784219986779
          ],
          [
           0.43995621563522114
          ],
          [
           0.6202442945587238
          ],
          [
           0.5542686291263249
          ],
          [
           0.23629719363821167
          ],
          [
           0.4332100976301325
          ],
          [
           0.22185800563391075
          ],
          [
           0.3589363354692794
          ],
          [
           0.26550614523338556
          ],
          [
           0.2618252331076684
          ],
          [
           0.35911715882412765
          ],
          [
           0.24828543658609015
          ],
          [
           0.23399496121205235
          ],
          [
           0.3440413825074665
          ],
          [
           0.25567791490436736
          ],
          [
           0.23456274798536073
          ],
          [
           0.15610834517006134
          ],
          [
           0.18426392277697454
          ],
          [
           0.331120111108601
          ],
          [
           0.40048064300794706
          ],
          [
           0.5230360175715193
          ],
          [
           0.09894940539403674
          ],
          [
           0.24001939445117468
          ],
          [
           0.341210843306293
          ],
          [
           0.22519641149611697
          ],
          [
           0.3029969355474463
          ],
          [
           0.13380168342953574
          ],
          [
           0.15870316764005787
          ],
          [
           0.201696043397541
          ],
          [
           0.11509268876761035
          ],
          [
           0.268846488246671
          ],
          [
           0.6382274048563064
          ],
          [
           0.3229538449409028
          ],
          [
           0.32397430531244154
          ],
          [
           0.16552871457519225
          ],
          [
           0.37785035904778164
          ],
          [
           0.26282229722675315
          ],
          [
           0.26548432681302764
          ],
          [
           0.11143693167076614
          ],
          [
           0.3704279822743844
          ],
          [
           0.2242136017604749
          ],
          [
           0.21707277531502
          ],
          [
           0.19256250077655024
          ],
          [
           0.2740179332159534
          ],
          [
           0.4308401749912755
          ],
          [
           0.25931677847045226
          ],
          [
           0.234050638875217
          ],
          [
           0.2800147914692291
          ],
          [
           0.14769268827613422
          ],
          [
           0.15136358525255522
          ],
          [
           0.23447109645899553
          ],
          [
           0.2685228921016496
          ],
          [
           0.10406061985854424
          ],
          [
           0.06177002825067997
          ],
          [
           0.15546579023304122
          ],
          [
           0.10592869239186997
          ],
          [
           0.09283835810573791
          ],
          [
           0.245558513120298
          ],
          [
           0.1476608029895677
          ],
          [
           0.1694869366579186
          ],
          [
           0.3952255458425057
          ],
          [
           0.17051207572622382
          ],
          [
           0.23255521616743424
          ],
          [
           0.21713782969643522
          ],
          [
           0.17571758194275713
          ],
          [
           0.2532164929380047
          ],
          [
           0.3516294529570696
          ],
          [
           0.34166517069655866
          ],
          [
           0.15952126002911568
          ],
          [
           0.2609634196227872
          ],
          [
           0.27592578676329205
          ],
          [
           0.35738628582342447
          ],
          [
           0.33027741399678445
          ],
          [
           0.21848658516734135
          ],
          [
           0.40882081283974353
          ],
          [
           0.19195743916280805
          ],
          [
           0.24928382882378455
          ],
          [
           0.23267188218023283
          ],
          [
           0.2479866920653661
          ],
          [
           0.34655466471860147
          ],
          [
           0.08781181874389615
          ],
          [
           0.07873744215746988
          ],
          [
           0.255443449797955
          ],
          [
           0.21804608320803265
          ],
          [
           0.10984504181774275
          ],
          [
           0.1353442456165796
          ],
          [
           0.3446618374800917
          ],
          [
           0.32192078943484265
          ],
          [
           0.16827655367488306
          ],
          [
           0.3615514323275313
          ],
          [
           0.43191377563885935
          ],
          [
           0.09089325419838498
          ],
          [
           0.23068047125994584
          ],
          [
           0.3099228969469313
          ],
          [
           0.07059283402450689
          ],
          [
           0.13509565154337558
          ],
          [
           0.15640507423803832
          ],
          [
           0.3801568788792646
          ],
          [
           0.31333665816907025
          ],
          [
           0.28932063856174944
          ],
          [
           0.2168412570599362
          ],
          [
           0.15629360357434718
          ],
          [
           0.3399701136892845
          ],
          [
           0.18265974625562226
          ],
          [
           0.25381849688290087
          ],
          [
           0.3235449195323481
          ],
          [
           0.1612605836890652
          ],
          [
           0.26623881247572306
          ],
          [
           0.5374275899795787
          ],
          [
           0.12119620465992083
          ],
          [
           0.278266733326268
          ],
          [
           0.19140694677472597
          ],
          [
           0.11227843233448702
          ],
          [
           0.36122123103614623
          ],
          [
           0.212816714494216
          ],
          [
           0.394764403111491
          ],
          [
           0.23976122535838082
          ],
          [
           0.3243043786893204
          ],
          [
           0.09058425257935264
          ],
          [
           0.2520239137581955
          ],
          [
           0.2620843731311055
          ],
          [
           0.3213670414982998
          ],
          [
           0.12436401079912111
          ],
          [
           0.17939516475801018
          ],
          [
           0.2111019886633204
          ],
          [
           0.5042642912236165
          ],
          [
           0.29872618158740727
          ],
          [
           0.2941059124526441
          ],
          [
           0.15568066582661022
          ],
          [
           0.4022922420197873
          ],
          [
           0.34083448456354126
          ],
          [
           0.22225935259742213
          ],
          [
           0.11860825130101282
          ],
          [
           0.17486281382584637
          ],
          [
           0.11167825393741314
          ],
          [
           0.23752991987840222
          ],
          [
           0.2769935474796925
          ],
          [
           0.4167946164626291
          ],
          [
           0.4272797189650055
          ],
          [
           0.1982063470550914
          ],
          [
           1.6751443294615134
          ],
          [
           0.6597991304895476
          ],
          [
           0.2607734732113029
          ],
          [
           0.3761946802671209
          ],
          [
           0.2991264151261331
          ],
          [
           0.23449372970251378
          ],
          [
           0.19446443192548016
          ],
          [
           0.5684410729345356
          ],
          [
           0.24354558949166097
          ],
          [
           0.3928485993856658
          ],
          [
           0.33048425009967425
          ],
          [
           0.2703115414092344
          ],
          [
           0.20054627756207075
          ],
          [
           0.20555131248621425
          ],
          [
           0.2210586477534623
          ],
          [
           0.3523675180102373
          ],
          [
           0.12176076704071417
          ],
          [
           0.22915771620152858
          ],
          [
           0.2884223946560279
          ],
          [
           0.406781916209988
          ],
          [
           0.14484842125899783
          ],
          [
           0.20129362339956186
          ],
          [
           0.23827046528007012
          ],
          [
           0.23595148985932984
          ],
          [
           0.4464701115416797
          ],
          [
           0.7325501269310123
          ],
          [
           0.3033560103179482
          ],
          [
           0.21343496782965216
          ],
          [
           0.22753036752186045
          ],
          [
           0.23092918554020458
          ],
          [
           0.3593558785590036
          ],
          [
           0.16160078997135538
          ],
          [
           0.38100736359662796
          ],
          [
           0.027337056923783357
          ],
          [
           0.37099839410491653
          ],
          [
           0.13686036155345058
          ],
          [
           0.43450139022438466
          ],
          [
           0.14814641139030885
          ],
          [
           0.16634630840793813
          ],
          [
           0.22425388726171352
          ],
          [
           0.5659260384290763
          ],
          [
           0.23904689932195797
          ],
          [
           0.4995546379432122
          ],
          [
           0.23184762526823002
          ],
          [
           0.15124331650023717
          ],
          [
           0.3227863565050584
          ],
          [
           0.23297108201967623
          ],
          [
           0.10161722204762039
          ],
          [
           0.07988865457666258
          ],
          [
           0.29730694746419123
          ],
          [
           0.2693769976738279
          ],
          [
           0.15148240901442417
          ],
          [
           0.15346627950999042
          ],
          [
           0.1870715596152258
          ],
          [
           0.273080044033957
          ],
          [
           0.20294620493871174
          ],
          [
           0.25623919432413295
          ],
          [
           0.37597668999869666
          ],
          [
           0.16154079003065777
          ],
          [
           0.2707412579954135
          ],
          [
           0.2696259331044903
          ],
          [
           0.084276617324322
          ],
          [
           0.47708466286034923
          ],
          [
           0.3994328939390206
          ],
          [
           0.1873804427646781
          ],
          [
           0.15664706951530416
          ],
          [
           0.23826836843244958
          ],
          [
           0.28996320082708477
          ],
          [
           0.2761893783440987
          ],
          [
           0.2212604202232246
          ],
          [
           0.303247004888065
          ],
          [
           0.34175695471890916
          ],
          [
           0.5320267886952175
          ],
          [
           0.3770713874489454
          ],
          [
           0.4419072870025043
          ],
          [
           0.3307675651314773
          ],
          [
           0.1597095669543293
          ],
          [
           0.3247511103332401
          ],
          [
           0.11236099582043685
          ],
          [
           0.25274901891345686
          ],
          [
           0.36497285641053384
          ],
          [
           0.2751831619362324
          ],
          [
           0.1147717198070827
          ],
          [
           0.19604120685993376
          ],
          [
           0.24554269213246654
          ],
          [
           0.2889150483741392
          ],
          [
           0.14020658087059948
          ],
          [
           0.15725953851719987
          ],
          [
           0.17618023075357342
          ],
          [
           0.22835881615766027
          ],
          [
           0.2772921518401798
          ],
          [
           0.16023838617080957
          ],
          [
           0.32867953058481897
          ],
          [
           0.971260574710057
          ],
          [
           0.2717075465600224
          ],
          [
           0.2849915297384044
          ],
          [
           0.12984457195648882
          ],
          [
           0.4260026928099279
          ],
          [
           0.10229064616368266
          ],
          [
           0.3491570231539252
          ],
          [
           0.18131202076266845
          ],
          [
           0.44858649615504714
          ],
          [
           0.30477686365092366
          ],
          [
           0.18489910584625566
          ],
          [
           0.22685267588823643
          ],
          [
           0.3557390693084926
          ],
          [
           0.23768169368775866
          ],
          [
           0.49392106845604605
          ],
          [
           0.16764386448138266
          ],
          [
           0.30590416052525055
          ],
          [
           0.40181031859300476
          ],
          [
           0.31281933726295513
          ],
          [
           0.15277683991382018
          ],
          [
           0.16429904920818914
          ],
          [
           0.20069104029976167
          ],
          [
           0.14823630991927594
          ],
          [
           0.29070425345600226
          ],
          [
           0.24960310836038616
          ],
          [
           0.3491321425600565
          ],
          [
           0.2438714591913779
          ],
          [
           0.5423974489274878
          ],
          [
           0.25627746850218647
          ],
          [
           0.24357189639971766
          ],
          [
           0.42077180110290524
          ],
          [
           0.12386130995018707
          ],
          [
           0.24392237233553776
          ],
          [
           0.2628349767421942
          ],
          [
           0.17551340586408196
          ],
          [
           0.4425903860509558
          ],
          [
           0.32836231119708664
          ],
          [
           0.29365256965720177
          ],
          [
           0.11334889886859713
          ],
          [
           0.26022822406045926
          ],
          [
           2.662012848412438
          ],
          [
           0.3816349883873932
          ],
          [
           0.23169748980897525
          ],
          [
           0.3453000622012291
          ],
          [
           0.19191990669360814
          ],
          [
           0.2944820814465163
          ],
          [
           0.3456725845986044
          ],
          [
           0.2563508116095476
          ],
          [
           0.3174055002234997
          ],
          [
           0.0918570974674927
          ],
          [
           0.15666125897001637
          ],
          [
           0.16154876047149183
          ],
          [
           0.17164242315906014
          ],
          [
           0.23811054877613416
          ],
          [
           0.31779386754647265
          ],
          [
           0.23920386530923238
          ],
          [
           0.15587489617717154
          ],
          [
           0.3291225732137553
          ],
          [
           0.14952789031500094
          ],
          [
           0.396870291890744
          ],
          [
           0.2636719309781917
          ],
          [
           0.20009319063045683
          ],
          [
           0.15312710152037518
          ],
          [
           0.13074919035378746
          ],
          [
           0.09363630885670336
          ],
          [
           0.061454554125678275
          ],
          [
           0.13626607250034656
          ],
          [
           0.1585761102885842
          ],
          [
           0.21719575323205753
          ],
          [
           0.21219089498952634
          ],
          [
           0.3247157984247666
          ],
          [
           0.43298160855625906
          ],
          [
           0.13676013262327275
          ],
          [
           0.235901276036089
          ],
          [
           0.3318382684919182
          ],
          [
           0.3052733252926271
          ],
          [
           0.1732925218137795
          ],
          [
           0.19840485307856429
          ],
          [
           0.1141603212139497
          ],
          [
           0.23706201161259022
          ],
          [
           0.17762139490566192
          ],
          [
           0.4428325136147326
          ],
          [
           0.14179559933907704
          ],
          [
           0.2915905091769349
          ],
          [
           0.29350966598691375
          ],
          [
           0.11522238007576632
          ],
          [
           0.40000338190551576
          ],
          [
           0.3017705042072139
          ],
          [
           0.1434496925804997
          ],
          [
           0.11192833061747873
          ],
          [
           0.20553846200058554
          ],
          [
           0.41460793934211126
          ],
          [
           0.3485722837773325
          ],
          [
           0.3114416821389707
          ],
          [
           0.28564605224189415
          ],
          [
           0.44615747519358845
          ],
          [
           0.17488830855726106
          ],
          [
           0.41018674355113793
          ],
          [
           0.24430472934405478
          ],
          [
           0.29313252168236564
          ],
          [
           0.2574261711320682
          ],
          [
           0.6504354280259297
          ],
          [
           0.2577455594988103
          ],
          [
           0.29892311076386774
          ],
          [
           0.16895090758638848
          ]
         ],
         "domain": {
          "x": [
           0,
           1
          ],
          "y": [
           0,
           1
          ]
         },
         "hovertemplate": "labels=%{label}<br>value=%{value}<br>parent=%{parent}<br>id=%{id}<br>volatility=%{color}<extra></extra>",
         "ids": [
          "Health Care/A",
          "Industrials/AAL",
          "Consumer Discretionary/AAP",
          "Information Technology/AAPL",
          "Health Care/ABBV",
          "Health Care/ABC",
          "Health Care/ABT",
          "Financials/ACGL",
          "Information Technology/ACN",
          "Information Technology/ADBE",
          "Information Technology/ADI",
          "Consumer Staples/ADM",
          "Industrials/ADP",
          "Information Technology/ADSK",
          "Utilities/AEE",
          "Utilities/AEP",
          "Utilities/AES",
          "Financials/AFL",
          "Financials/AIG",
          "Financials/AIZ",
          "Financials/AJG",
          "Information Technology/AKAM",
          "Materials/ALB",
          "Health Care/ALGN",
          "Industrials/ALK",
          "Financials/ALL",
          "Industrials/ALLE",
          "Information Technology/AMAT",
          "Materials/AMCR",
          "Information Technology/AMD",
          "Industrials/AME",
          "Health Care/AMGN",
          "Financials/AMP",
          "Real Estate/AMT",
          "Consumer Discretionary/AMZN",
          "Information Technology/ANET",
          "Information Technology/ANSS",
          "Financials/AON",
          "Industrials/AOS",
          "Energy/APA",
          "Materials/APD",
          "Information Technology/APH",
          "Consumer Discretionary/APTV",
          "Real Estate/ARE",
          "Utilities/ATO",
          "Communication Services/ATVI",
          "Real Estate/AVB",
          "Information Technology/AVGO",
          "Materials/AVY",
          "Utilities/AWK",
          "Industrials/AXON",
          "Financials/AXP",
          "Consumer Discretionary/AZO",
          "Industrials/BA",
          "Financials/BAC",
          "Materials/BALL",
          "Health Care/BAX",
          "Consumer Discretionary/BBWI",
          "Consumer Discretionary/BBY",
          "Health Care/BDX",
          "Financials/BEN",
          "Consumer Staples/BG",
          "Health Care/BIIB",
          "Health Care/BIO",
          "Financials/BK",
          "Consumer Discretionary/BKNG",
          "Energy/BKR",
          "Financials/BLK",
          "Health Care/BMY",
          "Industrials/BR",
          "Financials/BRO",
          "Health Care/BSX",
          "Consumer Discretionary/BWA",
          "Real Estate/BXP",
          "Financials/C",
          "Consumer Staples/CAG",
          "Health Care/CAH",
          "Industrials/CARR",
          "Industrials/CAT",
          "Financials/CB",
          "Financials/CBOE",
          "Real Estate/CBRE",
          "Real Estate/CCI",
          "Consumer Discretionary/CCL",
          "Information Technology/CDAY",
          "Information Technology/CDNS",
          "Information Technology/CDW",
          "Materials/CE",
          "Utilities/CEG",
          "Materials/CF",
          "Financials/CFG",
          "Consumer Staples/CHD",
          "Industrials/CHRW",
          "Communication Services/CHTR",
          "Health Care/CI",
          "Financials/CINF",
          "Consumer Staples/CL",
          "Consumer Staples/CLX",
          "Financials/CMA",
          "Communication Services/CMCSA",
          "Financials/CME",
          "Consumer Discretionary/CMG",
          "Industrials/CMI",
          "Utilities/CMS",
          "Health Care/CNC",
          "Utilities/CNP",
          "Financials/COF",
          "Health Care/COO",
          "Energy/COP",
          "Consumer Staples/COST",
          "Consumer Staples/CPB",
          "Industrials/CPRT",
          "Real Estate/CPT",
          "Health Care/CRL",
          "Information Technology/CRM",
          "Information Technology/CSCO",
          "Industrials/CSGP",
          "Industrials/CSX",
          "Industrials/CTAS",
          "Health Care/CTLT",
          "Energy/CTRA",
          "Information Technology/CTSH",
          "Materials/CTVA",
          "Health Care/CVS",
          "Energy/CVX",
          "Consumer Discretionary/CZR",
          "Utilities/D",
          "Industrials/DAL",
          "Materials/DD",
          "Industrials/DE",
          "Financials/DFS",
          "Consumer Staples/DG",
          "Health Care/DGX",
          "Consumer Discretionary/DHI",
          "Health Care/DHR",
          "Communication Services/DIS",
          "Communication Services/DISH",
          "Real Estate/DLR",
          "Consumer Staples/DLTR",
          "Industrials/DOV",
          "Materials/DOW",
          "Consumer Discretionary/DPZ",
          "Consumer Discretionary/DRI",
          "Utilities/DTE",
          "Utilities/DUK",
          "Health Care/DVA",
          "Energy/DVN",
          "Information Technology/DXC",
          "Health Care/DXCM",
          "Communication Services/EA",
          "Consumer Discretionary/EBAY",
          "Materials/ECL",
          "Utilities/ED",
          "Industrials/EFX",
          "Utilities/EIX",
          "Consumer Staples/EL",
          "Health Care/ELV",
          "Materials/EMN",
          "Industrials/EMR",
          "Information Technology/ENPH",
          "Energy/EOG",
          "Information Technology/EPAM",
          "Real Estate/EQIX",
          "Real Estate/EQR",
          "Energy/EQT",
          "Utilities/ES",
          "Real Estate/ESS",
          "Industrials/ETN",
          "Utilities/ETR",
          "Consumer Discretionary/ETSY",
          "Utilities/EVRG",
          "Health Care/EW",
          "Utilities/EXC",
          "Industrials/EXPD",
          "Consumer Discretionary/EXPE",
          "Real Estate/EXR",
          "Consumer Discretionary/F",
          "Energy/FANG",
          "Industrials/FAST",
          "Materials/FCX",
          "Financials/FDS",
          "Industrials/FDX",
          "Utilities/FE",
          "Information Technology/FFIV",
          "Information Technology/FICO",
          "Financials/FIS",
          "Financials/FISV",
          "Financials/FITB",
          "Financials/FLT",
          "Materials/FMC",
          "Communication Services/FOX",
          "Communication Services/FOXA",
          "Real Estate/FRT",
          "Information Technology/FSLR",
          "Information Technology/FTNT",
          "Industrials/FTV",
          "Industrials/GD",
          "Industrials/GE",
          "Health Care/GEHC",
          "Information Technology/GEN",
          "Health Care/GILD",
          "Consumer Staples/GIS",
          "Financials/GL",
          "Information Technology/GLW",
          "Consumer Discretionary/GM",
          "Industrials/GNRC",
          "Communication Services/GOOG",
          "Communication Services/GOOGL",
          "Consumer Discretionary/GPC",
          "Financials/GPN",
          "Consumer Discretionary/GRMN",
          "Financials/GS",
          "Industrials/GWW",
          "Energy/HAL",
          "Consumer Discretionary/HAS",
          "Financials/HBAN",
          "Health Care/HCA",
          "Consumer Discretionary/HD",
          "Energy/HES",
          "Financials/HIG",
          "Industrials/HII",
          "Consumer Discretionary/HLT",
          "Health Care/HOLX",
          "Industrials/HON",
          "Information Technology/HPE",
          "Information Technology/HPQ",
          "Consumer Staples/HRL",
          "Health Care/HSIC",
          "Real Estate/HST",
          "Consumer Staples/HSY",
          "Health Care/HUM",
          "Industrials/HWM",
          "Information Technology/IBM",
          "Financials/ICE",
          "Health Care/IDXX",
          "Industrials/IEX",
          "Materials/IFF",
          "Health Care/ILMN",
          "Health Care/INCY",
          "Information Technology/INTC",
          "Information Technology/INTU",
          "Real Estate/INVH",
          "Materials/IP",
          "Communication Services/IPG",
          "Health Care/IQV",
          "Industrials/IR",
          "Real Estate/IRM",
          "Health Care/ISRG",
          "Information Technology/IT",
          "Industrials/ITW",
          "Financials/IVZ",
          "Industrials/J",
          "Industrials/JBHT",
          "Industrials/JCI",
          "Financials/JKHY",
          "Health Care/JNJ",
          "Information Technology/JNPR",
          "Financials/JPM",
          "Consumer Staples/K",
          "Consumer Staples/KDP",
          "Financials/KEY",
          "Information Technology/KEYS",
          "Consumer Staples/KHC",
          "Real Estate/KIM",
          "Information Technology/KLAC",
          "Consumer Staples/KMB",
          "Energy/KMI",
          "Consumer Discretionary/KMX",
          "Consumer Staples/KO",
          "Consumer Staples/KR",
          "Financials/L",
          "Industrials/LDOS",
          "Consumer Discretionary/LEN",
          "Health Care/LH",
          "Industrials/LHX",
          "Materials/LIN",
          "Consumer Discretionary/LKQ",
          "Health Care/LLY",
          "Industrials/LMT",
          "Financials/LNC",
          "Utilities/LNT",
          "Consumer Discretionary/LOW",
          "Information Technology/LRCX",
          "Industrials/LUV",
          "Consumer Discretionary/LVS",
          "Consumer Staples/LW",
          "Materials/LYB",
          "Communication Services/LYV",
          "Financials/MA",
          "Real Estate/MAA",
          "Consumer Discretionary/MAR",
          "Industrials/MAS",
          "Consumer Discretionary/MCD",
          "Information Technology/MCHP",
          "Health Care/MCK",
          "Financials/MCO",
          "Consumer Staples/MDLZ",
          "Health Care/MDT",
          "Financials/MET",
          "Communication Services/META",
          "Consumer Discretionary/MGM",
          "Consumer Discretionary/MHK",
          "Consumer Staples/MKC",
          "Financials/MKTX",
          "Materials/MLM",
          "Financials/MMC",
          "Industrials/MMM",
          "Consumer Staples/MNST",
          "Consumer Staples/MO",
          "Health Care/MOH",
          "Materials/MOS",
          "Energy/MPC",
          "Information Technology/MPWR",
          "Health Care/MRK",
          "Health Care/MRNA",
          "Energy/MRO",
          "Financials/MS",
          "Financials/MSCI",
          "Information Technology/MSFT",
          "Information Technology/MSI",
          "Financials/MTB",
          "Communication Services/MTCH",
          "Health Care/MTD",
          "Information Technology/MU",
          "Consumer Discretionary/NCLH",
          "Financials/NDAQ",
          "Industrials/NDSN",
          "Utilities/NEE",
          "Materials/NEM",
          "Communication Services/NFLX",
          "Utilities/NI",
          "Consumer Discretionary/NKE",
          "Industrials/NOC",
          "Information Technology/NOW",
          "Utilities/NRG",
          "Industrials/NSC",
          "Information Technology/NTAP",
          "Financials/NTRS",
          "Materials/NUE",
          "Information Technology/NVDA",
          "Consumer Discretionary/NVR",
          "Consumer Discretionary/NWL",
          "Communication Services/NWS",
          "Communication Services/NWSA",
          "Information Technology/NXPI",
          "Real Estate/O",
          "Industrials/ODFL",
          "Health Care/OGN",
          "Energy/OKE",
          "Communication Services/OMC",
          "Information Technology/ON",
          "Information Technology/ORCL",
          "Consumer Discretionary/ORLY",
          "Industrials/OTIS",
          "Energy/OXY",
          "Communication Services/PARA",
          "Information Technology/PAYC",
          "Industrials/PAYX",
          "Industrials/PCAR",
          "Utilities/PCG",
          "Real Estate/PEAK",
          "Utilities/PEG",
          "Consumer Staples/PEP",
          "Health Care/PFE",
          "Financials/PFG",
          "Consumer Staples/PG",
          "Financials/PGR",
          "Industrials/PH",
          "Consumer Discretionary/PHM",
          "Materials/PKG",
          "Health Care/PKI",
          "Real Estate/PLD",
          "Consumer Staples/PM",
          "Financials/PNC",
          "Industrials/PNR",
          "Utilities/PNW",
          "Health Care/PODD",
          "Consumer Discretionary/POOL",
          "Materials/PPG",
          "Utilities/PPL",
          "Financials/PRU",
          "Real Estate/PSA",
          "Energy/PSX",
          "Information Technology/PTC",
          "Industrials/PWR",
          "Energy/PXD",
          "Financials/PYPL",
          "Information Technology/QCOM",
          "Information Technology/QRVO",
          "Consumer Discretionary/RCL",
          "Financials/RE",
          "Real Estate/REG",
          "Health Care/REGN",
          "Financials/RF",
          "Industrials/RHI",
          "Financials/RJF",
          "Consumer Discretionary/RL",
          "Health Care/RMD",
          "Industrials/ROK",
          "Industrials/ROL",
          "Information Technology/ROP",
          "Consumer Discretionary/ROST",
          "Industrials/RSG",
          "Industrials/RTX",
          "Real Estate/SBAC",
          "Consumer Discretionary/SBUX",
          "Financials/SCHW",
          "Information Technology/SEDG",
          "Materials/SEE",
          "Materials/SHW",
          "Consumer Staples/SJM",
          "Energy/SLB",
          "Industrials/SNA",
          "Information Technology/SNPS",
          "Utilities/SO",
          "Real Estate/SPG",
          "Financials/SPGI",
          "Utilities/SRE",
          "Health Care/STE",
          "Materials/STLD",
          "Financials/STT",
          "Information Technology/STX",
          "Consumer Staples/STZ",
          "Industrials/SWK",
          "Information Technology/SWKS",
          "Financials/SYF",
          "Health Care/SYK",
          "Consumer Staples/SYY",
          "Communication Services/T",
          "Consumer Staples/TAP",
          "Industrials/TDG",
          "Information Technology/TDY",
          "Health Care/TECH",
          "Information Technology/TEL",
          "Information Technology/TER",
          "Financials/TFC",
          "Health Care/TFX",
          "Consumer Staples/TGT",
          "Consumer Discretionary/TJX",
          "Health Care/TMO",
          "Communication Services/TMUS",
          "Consumer Discretionary/TPR",
          "Energy/TRGP",
          "Information Technology/TRMB",
          "Financials/TROW",
          "Financials/TRV",
          "Consumer Discretionary/TSCO",
          "Consumer Discretionary/TSLA",
          "Consumer Staples/TSN",
          "Industrials/TT",
          "Communication Services/TTWO",
          "Information Technology/TXN",
          "Industrials/TXT",
          "Information Technology/TYL",
          "Industrials/UAL",
          "Real Estate/UDR",
          "Health Care/UHS",
          "Consumer Discretionary/ULTA",
          "Health Care/UNH",
          "Industrials/UNP",
          "Industrials/UPS",
          "Industrials/URI",
          "Financials/USB",
          "Financials/V",
          "Consumer Discretionary/VFC",
          "Real Estate/VICI",
          "Energy/VLO",
          "Materials/VMC",
          "Industrials/VRSK",
          "Information Technology/VRSN",
          "Health Care/VRTX",
          "Real Estate/VTR",
          "Health Care/VTRS",
          "Communication Services/VZ",
          "Industrials/WAB",
          "Health Care/WAT",
          "Consumer Staples/WBA",
          "Communication Services/WBD",
          "Information Technology/WDC",
          "Utilities/WEC",
          "Real Estate/WELL",
          "Financials/WFC",
          "Consumer Discretionary/WHR",
          "Industrials/WM",
          "Energy/WMB",
          "Consumer Staples/WMT",
          "Financials/WRB",
          "Materials/WRK",
          "Health Care/WST",
          "Financials/WTW",
          "Real Estate/WY",
          "Consumer Discretionary/WYNN",
          "Utilities/XEL",
          "Energy/XOM",
          "Health Care/XRAY",
          "Industrials/XYL",
          "Consumer Discretionary/YUM",
          "Health Care/ZBH",
          "Information Technology/ZBRA",
          "Financials/ZION",
          "Health Care/ZTS",
          "Communication Services",
          "Consumer Discretionary",
          "Consumer Staples",
          "Energy",
          "Financials",
          "Health Care",
          "Industrials",
          "Information Technology",
          "Materials",
          "Real Estate",
          "Utilities"
         ],
         "labels": [
          "A",
          "AAL",
          "AAP",
          "AAPL",
          "ABBV",
          "ABC",
          "ABT",
          "ACGL",
          "ACN",
          "ADBE",
          "ADI",
          "ADM",
          "ADP",
          "ADSK",
          "AEE",
          "AEP",
          "AES",
          "AFL",
          "AIG",
          "AIZ",
          "AJG",
          "AKAM",
          "ALB",
          "ALGN",
          "ALK",
          "ALL",
          "ALLE",
          "AMAT",
          "AMCR",
          "AMD",
          "AME",
          "AMGN",
          "AMP",
          "AMT",
          "AMZN",
          "ANET",
          "ANSS",
          "AON",
          "AOS",
          "APA",
          "APD",
          "APH",
          "APTV",
          "ARE",
          "ATO",
          "ATVI",
          "AVB",
          "AVGO",
          "AVY",
          "AWK",
          "AXON",
          "AXP",
          "AZO",
          "BA",
          "BAC",
          "BALL",
          "BAX",
          "BBWI",
          "BBY",
          "BDX",
          "BEN",
          "BG",
          "BIIB",
          "BIO",
          "BK",
          "BKNG",
          "BKR",
          "BLK",
          "BMY",
          "BR",
          "BRO",
          "BSX",
          "BWA",
          "BXP",
          "C",
          "CAG",
          "CAH",
          "CARR",
          "CAT",
          "CB",
          "CBOE",
          "CBRE",
          "CCI",
          "CCL",
          "CDAY",
          "CDNS",
          "CDW",
          "CE",
          "CEG",
          "CF",
          "CFG",
          "CHD",
          "CHRW",
          "CHTR",
          "CI",
          "CINF",
          "CL",
          "CLX",
          "CMA",
          "CMCSA",
          "CME",
          "CMG",
          "CMI",
          "CMS",
          "CNC",
          "CNP",
          "COF",
          "COO",
          "COP",
          "COST",
          "CPB",
          "CPRT",
          "CPT",
          "CRL",
          "CRM",
          "CSCO",
          "CSGP",
          "CSX",
          "CTAS",
          "CTLT",
          "CTRA",
          "CTSH",
          "CTVA",
          "CVS",
          "CVX",
          "CZR",
          "D",
          "DAL",
          "DD",
          "DE",
          "DFS",
          "DG",
          "DGX",
          "DHI",
          "DHR",
          "DIS",
          "DISH",
          "DLR",
          "DLTR",
          "DOV",
          "DOW",
          "DPZ",
          "DRI",
          "DTE",
          "DUK",
          "DVA",
          "DVN",
          "DXC",
          "DXCM",
          "EA",
          "EBAY",
          "ECL",
          "ED",
          "EFX",
          "EIX",
          "EL",
          "ELV",
          "EMN",
          "EMR",
          "ENPH",
          "EOG",
          "EPAM",
          "EQIX",
          "EQR",
          "EQT",
          "ES",
          "ESS",
          "ETN",
          "ETR",
          "ETSY",
          "EVRG",
          "EW",
          "EXC",
          "EXPD",
          "EXPE",
          "EXR",
          "F",
          "FANG",
          "FAST",
          "FCX",
          "FDS",
          "FDX",
          "FE",
          "FFIV",
          "FICO",
          "FIS",
          "FISV",
          "FITB",
          "FLT",
          "FMC",
          "FOX",
          "FOXA",
          "FRT",
          "FSLR",
          "FTNT",
          "FTV",
          "GD",
          "GE",
          "GEHC",
          "GEN",
          "GILD",
          "GIS",
          "GL",
          "GLW",
          "GM",
          "GNRC",
          "GOOG",
          "GOOGL",
          "GPC",
          "GPN",
          "GRMN",
          "GS",
          "GWW",
          "HAL",
          "HAS",
          "HBAN",
          "HCA",
          "HD",
          "HES",
          "HIG",
          "HII",
          "HLT",
          "HOLX",
          "HON",
          "HPE",
          "HPQ",
          "HRL",
          "HSIC",
          "HST",
          "HSY",
          "HUM",
          "HWM",
          "IBM",
          "ICE",
          "IDXX",
          "IEX",
          "IFF",
          "ILMN",
          "INCY",
          "INTC",
          "INTU",
          "INVH",
          "IP",
          "IPG",
          "IQV",
          "IR",
          "IRM",
          "ISRG",
          "IT",
          "ITW",
          "IVZ",
          "J",
          "JBHT",
          "JCI",
          "JKHY",
          "JNJ",
          "JNPR",
          "JPM",
          "K",
          "KDP",
          "KEY",
          "KEYS",
          "KHC",
          "KIM",
          "KLAC",
          "KMB",
          "KMI",
          "KMX",
          "KO",
          "KR",
          "L",
          "LDOS",
          "LEN",
          "LH",
          "LHX",
          "LIN",
          "LKQ",
          "LLY",
          "LMT",
          "LNC",
          "LNT",
          "LOW",
          "LRCX",
          "LUV",
          "LVS",
          "LW",
          "LYB",
          "LYV",
          "MA",
          "MAA",
          "MAR",
          "MAS",
          "MCD",
          "MCHP",
          "MCK",
          "MCO",
          "MDLZ",
          "MDT",
          "MET",
          "META",
          "MGM",
          "MHK",
          "MKC",
          "MKTX",
          "MLM",
          "MMC",
          "MMM",
          "MNST",
          "MO",
          "MOH",
          "MOS",
          "MPC",
          "MPWR",
          "MRK",
          "MRNA",
          "MRO",
          "MS",
          "MSCI",
          "MSFT",
          "MSI",
          "MTB",
          "MTCH",
          "MTD",
          "MU",
          "NCLH",
          "NDAQ",
          "NDSN",
          "NEE",
          "NEM",
          "NFLX",
          "NI",
          "NKE",
          "NOC",
          "NOW",
          "NRG",
          "NSC",
          "NTAP",
          "NTRS",
          "NUE",
          "NVDA",
          "NVR",
          "NWL",
          "NWS",
          "NWSA",
          "NXPI",
          "O",
          "ODFL",
          "OGN",
          "OKE",
          "OMC",
          "ON",
          "ORCL",
          "ORLY",
          "OTIS",
          "OXY",
          "PARA",
          "PAYC",
          "PAYX",
          "PCAR",
          "PCG",
          "PEAK",
          "PEG",
          "PEP",
          "PFE",
          "PFG",
          "PG",
          "PGR",
          "PH",
          "PHM",
          "PKG",
          "PKI",
          "PLD",
          "PM",
          "PNC",
          "PNR",
          "PNW",
          "PODD",
          "POOL",
          "PPG",
          "PPL",
          "PRU",
          "PSA",
          "PSX",
          "PTC",
          "PWR",
          "PXD",
          "PYPL",
          "QCOM",
          "QRVO",
          "RCL",
          "RE",
          "REG",
          "REGN",
          "RF",
          "RHI",
          "RJF",
          "RL",
          "RMD",
          "ROK",
          "ROL",
          "ROP",
          "ROST",
          "RSG",
          "RTX",
          "SBAC",
          "SBUX",
          "SCHW",
          "SEDG",
          "SEE",
          "SHW",
          "SJM",
          "SLB",
          "SNA",
          "SNPS",
          "SO",
          "SPG",
          "SPGI",
          "SRE",
          "STE",
          "STLD",
          "STT",
          "STX",
          "STZ",
          "SWK",
          "SWKS",
          "SYF",
          "SYK",
          "SYY",
          "T",
          "TAP",
          "TDG",
          "TDY",
          "TECH",
          "TEL",
          "TER",
          "TFC",
          "TFX",
          "TGT",
          "TJX",
          "TMO",
          "TMUS",
          "TPR",
          "TRGP",
          "TRMB",
          "TROW",
          "TRV",
          "TSCO",
          "TSLA",
          "TSN",
          "TT",
          "TTWO",
          "TXN",
          "TXT",
          "TYL",
          "UAL",
          "UDR",
          "UHS",
          "ULTA",
          "UNH",
          "UNP",
          "UPS",
          "URI",
          "USB",
          "V",
          "VFC",
          "VICI",
          "VLO",
          "VMC",
          "VRSK",
          "VRSN",
          "VRTX",
          "VTR",
          "VTRS",
          "VZ",
          "WAB",
          "WAT",
          "WBA",
          "WBD",
          "WDC",
          "WEC",
          "WELL",
          "WFC",
          "WHR",
          "WM",
          "WMB",
          "WMT",
          "WRB",
          "WRK",
          "WST",
          "WTW",
          "WY",
          "WYNN",
          "XEL",
          "XOM",
          "XRAY",
          "XYL",
          "YUM",
          "ZBH",
          "ZBRA",
          "ZION",
          "ZTS",
          "Communication Services",
          "Consumer Discretionary",
          "Consumer Staples",
          "Energy",
          "Financials",
          "Health Care",
          "Industrials",
          "Information Technology",
          "Materials",
          "Real Estate",
          "Utilities"
         ],
         "marker": {
          "coloraxis": "coloraxis",
          "colors": [
           0.20010025804875525,
           0.2236749535283802,
           0.3057239340451148,
           0.4305756590044747,
           0.16065825010010748,
           0.16334029691812618,
           0.18166218663518535,
           0.2603722467168518,
           0.3362142016498956,
           0.307656289815578,
           0.16455156052811196,
           0.20365637892417554,
           0.20144163948487936,
           0.32025168108477675,
           0.08733704334346594,
           0.13395577917710375,
           0.19204367218976015,
           0.18348821180192962,
           0.3094397945975291,
           0.2041698206232608,
           0.13017797487101312,
           0.2481020200256519,
           0.4717115525659019,
           0.49727665106764335,
           0.13445008509395698,
           0.19520856705285816,
           0.23110306949818354,
           0.5023926427423733,
           0.12942292176860523,
           0.6070911832734033,
           0.1900724726769362,
           0.14115197242648794,
           0.31629481899780326,
           0.2547546627925668,
           0.36482303342937356,
           0.41970048179391384,
           0.38160819089440795,
           0.20247858703851718,
           0.3197886869463007,
           0.49323643931877553,
           0.17920916033894657,
           0.19759548614682543,
           0.36469298050221366,
           0.28192574475738846,
           0.11740095638871649,
           0.3167934475013479,
           0.32631214670479014,
           0.23873705413762092,
           0.2602501541941482,
           0.20039128392178357,
           0.2404199049610914,
           0.191036837764206,
           0.25222341959071753,
           0.1324681504712003,
           0.3122275358378782,
           0.3105351409843832,
           0.20881760546774011,
           0.6805050330943784,
           0.31635919008686947,
           0.09808050657436551,
           0.1976708629159467,
           0.20529574017497557,
           0.11148530103987313,
           0.36776196996836785,
           0.21678029923399394,
           0.1878684778652851,
           0.2290327331334703,
           0.277704788479421,
           0.11443724021760968,
           0.20565390430758895,
           0.24330356505860304,
           0.16198059867834136,
           0.1957504324966548,
           0.2786692424761689,
           0.27311615653716376,
           0.319295912896791,
           0.20164070683910054,
           0.9359327525779684,
           0.15023594246107017,
           0.14861917761202265,
           0.20559361928534203,
           0.3952694697543594,
           0.25954118860679354,
           0.307863166651472,
           0.4487035871543533,
           0.3390072345283192,
           0.37432928931566584,
           0.26946587233028996,
           0.5669418578060347,
           0.3325074874806616,
           0.2873391107436844,
           0.18315633209598223,
           0.13329613118113065,
           0.3541842298677608,
           0.19676385975591673,
           0.21542261819303812,
           0.12135576847336393,
           0.202197457143727,
           0.3453385435846033,
           0.19188951813892177,
           0.1746280149459874,
           0.35726169812412045,
           0.17303999295661962,
           0.12195057955266547,
           0.14622596991191242,
           0.1526787396305385,
           0.29569866256391786,
           0.15343454295356435,
           0.45093448687015164,
           0.24407530946481076,
           0.2654077046844471,
           0.35059789725525287,
           0.3862746172573302,
           0.3607178206696405,
           0.2918571967633723,
           0.2181241797062518,
           0.3506116201901732,
           0.15682899444353976,
           0.22431539516177545,
           0.5305122680235519,
           0.19612448863439805,
           0.2197301974676223,
           0.13933858597954257,
           0.236617888320069,
           0.30284326191059197,
           0.3592731742106997,
           0.14334285743233124,
           0.1650674778236264,
           0.1379328872558093,
           0.19715586446522218,
           0.2314709638705836,
           0.18993179691281734,
           0.22951388173204723,
           0.3135867904001797,
           0.27885938877519356,
           0.2583761052157362,
           0.3225931789488325,
           0.24550045312880303,
           0.11461993916232421,
           0.30290143385391544,
           0.07374790497926992,
           0.28221181759554953,
           0.10807833534796633,
           0.11062459249184547,
           0.08372473843609053,
           0.33264017076284963,
           0.786771666994983,
           0.20331148483037131,
           0.35689010600790544,
           0.2469311215046153,
           0.2904138322341406,
           0.21637543638228632,
           0.1462452680088836,
           0.33989782267507546,
           0.16872549163191441,
           0.3363165108847086,
           0.166947758426655,
           0.24451446582087208,
           0.1607909722191998,
           2.19473583138063,
           0.4498032564294843,
           0.5432845201010522,
           0.2919958434077476,
           0.31749014499642814,
           0.4056985418821507,
           0.14691395436767055,
           0.3122901812751545,
           0.22014593636191745,
           0.19063285224204463,
           1.122375919003947,
           0.14530881498319753,
           0.31222473552366836,
           0.16014851151918907,
           0.1974223317622814,
           0.2763784219986779,
           0.43995621563522114,
           0.6202442945587238,
           0.5542686291263249,
           0.23629719363821167,
           0.4332100976301325,
           0.22185800563391075,
           0.3589363354692794,
           0.26550614523338556,
           0.2618252331076684,
           0.35911715882412765,
           0.24828543658609015,
           0.23399496121205235,
           0.3440413825074665,
           0.25567791490436736,
           0.23456274798536073,
           0.15610834517006134,
           0.18426392277697454,
           0.331120111108601,
           0.40048064300794706,
           0.5230360175715193,
           0.09894940539403674,
           0.24001939445117468,
           0.341210843306293,
           0.22519641149611697,
           0.3029969355474463,
           0.13380168342953574,
           0.15870316764005787,
           0.201696043397541,
           0.11509268876761035,
           0.268846488246671,
           0.6382274048563064,
           0.3229538449409028,
           0.32397430531244154,
           0.16552871457519225,
           0.37785035904778164,
           0.26282229722675315,
           0.26548432681302764,
           0.11143693167076614,
           0.3704279822743844,
           0.2242136017604749,
           0.21707277531502,
           0.19256250077655024,
           0.2740179332159534,
           0.4308401749912755,
           0.25931677847045226,
           0.234050638875217,
           0.2800147914692291,
           0.14769268827613422,
           0.15136358525255522,
           0.23447109645899553,
           0.2685228921016496,
           0.10406061985854424,
           0.06177002825067997,
           0.15546579023304122,
           0.10592869239186997,
           0.09283835810573791,
           0.245558513120298,
           0.1476608029895677,
           0.1694869366579186,
           0.3952255458425057,
           0.17051207572622382,
           0.23255521616743424,
           0.21713782969643522,
           0.17571758194275713,
           0.2532164929380047,
           0.3516294529570696,
           0.34166517069655866,
           0.15952126002911568,
           0.2609634196227872,
           0.27592578676329205,
           0.35738628582342447,
           0.33027741399678445,
           0.21848658516734135,
           0.40882081283974353,
           0.19195743916280805,
           0.24928382882378455,
           0.23267188218023283,
           0.2479866920653661,
           0.34655466471860147,
           0.08781181874389615,
           0.07873744215746988,
           0.255443449797955,
           0.21804608320803265,
           0.10984504181774275,
           0.1353442456165796,
           0.3446618374800917,
           0.32192078943484265,
           0.16827655367488306,
           0.3615514323275313,
           0.43191377563885935,
           0.09089325419838498,
           0.23068047125994584,
           0.3099228969469313,
           0.07059283402450689,
           0.13509565154337558,
           0.15640507423803832,
           0.3801568788792646,
           0.31333665816907025,
           0.28932063856174944,
           0.2168412570599362,
           0.15629360357434718,
           0.3399701136892845,
           0.18265974625562226,
           0.25381849688290087,
           0.3235449195323481,
           0.1612605836890652,
           0.26623881247572306,
           0.5374275899795787,
           0.12119620465992083,
           0.278266733326268,
           0.19140694677472597,
           0.11227843233448702,
           0.36122123103614623,
           0.212816714494216,
           0.394764403111491,
           0.23976122535838082,
           0.3243043786893204,
           0.09058425257935264,
           0.2520239137581955,
           0.2620843731311055,
           0.3213670414982998,
           0.12436401079912111,
           0.17939516475801018,
           0.2111019886633204,
           0.5042642912236165,
           0.29872618158740727,
           0.2941059124526441,
           0.15568066582661022,
           0.4022922420197873,
           0.34083448456354126,
           0.22225935259742213,
           0.11860825130101282,
           0.17486281382584637,
           0.11167825393741314,
           0.23752991987840222,
           0.2769935474796925,
           0.4167946164626291,
           0.4272797189650055,
           0.1982063470550914,
           1.6751443294615134,
           0.6597991304895476,
           0.2607734732113029,
           0.3761946802671209,
           0.2991264151261331,
           0.23449372970251378,
           0.19446443192548016,
           0.5684410729345356,
           0.24354558949166097,
           0.3928485993856658,
           0.33048425009967425,
           0.2703115414092344,
           0.20054627756207075,
           0.20555131248621425,
           0.2210586477534623,
           0.3523675180102373,
           0.12176076704071417,
           0.22915771620152858,
           0.2884223946560279,
           0.406781916209988,
           0.14484842125899783,
           0.20129362339956186,
           0.23827046528007012,
           0.23595148985932984,
           0.4464701115416797,
           0.7325501269310123,
           0.3033560103179482,
           0.21343496782965216,
           0.22753036752186045,
           0.23092918554020458,
           0.3593558785590036,
           0.16160078997135538,
           0.38100736359662796,
           0.027337056923783357,
           0.37099839410491653,
           0.13686036155345058,
           0.43450139022438466,
           0.14814641139030885,
           0.16634630840793813,
           0.22425388726171352,
           0.5659260384290763,
           0.23904689932195797,
           0.4995546379432122,
           0.23184762526823002,
           0.15124331650023717,
           0.3227863565050584,
           0.23297108201967623,
           0.10161722204762039,
           0.07988865457666258,
           0.29730694746419123,
           0.2693769976738279,
           0.15148240901442417,
           0.15346627950999042,
           0.1870715596152258,
           0.273080044033957,
           0.20294620493871174,
           0.25623919432413295,
           0.37597668999869666,
           0.16154079003065777,
           0.2707412579954135,
           0.2696259331044903,
           0.084276617324322,
           0.47708466286034923,
           0.3994328939390206,
           0.1873804427646781,
           0.15664706951530416,
           0.23826836843244958,
           0.28996320082708477,
           0.2761893783440987,
           0.2212604202232246,
           0.303247004888065,
           0.34175695471890916,
           0.5320267886952175,
           0.3770713874489454,
           0.4419072870025043,
           0.3307675651314773,
           0.1597095669543293,
           0.3247511103332401,
           0.11236099582043685,
           0.25274901891345686,
           0.36497285641053384,
           0.2751831619362324,
           0.1147717198070827,
           0.19604120685993376,
           0.24554269213246654,
           0.2889150483741392,
           0.14020658087059948,
           0.15725953851719987,
           0.17618023075357342,
           0.22835881615766027,
           0.2772921518401798,
           0.16023838617080957,
           0.32867953058481897,
           0.971260574710057,
           0.2717075465600224,
           0.2849915297384044,
           0.12984457195648882,
           0.4260026928099279,
           0.10229064616368266,
           0.3491570231539252,
           0.18131202076266845,
           0.44858649615504714,
           0.30477686365092366,
           0.18489910584625566,
           0.22685267588823643,
           0.3557390693084926,
           0.23768169368775866,
           0.49392106845604605,
           0.16764386448138266,
           0.30590416052525055,
           0.40181031859300476,
           0.31281933726295513,
           0.15277683991382018,
           0.16429904920818914,
           0.20069104029976167,
           0.14823630991927594,
           0.29070425345600226,
           0.24960310836038616,
           0.3491321425600565,
           0.2438714591913779,
           0.5423974489274878,
           0.25627746850218647,
           0.24357189639971766,
           0.42077180110290524,
           0.12386130995018707,
           0.24392237233553776,
           0.2628349767421942,
           0.17551340586408196,
           0.4425903860509558,
           0.32836231119708664,
           0.29365256965720177,
           0.11334889886859713,
           0.26022822406045926,
           2.662012848412438,
           0.3816349883873932,
           0.23169748980897525,
           0.3453000622012291,
           0.19191990669360814,
           0.2944820814465163,
           0.3456725845986044,
           0.2563508116095476,
           0.3174055002234997,
           0.0918570974674927,
           0.15666125897001637,
           0.16154876047149183,
           0.17164242315906014,
           0.23811054877613416,
           0.31779386754647265,
           0.23920386530923238,
           0.15587489617717154,
           0.3291225732137553,
           0.14952789031500094,
           0.396870291890744,
           0.2636719309781917,
           0.20009319063045683,
           0.15312710152037518,
           0.13074919035378746,
           0.09363630885670336,
           0.061454554125678275,
           0.13626607250034656,
           0.1585761102885842,
           0.21719575323205753,
           0.21219089498952634,
           0.3247157984247666,
           0.43298160855625906,
           0.13676013262327275,
           0.235901276036089,
           0.3318382684919182,
           0.3052733252926271,
           0.1732925218137795,
           0.19840485307856429,
           0.1141603212139497,
           0.23706201161259022,
           0.17762139490566192,
           0.4428325136147326,
           0.14179559933907704,
           0.2915905091769349,
           0.29350966598691375,
           0.11522238007576632,
           0.40000338190551576,
           0.3017705042072139,
           0.1434496925804997,
           0.11192833061747873,
           0.20553846200058554,
           0.41460793934211126,
           0.3485722837773325,
           0.3114416821389707,
           0.28564605224189415,
           0.44615747519358845,
           0.17488830855726106,
           0.41018674355113793,
           0.24430472934405478,
           0.29313252168236564,
           0.2574261711320682,
           0.6504354280259297,
           0.2577455594988103,
           0.29892311076386774,
           0.16895090758638848
          ]
         },
         "name": "",
         "parents": [
          "Health Care",
          "Industrials",
          "Consumer Discretionary",
          "Information Technology",
          "Health Care",
          "Health Care",
          "Health Care",
          "Financials",
          "Information Technology",
          "Information Technology",
          "Information Technology",
          "Consumer Staples",
          "Industrials",
          "Information Technology",
          "Utilities",
          "Utilities",
          "Utilities",
          "Financials",
          "Financials",
          "Financials",
          "Financials",
          "Information Technology",
          "Materials",
          "Health Care",
          "Industrials",
          "Financials",
          "Industrials",
          "Information Technology",
          "Materials",
          "Information Technology",
          "Industrials",
          "Health Care",
          "Financials",
          "Real Estate",
          "Consumer Discretionary",
          "Information Technology",
          "Information Technology",
          "Financials",
          "Industrials",
          "Energy",
          "Materials",
          "Information Technology",
          "Consumer Discretionary",
          "Real Estate",
          "Utilities",
          "Communication Services",
          "Real Estate",
          "Information Technology",
          "Materials",
          "Utilities",
          "Industrials",
          "Financials",
          "Consumer Discretionary",
          "Industrials",
          "Financials",
          "Materials",
          "Health Care",
          "Consumer Discretionary",
          "Consumer Discretionary",
          "Health Care",
          "Financials",
          "Consumer Staples",
          "Health Care",
          "Health Care",
          "Financials",
          "Consumer Discretionary",
          "Energy",
          "Financials",
          "Health Care",
          "Industrials",
          "Financials",
          "Health Care",
          "Consumer Discretionary",
          "Real Estate",
          "Financials",
          "Consumer Staples",
          "Health Care",
          "Industrials",
          "Industrials",
          "Financials",
          "Financials",
          "Real Estate",
          "Real Estate",
          "Consumer Discretionary",
          "Information Technology",
          "Information Technology",
          "Information Technology",
          "Materials",
          "Utilities",
          "Materials",
          "Financials",
          "Consumer Staples",
          "Industrials",
          "Communication Services",
          "Health Care",
          "Financials",
          "Consumer Staples",
          "Consumer Staples",
          "Financials",
          "Communication Services",
          "Financials",
          "Consumer Discretionary",
          "Industrials",
          "Utilities",
          "Health Care",
          "Utilities",
          "Financials",
          "Health Care",
          "Energy",
          "Consumer Staples",
          "Consumer Staples",
          "Industrials",
          "Real Estate",
          "Health Care",
          "Information Technology",
          "Information Technology",
          "Industrials",
          "Industrials",
          "Industrials",
          "Health Care",
          "Energy",
          "Information Technology",
          "Materials",
          "Health Care",
          "Energy",
          "Consumer Discretionary",
          "Utilities",
          "Industrials",
          "Materials",
          "Industrials",
          "Financials",
          "Consumer Staples",
          "Health Care",
          "Consumer Discretionary",
          "Health Care",
          "Communication Services",
          "Communication Services",
          "Real Estate",
          "Consumer Staples",
          "Industrials",
          "Materials",
          "Consumer Discretionary",
          "Consumer Discretionary",
          "Utilities",
          "Utilities",
          "Health Care",
          "Energy",
          "Information Technology",
          "Health Care",
          "Communication Services",
          "Consumer Discretionary",
          "Materials",
          "Utilities",
          "Industrials",
          "Utilities",
          "Consumer Staples",
          "Health Care",
          "Materials",
          "Industrials",
          "Information Technology",
          "Energy",
          "Information Technology",
          "Real Estate",
          "Real Estate",
          "Energy",
          "Utilities",
          "Real Estate",
          "Industrials",
          "Utilities",
          "Consumer Discretionary",
          "Utilities",
          "Health Care",
          "Utilities",
          "Industrials",
          "Consumer Discretionary",
          "Real Estate",
          "Consumer Discretionary",
          "Energy",
          "Industrials",
          "Materials",
          "Financials",
          "Industrials",
          "Utilities",
          "Information Technology",
          "Information Technology",
          "Financials",
          "Financials",
          "Financials",
          "Financials",
          "Materials",
          "Communication Services",
          "Communication Services",
          "Real Estate",
          "Information Technology",
          "Information Technology",
          "Industrials",
          "Industrials",
          "Industrials",
          "Health Care",
          "Information Technology",
          "Health Care",
          "Consumer Staples",
          "Financials",
          "Information Technology",
          "Consumer Discretionary",
          "Industrials",
          "Communication Services",
          "Communication Services",
          "Consumer Discretionary",
          "Financials",
          "Consumer Discretionary",
          "Financials",
          "Industrials",
          "Energy",
          "Consumer Discretionary",
          "Financials",
          "Health Care",
          "Consumer Discretionary",
          "Energy",
          "Financials",
          "Industrials",
          "Consumer Discretionary",
          "Health Care",
          "Industrials",
          "Information Technology",
          "Information Technology",
          "Consumer Staples",
          "Health Care",
          "Real Estate",
          "Consumer Staples",
          "Health Care",
          "Industrials",
          "Information Technology",
          "Financials",
          "Health Care",
          "Industrials",
          "Materials",
          "Health Care",
          "Health Care",
          "Information Technology",
          "Information Technology",
          "Real Estate",
          "Materials",
          "Communication Services",
          "Health Care",
          "Industrials",
          "Real Estate",
          "Health Care",
          "Information Technology",
          "Industrials",
          "Financials",
          "Industrials",
          "Industrials",
          "Industrials",
          "Financials",
          "Health Care",
          "Information Technology",
          "Financials",
          "Consumer Staples",
          "Consumer Staples",
          "Financials",
          "Information Technology",
          "Consumer Staples",
          "Real Estate",
          "Information Technology",
          "Consumer Staples",
          "Energy",
          "Consumer Discretionary",
          "Consumer Staples",
          "Consumer Staples",
          "Financials",
          "Industrials",
          "Consumer Discretionary",
          "Health Care",
          "Industrials",
          "Materials",
          "Consumer Discretionary",
          "Health Care",
          "Industrials",
          "Financials",
          "Utilities",
          "Consumer Discretionary",
          "Information Technology",
          "Industrials",
          "Consumer Discretionary",
          "Consumer Staples",
          "Materials",
          "Communication Services",
          "Financials",
          "Real Estate",
          "Consumer Discretionary",
          "Industrials",
          "Consumer Discretionary",
          "Information Technology",
          "Health Care",
          "Financials",
          "Consumer Staples",
          "Health Care",
          "Financials",
          "Communication Services",
          "Consumer Discretionary",
          "Consumer Discretionary",
          "Consumer Staples",
          "Financials",
          "Materials",
          "Financials",
          "Industrials",
          "Consumer Staples",
          "Consumer Staples",
          "Health Care",
          "Materials",
          "Energy",
          "Information Technology",
          "Health Care",
          "Health Care",
          "Energy",
          "Financials",
          "Financials",
          "Information Technology",
          "Information Technology",
          "Financials",
          "Communication Services",
          "Health Care",
          "Information Technology",
          "Consumer Discretionary",
          "Financials",
          "Industrials",
          "Utilities",
          "Materials",
          "Communication Services",
          "Utilities",
          "Consumer Discretionary",
          "Industrials",
          "Information Technology",
          "Utilities",
          "Industrials",
          "Information Technology",
          "Financials",
          "Materials",
          "Information Technology",
          "Consumer Discretionary",
          "Consumer Discretionary",
          "Communication Services",
          "Communication Services",
          "Information Technology",
          "Real Estate",
          "Industrials",
          "Health Care",
          "Energy",
          "Communication Services",
          "Information Technology",
          "Information Technology",
          "Consumer Discretionary",
          "Industrials",
          "Energy",
          "Communication Services",
          "Information Technology",
          "Industrials",
          "Industrials",
          "Utilities",
          "Real Estate",
          "Utilities",
          "Consumer Staples",
          "Health Care",
          "Financials",
          "Consumer Staples",
          "Financials",
          "Industrials",
          "Consumer Discretionary",
          "Materials",
          "Health Care",
          "Real Estate",
          "Consumer Staples",
          "Financials",
          "Industrials",
          "Utilities",
          "Health Care",
          "Consumer Discretionary",
          "Materials",
          "Utilities",
          "Financials",
          "Real Estate",
          "Energy",
          "Information Technology",
          "Industrials",
          "Energy",
          "Financials",
          "Information Technology",
          "Information Technology",
          "Consumer Discretionary",
          "Financials",
          "Real Estate",
          "Health Care",
          "Financials",
          "Industrials",
          "Financials",
          "Consumer Discretionary",
          "Health Care",
          "Industrials",
          "Industrials",
          "Information Technology",
          "Consumer Discretionary",
          "Industrials",
          "Industrials",
          "Real Estate",
          "Consumer Discretionary",
          "Financials",
          "Information Technology",
          "Materials",
          "Materials",
          "Consumer Staples",
          "Energy",
          "Industrials",
          "Information Technology",
          "Utilities",
          "Real Estate",
          "Financials",
          "Utilities",
          "Health Care",
          "Materials",
          "Financials",
          "Information Technology",
          "Consumer Staples",
          "Industrials",
          "Information Technology",
          "Financials",
          "Health Care",
          "Consumer Staples",
          "Communication Services",
          "Consumer Staples",
          "Industrials",
          "Information Technology",
          "Health Care",
          "Information Technology",
          "Information Technology",
          "Financials",
          "Health Care",
          "Consumer Staples",
          "Consumer Discretionary",
          "Health Care",
          "Communication Services",
          "Consumer Discretionary",
          "Energy",
          "Information Technology",
          "Financials",
          "Financials",
          "Consumer Discretionary",
          "Consumer Discretionary",
          "Consumer Staples",
          "Industrials",
          "Communication Services",
          "Information Technology",
          "Industrials",
          "Information Technology",
          "Industrials",
          "Real Estate",
          "Health Care",
          "Consumer Discretionary",
          "Health Care",
          "Industrials",
          "Industrials",
          "Industrials",
          "Financials",
          "Financials",
          "Consumer Discretionary",
          "Real Estate",
          "Energy",
          "Materials",
          "Industrials",
          "Information Technology",
          "Health Care",
          "Real Estate",
          "Health Care",
          "Communication Services",
          "Industrials",
          "Health Care",
          "Consumer Staples",
          "Communication Services",
          "Information Technology",
          "Utilities",
          "Real Estate",
          "Financials",
          "Consumer Discretionary",
          "Industrials",
          "Energy",
          "Consumer Staples",
          "Financials",
          "Materials",
          "Health Care",
          "Financials",
          "Real Estate",
          "Consumer Discretionary",
          "Utilities",
          "Energy",
          "Health Care",
          "Industrials",
          "Consumer Discretionary",
          "Health Care",
          "Information Technology",
          "Financials",
          "Health Care",
          "",
          "",
          "",
          "",
          "",
          "",
          "",
          "",
          "",
          "",
          ""
         ],
         "type": "sunburst",
         "values": [
          0.08646627554243327,
          0.0347256337291111,
          0.058925869252552575,
          0.13747639208466916,
          0.08101199297724755,
          0.08827069588602715,
          0.08556996418490365,
          0.10994990648192575,
          0.08245985815011957,
          0.0692281680643809,
          0.090679764524061,
          0.08334745298244997,
          0.08146214273819317,
          0.0685624650073223,
          0.0762266099694175,
          0.0713015575116245,
          0.08745600305663416,
          0.0754823902601812,
          0.05782632709755792,
          0.07450300875107203,
          0.12247124284942404,
          0.05671666637990061,
          0.07953224366697495,
          0.058813215091305354,
          0.04670757724057663,
          0.06395131616961015,
          0.07008172725638594,
          0.09305172738407079,
          0.060860024450597364,
          0.23385187651935693,
          0.0858629652037804,
          0.07187000732411117,
          0.0958382715954437,
          0.07071689608518883,
          0.06331870838800695,
          0.08730495746093164,
          0.08002174201361231,
          0.09577637041861922,
          0.06092048839991689,
          0.05321364268870597,
          0.08482744655456666,
          0.07931389351198694,
          0.05713229746899696,
          0.05686757389808553,
          0.06726492633688494,
          0.057412222339330105,
          0.06268749164824197,
          0.11735458384328479,
          0.07721980750332684,
          0.08067786973639525,
          0.17075808693137873,
          0.07406825437553503,
          0.14733184619310902,
          0.043163212988133276,
          0.056072566206816186,
          0.06738331294282596,
          0.04588179881523511,
          0.06825931107709092,
          0.058288947424493344,
          0.06292450028117046,
          0.052218273255082194,
          0.07026154525539151,
          0.059093677778482095,
          0.07890775043602273,
          0.04998219286011684,
          0.06065015834770748,
          0.05156888803146494,
          0.06632568913535922,
          0.06989834422584645,
          0.07110373707338753,
          0.0976187241080646,
          0.07709786668357763,
          0.05535742321991868,
          0.039489652176643346,
          0.04834778210742206,
          0.060298491334405596,
          0.07992995363434169,
          0.1302338643438009,
          0.07323352284404479,
          0.07377188116691052,
          0.06500962984421116,
          0.07238121831903853,
          0.06544486841349835,
          0.02967463042137576,
          0.07953591418235706,
          0.1747653609835243,
          0.09272252920772205,
          0.05564243571832734,
          0.07961887549396286,
          0.0909503807833766,
          0.04822525031963192,
          0.08970029955476555,
          0.06748129100935134,
          0.06295785484720713,
          0.06885195240297406,
          0.07543133565344443,
          0.0681876904712667,
          0.0741162450803031,
          0.038741681449956426,
          0.06682291590745135,
          0.06472338339769317,
          0.1704207422893461,
          0.07761579835212358,
          0.06996834730790126,
          0.06018946484133042,
          0.06406423082239364,
          0.056923539731466556,
          0.07503385883352778,
          0.07533143847341575,
          0.10548960987524747,
          0.07115169839484121,
          0.11417039709633374,
          0.06842993280151069,
          0.07879956633926091,
          0.06989047883396224,
          0.05957386850811892,
          0.08153196374810097,
          0.0733648738233044,
          0.10645203810890087,
          0.06115295118993153,
          0.06346312799012645,
          0.0488575447858612,
          0.089591645233907,
          0.06368207940262545,
          0.07120478139815704,
          0.055866035772492495,
          0.05613866015082477,
          0.04544458828533154,
          0.047737605261574924,
          0.11219388570574097,
          0.06909339324373256,
          0.09656740734851899,
          0.06922246837679018,
          0.10172866535542764,
          0.09965387027721281,
          0.05490612605210868,
          0.03099363118845124,
          0.05635379687241731,
          0.07357900477193167,
          0.08738368547618879,
          0.0638983107524496,
          0.06403022925358358,
          0.08046276850294297,
          0.06885802968072792,
          0.06955273551997618,
          0.06450098857936841,
          0.07348604742908832,
          0.03323520833978607,
          0.18757742890815157,
          0.05523673378277814,
          0.06236869270121501,
          0.06209608757990775,
          0.06955068511014915,
          0.08001634817614771,
          0.06647692431529834,
          0.07188904724486352,
          0.08779843440857878,
          0.05126040586921754,
          0.06581100644210913,
          1.0296746304213757,
          0.060135879288925914,
          0.09359071054671854,
          0.08236851550358948,
          0.06005881123987262,
          0.06097145332032436,
          0.0696819152621839,
          0.05605998271230069,
          0.10081047249722652,
          0.07142805008427676,
          0.11834240697452607,
          0.06491746132369682,
          0.08250589267683839,
          0.0752293296396637,
          0.08288097165290464,
          0.049656934471096516,
          0.0801692687785387,
          0.06345619917200529,
          0.05904148655202308,
          0.09621016076664225,
          0.09983730210872004,
          0.08891482515273108,
          0.05497503519878034,
          0.06581864676904575,
          0.047870964750949034,
          0.15148046503844179,
          0.04137526966715204,
          0.07517128863946378,
          0.050945740017718816,
          0.05517348456723362,
          0.0734186935469182,
          0.04905170792089697,
          0.052010243592280375,
          0.053972323885131616,
          0.1019140205420961,
          0.1860365359394572,
          0.056354424915366484,
          0.06066879338899876,
          0.061971424339013245,
          0.06429762649773732,
          0.05819329086125419,
          0.06915451115537552,
          0.09875437259325208,
          0.06332660851297767,
          0.06489990061521932,
          0.05389876028387861,
          0.0972726503598931,
          0.08458481270613466,
          0.08392388514790168,
          0.0904446172442353,
          0.05258499971116086,
          0.08193567796159355,
          0.07057237011594492,
          0.10090758862796685,
          0.04311044263532998,
          0.04848991204455876,
          0.050328923683207856,
          0.11357339054010072,
          0.07827355030108199,
          0.09842257977562145,
          0.06893559858655382,
          0.05481236210706055,
          0.0790167737369046,
          0.09246262927697933,
          0.07192847309533401,
          0.05318666542931208,
          0.0723737313309812,
          0.06256877414961734,
          0.0645653326330942,
          0.05246735770081402,
          0.12369007925203641,
          0.08222233047361978,
          0.1017248842786362,
          0.05895879038561524,
          0.07189412443303136,
          0.09334258616398527,
          0.07337603501933121,
          0.04991822338237124,
          0.04757818274885997,
          0.05698975104717048,
          0.04445664817841239,
          0.09451958012355487,
          0.07179669399783713,
          0.04916056128959539,
          0.07823267628300402,
          0.08140691274400622,
          0.07743001648140305,
          0.09088940909635322,
          0.08322818599622737,
          0.09819248144044877,
          0.07874910351157734,
          0.04670528112829665,
          0.08764596714724314,
          0.07070203353787692,
          0.0789505886513247,
          0.0655458375635135,
          0.06954331638207266,
          0.06326263839972374,
          0.06773454211228543,
          0.0668129232954234,
          0.08111678604063657,
          0.042430970418314166,
          0.10586094744543616,
          0.05052867834954752,
          0.07239329570332746,
          0.14009071909186796,
          0.07438735315831792,
          0.06575097076313624,
          0.057555356318277004,
          0.0773630181141621,
          0.09208361149085394,
          0.05959372910915122,
          0.0675934243931399,
          0.09044912966642556,
          0.06452200125322334,
          0.06529108959687943,
          0.10050180171587296,
          0.08184980912787247,
          0.20318407108952932,
          0.07319432542020457,
          0.03540696819057104,
          0.06855540061052764,
          0.10434378639566284,
          0.11067279603737186,
          0.04309964029631438,
          0.05123258409349633,
          0.07795309737578646,
          0.058652234704431136,
          0.06916625612570614,
          0.08533243668945649,
          0.0806760565499057,
          0.06506811894533936,
          0.06961819794004197,
          0.08460317867632225,
          0.07986536168365709,
          0.10131814726020719,
          0.08059412639656487,
          0.09091779349875216,
          0.06050182523734511,
          0.06893299423751588,
          0.06439714578557185,
          0.06758781664567821,
          0.03887531011379206,
          0.07916639928587764,
          0.06990039822039028,
          0.08056517650319688,
          0.09538313502224235,
          0.04304324065435283,
          0.08984623308594147,
          0.060659873639515485,
          0.13122754933840494,
          0.07340942855962725,
          0.07621935944896481,
          0.14135448115245886,
          0.09960511756424115,
          0.23250156353910362,
          0.060472040626954146,
          0.0804153217130738,
          0.11853348338094266,
          0.12434582860326525,
          0.1109766642460724,
          0.04663288387302616,
          0.05444176855925238,
          0.10495719798343575,
          0.06261494656103504,
          0.0332151561839517,
          0.08310697393967599,
          0.07608302290034362,
          0.08608561572177559,
          0.06620266569624461,
          0.05391646949874619,
          0.06344579869026322,
          0.08185295113874778,
          0.0698819866415881,
          0.09856074994654337,
          0.05798640321443559,
          0.0701305172783509,
          0.05613368215080185,
          0.048564071048484606,
          0.10311475525234302,
          0.15886984431257795,
          0.08114634272124743,
          0.0386303377702701,
          0.05762131526779506,
          0.057759030412461956,
          0.07890873650246229,
          0.06889057097626959,
          0.13033417782985104,
          0.04794535527495031,
          0.06611738108148164,
          0.06684987197636913,
          0.1268797995341076,
          0.09118793301863756,
          0.1299284997955298,
          0.08322630318414678,
          0.05095243341863732,
          0.03972493474488401,
          0.10533499252539585,
          0.08397435556386251,
          0.08507350297631915,
          0.03637363434509572,
          0.0577530495388342,
          0.06770568167729632,
          0.09200372003438885,
          0.06617028538344345,
          0.0693682121194504,
          0.09835825738086161,
          0.09573343889799814,
          0.0861465026123132,
          0.0927536957785527,
          0.06561460052105954,
          0.0782112325035719,
          0.08873587741202378,
          0.07114345160398106,
          0.052925290975973246,
          0.06670717047012001,
          0.060591354252074486,
          0.13878613391934883,
          0.10114072894847623,
          0.06700838535809932,
          0.06282523893304152,
          0.055357316928195045,
          0.07378423874858715,
          0.05520214090460283,
          0.0677557672784686,
          0.1691624801398934,
          0.06351423493677087,
          0.05326190215842556,
          0.09734992899586316,
          0.05975859468541629,
          0.04483959934990817,
          0.07978841550313158,
          0.06171622140465132,
          0.10747615479139162,
          0.055765387392784665,
          0.06135837201501818,
          0.06943436087163887,
          0.059707754306613084,
          0.10026828388438654,
          0.07718127655092591,
          0.08374162292997805,
          0.07636013842619836,
          0.06559562326984304,
          0.09429632442017077,
          0.06759653916817863,
          0.0715840306833669,
          0.08430444782106773,
          0.05159767130062326,
          0.1623421519060043,
          0.05541994078944036,
          0.08178555111225375,
          0.07291696913295403,
          0.04747285896576233,
          0.08514355091071056,
          0.14757447588592149,
          0.084346822334018,
          0.05113674534360963,
          0.08107154529772778,
          0.07287165459705507,
          0.08507913417645466,
          0.09856686793069311,
          0.048993634570526905,
          0.06216642114760116,
          0.05716852869208309,
          0.04543702692253896,
          0.06063192253227912,
          0.05362172015062342,
          0.07872081861903027,
          0.06475314720897882,
          0.05628310266495637,
          0.06127355073355328,
          0.10475213831582725,
          0.08735850625424554,
          0.09521489701689471,
          0.06733909912227416,
          0.10269770798587866,
          0.04351225010334724,
          0.055193292266379305,
          0.09923329733059875,
          0.08529479488484919,
          0.10398323042918872,
          0.09830568311876857,
          0.05408004938962131,
          0.08115721727474995,
          0.06433839133427703,
          0.05756615428356748,
          0.07118931718478377,
          0.14087870921486756,
          0.2609967977019176,
          0.05490823823605477,
          0.10968896314438543,
          0.057764712032169395,
          0.07764229337355767,
          0.05606728401880287,
          0.07594586231707282,
          0.044423571389270604,
          0.06359104116954509,
          0.06171058800651546,
          0.08622105122288672,
          0.09173484093391011,
          0.07269986765479716,
          0.07913126540694844,
          0.09025164374672527,
          0.04589351076214564,
          0.07849713041238827,
          0.035420157574062985,
          0.093117453685917,
          0.05988760493491199,
          0.06991035396422358,
          0.08491733874064605,
          0.07882831445238107,
          0.09362474370035889,
          0.05821922307776601,
          0.03297368672801175,
          0.05478620929654923,
          0.057704478835576084,
          0.0705554156730405,
          0.04324573592436913,
          0.04115215773275087,
          0.038417542078858835,
          0.075579059447671,
          0.07466386937786751,
          0.049858425715736884,
          0.05733895434694516,
          0.09014717541245053,
          0.069452322410797,
          0.08207015598993124,
          0.08227832720475313,
          0.041440398370201185,
          0.1517540946287846,
          0.07250595688362066,
          0.05442256735990452,
          0.04277092060046988,
          0.07559018804606239,
          0.07832231900881868,
          0.05174329365603928,
          0.0717502317209726,
          0.07844494300632866,
          0.06277779689905384,
          0.08067130320496804,
          0.038817871844826476,
          0.09117604169424906,
          1.4483014669835255,
          4.093457762867163,
          2.7875125379114603,
          1.484470651358771,
          4.723426637172226,
          5.525986548207018,
          5.845938429750567,
          6.972049957581547,
          2.065526647122344,
          2.010838034160638,
          2.086187709960374
         ]
        }
       ],
       "layout": {
        "coloraxis": {
         "colorbar": {
          "title": {
           "text": "volatility"
          }
         },
         "colorscale": [
          [
           0,
           "#0d0887"
          ],
          [
           0.1111111111111111,
           "#46039f"
          ],
          [
           0.2222222222222222,
           "#7201a8"
          ],
          [
           0.3333333333333333,
           "#9c179e"
          ],
          [
           0.4444444444444444,
           "#bd3786"
          ],
          [
           0.5555555555555556,
           "#d8576b"
          ],
          [
           0.6666666666666666,
           "#ed7953"
          ],
          [
           0.7777777777777778,
           "#fb9f3a"
          ],
          [
           0.8888888888888888,
           "#fdca26"
          ],
          [
           1,
           "#f0f921"
          ]
         ]
        },
        "legend": {
         "tracegroupgap": 0
        },
        "margin": {
         "t": 60
        },
        "template": {
         "data": {
          "bar": [
           {
            "error_x": {
             "color": "#2a3f5f"
            },
            "error_y": {
             "color": "#2a3f5f"
            },
            "marker": {
             "line": {
              "color": "#E5ECF6",
              "width": 0.5
             },
             "pattern": {
              "fillmode": "overlay",
              "size": 10,
              "solidity": 0.2
             }
            },
            "type": "bar"
           }
          ],
          "barpolar": [
           {
            "marker": {
             "line": {
              "color": "#E5ECF6",
              "width": 0.5
             },
             "pattern": {
              "fillmode": "overlay",
              "size": 10,
              "solidity": 0.2
             }
            },
            "type": "barpolar"
           }
          ],
          "carpet": [
           {
            "aaxis": {
             "endlinecolor": "#2a3f5f",
             "gridcolor": "white",
             "linecolor": "white",
             "minorgridcolor": "white",
             "startlinecolor": "#2a3f5f"
            },
            "baxis": {
             "endlinecolor": "#2a3f5f",
             "gridcolor": "white",
             "linecolor": "white",
             "minorgridcolor": "white",
             "startlinecolor": "#2a3f5f"
            },
            "type": "carpet"
           }
          ],
          "choropleth": [
           {
            "colorbar": {
             "outlinewidth": 0,
             "ticks": ""
            },
            "type": "choropleth"
           }
          ],
          "contour": [
           {
            "colorbar": {
             "outlinewidth": 0,
             "ticks": ""
            },
            "colorscale": [
             [
              0,
              "#0d0887"
             ],
             [
              0.1111111111111111,
              "#46039f"
             ],
             [
              0.2222222222222222,
              "#7201a8"
             ],
             [
              0.3333333333333333,
              "#9c179e"
             ],
             [
              0.4444444444444444,
              "#bd3786"
             ],
             [
              0.5555555555555556,
              "#d8576b"
             ],
             [
              0.6666666666666666,
              "#ed7953"
             ],
             [
              0.7777777777777778,
              "#fb9f3a"
             ],
             [
              0.8888888888888888,
              "#fdca26"
             ],
             [
              1,
              "#f0f921"
             ]
            ],
            "type": "contour"
           }
          ],
          "contourcarpet": [
           {
            "colorbar": {
             "outlinewidth": 0,
             "ticks": ""
            },
            "type": "contourcarpet"
           }
          ],
          "heatmap": [
           {
            "colorbar": {
             "outlinewidth": 0,
             "ticks": ""
            },
            "colorscale": [
             [
              0,
              "#0d0887"
             ],
             [
              0.1111111111111111,
              "#46039f"
             ],
             [
              0.2222222222222222,
              "#7201a8"
             ],
             [
              0.3333333333333333,
              "#9c179e"
             ],
             [
              0.4444444444444444,
              "#bd3786"
             ],
             [
              0.5555555555555556,
              "#d8576b"
             ],
             [
              0.6666666666666666,
              "#ed7953"
             ],
             [
              0.7777777777777778,
              "#fb9f3a"
             ],
             [
              0.8888888888888888,
              "#fdca26"
             ],
             [
              1,
              "#f0f921"
             ]
            ],
            "type": "heatmap"
           }
          ],
          "heatmapgl": [
           {
            "colorbar": {
             "outlinewidth": 0,
             "ticks": ""
            },
            "colorscale": [
             [
              0,
              "#0d0887"
             ],
             [
              0.1111111111111111,
              "#46039f"
             ],
             [
              0.2222222222222222,
              "#7201a8"
             ],
             [
              0.3333333333333333,
              "#9c179e"
             ],
             [
              0.4444444444444444,
              "#bd3786"
             ],
             [
              0.5555555555555556,
              "#d8576b"
             ],
             [
              0.6666666666666666,
              "#ed7953"
             ],
             [
              0.7777777777777778,
              "#fb9f3a"
             ],
             [
              0.8888888888888888,
              "#fdca26"
             ],
             [
              1,
              "#f0f921"
             ]
            ],
            "type": "heatmapgl"
           }
          ],
          "histogram": [
           {
            "marker": {
             "pattern": {
              "fillmode": "overlay",
              "size": 10,
              "solidity": 0.2
             }
            },
            "type": "histogram"
           }
          ],
          "histogram2d": [
           {
            "colorbar": {
             "outlinewidth": 0,
             "ticks": ""
            },
            "colorscale": [
             [
              0,
              "#0d0887"
             ],
             [
              0.1111111111111111,
              "#46039f"
             ],
             [
              0.2222222222222222,
              "#7201a8"
             ],
             [
              0.3333333333333333,
              "#9c179e"
             ],
             [
              0.4444444444444444,
              "#bd3786"
             ],
             [
              0.5555555555555556,
              "#d8576b"
             ],
             [
              0.6666666666666666,
              "#ed7953"
             ],
             [
              0.7777777777777778,
              "#fb9f3a"
             ],
             [
              0.8888888888888888,
              "#fdca26"
             ],
             [
              1,
              "#f0f921"
             ]
            ],
            "type": "histogram2d"
           }
          ],
          "histogram2dcontour": [
           {
            "colorbar": {
             "outlinewidth": 0,
             "ticks": ""
            },
            "colorscale": [
             [
              0,
              "#0d0887"
             ],
             [
              0.1111111111111111,
              "#46039f"
             ],
             [
              0.2222222222222222,
              "#7201a8"
             ],
             [
              0.3333333333333333,
              "#9c179e"
             ],
             [
              0.4444444444444444,
              "#bd3786"
             ],
             [
              0.5555555555555556,
              "#d8576b"
             ],
             [
              0.6666666666666666,
              "#ed7953"
             ],
             [
              0.7777777777777778,
              "#fb9f3a"
             ],
             [
              0.8888888888888888,
              "#fdca26"
             ],
             [
              1,
              "#f0f921"
             ]
            ],
            "type": "histogram2dcontour"
           }
          ],
          "mesh3d": [
           {
            "colorbar": {
             "outlinewidth": 0,
             "ticks": ""
            },
            "type": "mesh3d"
           }
          ],
          "parcoords": [
           {
            "line": {
             "colorbar": {
              "outlinewidth": 0,
              "ticks": ""
             }
            },
            "type": "parcoords"
           }
          ],
          "pie": [
           {
            "automargin": true,
            "type": "pie"
           }
          ],
          "scatter": [
           {
            "fillpattern": {
             "fillmode": "overlay",
             "size": 10,
             "solidity": 0.2
            },
            "type": "scatter"
           }
          ],
          "scatter3d": [
           {
            "line": {
             "colorbar": {
              "outlinewidth": 0,
              "ticks": ""
             }
            },
            "marker": {
             "colorbar": {
              "outlinewidth": 0,
              "ticks": ""
             }
            },
            "type": "scatter3d"
           }
          ],
          "scattercarpet": [
           {
            "marker": {
             "colorbar": {
              "outlinewidth": 0,
              "ticks": ""
             }
            },
            "type": "scattercarpet"
           }
          ],
          "scattergeo": [
           {
            "marker": {
             "colorbar": {
              "outlinewidth": 0,
              "ticks": ""
             }
            },
            "type": "scattergeo"
           }
          ],
          "scattergl": [
           {
            "marker": {
             "colorbar": {
              "outlinewidth": 0,
              "ticks": ""
             }
            },
            "type": "scattergl"
           }
          ],
          "scattermapbox": [
           {
            "marker": {
             "colorbar": {
              "outlinewidth": 0,
              "ticks": ""
             }
            },
            "type": "scattermapbox"
           }
          ],
          "scatterpolar": [
           {
            "marker": {
             "colorbar": {
              "outlinewidth": 0,
              "ticks": ""
             }
            },
            "type": "scatterpolar"
           }
          ],
          "scatterpolargl": [
           {
            "marker": {
             "colorbar": {
              "outlinewidth": 0,
              "ticks": ""
             }
            },
            "type": "scatterpolargl"
           }
          ],
          "scatterternary": [
           {
            "marker": {
             "colorbar": {
              "outlinewidth": 0,
              "ticks": ""
             }
            },
            "type": "scatterternary"
           }
          ],
          "surface": [
           {
            "colorbar": {
             "outlinewidth": 0,
             "ticks": ""
            },
            "colorscale": [
             [
              0,
              "#0d0887"
             ],
             [
              0.1111111111111111,
              "#46039f"
             ],
             [
              0.2222222222222222,
              "#7201a8"
             ],
             [
              0.3333333333333333,
              "#9c179e"
             ],
             [
              0.4444444444444444,
              "#bd3786"
             ],
             [
              0.5555555555555556,
              "#d8576b"
             ],
             [
              0.6666666666666666,
              "#ed7953"
             ],
             [
              0.7777777777777778,
              "#fb9f3a"
             ],
             [
              0.8888888888888888,
              "#fdca26"
             ],
             [
              1,
              "#f0f921"
             ]
            ],
            "type": "surface"
           }
          ],
          "table": [
           {
            "cells": {
             "fill": {
              "color": "#EBF0F8"
             },
             "line": {
              "color": "white"
             }
            },
            "header": {
             "fill": {
              "color": "#C8D4E3"
             },
             "line": {
              "color": "white"
             }
            },
            "type": "table"
           }
          ]
         },
         "layout": {
          "annotationdefaults": {
           "arrowcolor": "#2a3f5f",
           "arrowhead": 0,
           "arrowwidth": 1
          },
          "autotypenumbers": "strict",
          "coloraxis": {
           "colorbar": {
            "outlinewidth": 0,
            "ticks": ""
           }
          },
          "colorscale": {
           "diverging": [
            [
             0,
             "#8e0152"
            ],
            [
             0.1,
             "#c51b7d"
            ],
            [
             0.2,
             "#de77ae"
            ],
            [
             0.3,
             "#f1b6da"
            ],
            [
             0.4,
             "#fde0ef"
            ],
            [
             0.5,
             "#f7f7f7"
            ],
            [
             0.6,
             "#e6f5d0"
            ],
            [
             0.7,
             "#b8e186"
            ],
            [
             0.8,
             "#7fbc41"
            ],
            [
             0.9,
             "#4d9221"
            ],
            [
             1,
             "#276419"
            ]
           ],
           "sequential": [
            [
             0,
             "#0d0887"
            ],
            [
             0.1111111111111111,
             "#46039f"
            ],
            [
             0.2222222222222222,
             "#7201a8"
            ],
            [
             0.3333333333333333,
             "#9c179e"
            ],
            [
             0.4444444444444444,
             "#bd3786"
            ],
            [
             0.5555555555555556,
             "#d8576b"
            ],
            [
             0.6666666666666666,
             "#ed7953"
            ],
            [
             0.7777777777777778,
             "#fb9f3a"
            ],
            [
             0.8888888888888888,
             "#fdca26"
            ],
            [
             1,
             "#f0f921"
            ]
           ],
           "sequentialminus": [
            [
             0,
             "#0d0887"
            ],
            [
             0.1111111111111111,
             "#46039f"
            ],
            [
             0.2222222222222222,
             "#7201a8"
            ],
            [
             0.3333333333333333,
             "#9c179e"
            ],
            [
             0.4444444444444444,
             "#bd3786"
            ],
            [
             0.5555555555555556,
             "#d8576b"
            ],
            [
             0.6666666666666666,
             "#ed7953"
            ],
            [
             0.7777777777777778,
             "#fb9f3a"
            ],
            [
             0.8888888888888888,
             "#fdca26"
            ],
            [
             1,
             "#f0f921"
            ]
           ]
          },
          "colorway": [
           "#636efa",
           "#EF553B",
           "#00cc96",
           "#ab63fa",
           "#FFA15A",
           "#19d3f3",
           "#FF6692",
           "#B6E880",
           "#FF97FF",
           "#FECB52"
          ],
          "font": {
           "color": "#2a3f5f"
          },
          "geo": {
           "bgcolor": "white",
           "lakecolor": "white",
           "landcolor": "#E5ECF6",
           "showlakes": true,
           "showland": true,
           "subunitcolor": "white"
          },
          "hoverlabel": {
           "align": "left"
          },
          "hovermode": "closest",
          "mapbox": {
           "style": "light"
          },
          "paper_bgcolor": "white",
          "plot_bgcolor": "#E5ECF6",
          "polar": {
           "angularaxis": {
            "gridcolor": "white",
            "linecolor": "white",
            "ticks": ""
           },
           "bgcolor": "#E5ECF6",
           "radialaxis": {
            "gridcolor": "white",
            "linecolor": "white",
            "ticks": ""
           }
          },
          "scene": {
           "xaxis": {
            "backgroundcolor": "#E5ECF6",
            "gridcolor": "white",
            "gridwidth": 2,
            "linecolor": "white",
            "showbackground": true,
            "ticks": "",
            "zerolinecolor": "white"
           },
           "yaxis": {
            "backgroundcolor": "#E5ECF6",
            "gridcolor": "white",
            "gridwidth": 2,
            "linecolor": "white",
            "showbackground": true,
            "ticks": "",
            "zerolinecolor": "white"
           },
           "zaxis": {
            "backgroundcolor": "#E5ECF6",
            "gridcolor": "white",
            "gridwidth": 2,
            "linecolor": "white",
            "showbackground": true,
            "ticks": "",
            "zerolinecolor": "white"
           }
          },
          "shapedefaults": {
           "line": {
            "color": "#2a3f5f"
           }
          },
          "ternary": {
           "aaxis": {
            "gridcolor": "white",
            "linecolor": "white",
            "ticks": ""
           },
           "baxis": {
            "gridcolor": "white",
            "linecolor": "white",
            "ticks": ""
           },
           "bgcolor": "#E5ECF6",
           "caxis": {
            "gridcolor": "white",
            "linecolor": "white",
            "ticks": ""
           }
          },
          "title": {
           "x": 0.05
          },
          "xaxis": {
           "automargin": true,
           "gridcolor": "white",
           "linecolor": "white",
           "ticks": "",
           "title": {
            "standoff": 15
           },
           "zerolinecolor": "white",
           "zerolinewidth": 2
          },
          "yaxis": {
           "automargin": true,
           "gridcolor": "white",
           "linecolor": "white",
           "ticks": "",
           "title": {
            "standoff": 15
           },
           "zerolinecolor": "white",
           "zerolinewidth": 2
          }
         }
        }
       }
      }
     },
     "metadata": {},
     "output_type": "display_data"
    }
   ],
   "source": [
    "min_ratio=df_perCompany[\"total_return\"].min()\n",
    "max_ratio=df_perCompany[\"total_return\"].max()\n",
    "total_return_scale = (df_perCompany[\"total_return\"]+1-min_ratio)/(max_ratio-min_ratio)\n",
    "\n",
    "fig = px.sunburst(df_perCompany, path=['GICS Sector',\"Ticker\"], values=total_return_scale,\n",
    "                  color='volatility')\n",
    "fig.show()"
   ]
  },
  {
   "cell_type": "code",
   "execution_count": 23,
   "metadata": {},
   "outputs": [
    {
     "data": {
      "application/vnd.plotly.v1+json": {
       "config": {
        "plotlyServerURL": "https://plot.ly"
       },
       "data": [
        {
         "branchvalues": "total",
         "customdata": [
          [
           0.20010025804875525
          ],
          [
           0.2236749535283802
          ],
          [
           0.3057239340451148
          ],
          [
           0.4305756590044747
          ],
          [
           0.16065825010010748
          ],
          [
           0.16334029691812618
          ],
          [
           0.18166218663518535
          ],
          [
           0.2603722467168518
          ],
          [
           0.3362142016498956
          ],
          [
           0.307656289815578
          ],
          [
           0.16455156052811196
          ],
          [
           0.20365637892417554
          ],
          [
           0.20144163948487936
          ],
          [
           0.32025168108477675
          ],
          [
           0.08733704334346594
          ],
          [
           0.13395577917710375
          ],
          [
           0.19204367218976015
          ],
          [
           0.18348821180192962
          ],
          [
           0.3094397945975291
          ],
          [
           0.2041698206232608
          ],
          [
           0.13017797487101312
          ],
          [
           0.2481020200256519
          ],
          [
           0.4717115525659019
          ],
          [
           0.49727665106764335
          ],
          [
           0.13445008509395698
          ],
          [
           0.19520856705285816
          ],
          [
           0.23110306949818354
          ],
          [
           0.5023926427423733
          ],
          [
           0.12942292176860523
          ],
          [
           0.6070911832734033
          ],
          [
           0.1900724726769362
          ],
          [
           0.14115197242648794
          ],
          [
           0.31629481899780326
          ],
          [
           0.2547546627925668
          ],
          [
           0.36482303342937356
          ],
          [
           0.41970048179391384
          ],
          [
           0.38160819089440795
          ],
          [
           0.20247858703851718
          ],
          [
           0.3197886869463007
          ],
          [
           0.49323643931877553
          ],
          [
           0.17920916033894657
          ],
          [
           0.19759548614682543
          ],
          [
           0.36469298050221366
          ],
          [
           0.28192574475738846
          ],
          [
           0.11740095638871649
          ],
          [
           0.3167934475013479
          ],
          [
           0.32631214670479014
          ],
          [
           0.23873705413762092
          ],
          [
           0.2602501541941482
          ],
          [
           0.20039128392178357
          ],
          [
           0.2404199049610914
          ],
          [
           0.191036837764206
          ],
          [
           0.25222341959071753
          ],
          [
           0.1324681504712003
          ],
          [
           0.3122275358378782
          ],
          [
           0.3105351409843832
          ],
          [
           0.20881760546774011
          ],
          [
           0.6805050330943784
          ],
          [
           0.31635919008686947
          ],
          [
           0.09808050657436551
          ],
          [
           0.1976708629159467
          ],
          [
           0.20529574017497557
          ],
          [
           0.11148530103987313
          ],
          [
           0.36776196996836785
          ],
          [
           0.21678029923399394
          ],
          [
           0.1878684778652851
          ],
          [
           0.2290327331334703
          ],
          [
           0.277704788479421
          ],
          [
           0.11443724021760968
          ],
          [
           0.20565390430758895
          ],
          [
           0.24330356505860304
          ],
          [
           0.16198059867834136
          ],
          [
           0.1957504324966548
          ],
          [
           0.2786692424761689
          ],
          [
           0.27311615653716376
          ],
          [
           0.319295912896791
          ],
          [
           0.20164070683910054
          ],
          [
           0.9359327525779684
          ],
          [
           0.15023594246107017
          ],
          [
           0.14861917761202265
          ],
          [
           0.20559361928534203
          ],
          [
           0.3952694697543594
          ],
          [
           0.25954118860679354
          ],
          [
           0.307863166651472
          ],
          [
           0.4487035871543533
          ],
          [
           0.3390072345283192
          ],
          [
           0.37432928931566584
          ],
          [
           0.26946587233028996
          ],
          [
           0.5669418578060347
          ],
          [
           0.3325074874806616
          ],
          [
           0.2873391107436844
          ],
          [
           0.18315633209598223
          ],
          [
           0.13329613118113065
          ],
          [
           0.3541842298677608
          ],
          [
           0.19676385975591673
          ],
          [
           0.21542261819303812
          ],
          [
           0.12135576847336393
          ],
          [
           0.202197457143727
          ],
          [
           0.3453385435846033
          ],
          [
           0.19188951813892177
          ],
          [
           0.1746280149459874
          ],
          [
           0.35726169812412045
          ],
          [
           0.17303999295661962
          ],
          [
           0.12195057955266547
          ],
          [
           0.14622596991191242
          ],
          [
           0.1526787396305385
          ],
          [
           0.29569866256391786
          ],
          [
           0.15343454295356435
          ],
          [
           0.45093448687015164
          ],
          [
           0.24407530946481076
          ],
          [
           0.2654077046844471
          ],
          [
           0.35059789725525287
          ],
          [
           0.3862746172573302
          ],
          [
           0.3607178206696405
          ],
          [
           0.2918571967633723
          ],
          [
           0.2181241797062518
          ],
          [
           0.3506116201901732
          ],
          [
           0.15682899444353976
          ],
          [
           0.22431539516177545
          ],
          [
           0.5305122680235519
          ],
          [
           0.19612448863439805
          ],
          [
           0.2197301974676223
          ],
          [
           0.13933858597954257
          ],
          [
           0.236617888320069
          ],
          [
           0.30284326191059197
          ],
          [
           0.3592731742106997
          ],
          [
           0.14334285743233124
          ],
          [
           0.1650674778236264
          ],
          [
           0.1379328872558093
          ],
          [
           0.19715586446522218
          ],
          [
           0.2314709638705836
          ],
          [
           0.18993179691281734
          ],
          [
           0.22951388173204723
          ],
          [
           0.3135867904001797
          ],
          [
           0.27885938877519356
          ],
          [
           0.2583761052157362
          ],
          [
           0.3225931789488325
          ],
          [
           0.24550045312880303
          ],
          [
           0.11461993916232421
          ],
          [
           0.30290143385391544
          ],
          [
           0.07374790497926992
          ],
          [
           0.28221181759554953
          ],
          [
           0.10807833534796633
          ],
          [
           0.11062459249184547
          ],
          [
           0.08372473843609053
          ],
          [
           0.33264017076284963
          ],
          [
           0.786771666994983
          ],
          [
           0.20331148483037131
          ],
          [
           0.35689010600790544
          ],
          [
           0.2469311215046153
          ],
          [
           0.2904138322341406
          ],
          [
           0.21637543638228632
          ],
          [
           0.1462452680088836
          ],
          [
           0.33989782267507546
          ],
          [
           0.16872549163191441
          ],
          [
           0.3363165108847086
          ],
          [
           0.166947758426655
          ],
          [
           0.24451446582087208
          ],
          [
           0.1607909722191998
          ],
          [
           2.19473583138063
          ],
          [
           0.4498032564294843
          ],
          [
           0.5432845201010522
          ],
          [
           0.2919958434077476
          ],
          [
           0.31749014499642814
          ],
          [
           0.4056985418821507
          ],
          [
           0.14691395436767055
          ],
          [
           0.3122901812751545
          ],
          [
           0.22014593636191745
          ],
          [
           0.19063285224204463
          ],
          [
           1.122375919003947
          ],
          [
           0.14530881498319753
          ],
          [
           0.31222473552366836
          ],
          [
           0.16014851151918907
          ],
          [
           0.1974223317622814
          ],
          [
           0.2763784219986779
          ],
          [
           0.43995621563522114
          ],
          [
           0.6202442945587238
          ],
          [
           0.5542686291263249
          ],
          [
           0.23629719363821167
          ],
          [
           0.4332100976301325
          ],
          [
           0.22185800563391075
          ],
          [
           0.3589363354692794
          ],
          [
           0.26550614523338556
          ],
          [
           0.2618252331076684
          ],
          [
           0.35911715882412765
          ],
          [
           0.24828543658609015
          ],
          [
           0.23399496121205235
          ],
          [
           0.3440413825074665
          ],
          [
           0.25567791490436736
          ],
          [
           0.23456274798536073
          ],
          [
           0.15610834517006134
          ],
          [
           0.18426392277697454
          ],
          [
           0.331120111108601
          ],
          [
           0.40048064300794706
          ],
          [
           0.5230360175715193
          ],
          [
           0.09894940539403674
          ],
          [
           0.24001939445117468
          ],
          [
           0.341210843306293
          ],
          [
           0.22519641149611697
          ],
          [
           0.3029969355474463
          ],
          [
           0.13380168342953574
          ],
          [
           0.15870316764005787
          ],
          [
           0.201696043397541
          ],
          [
           0.11509268876761035
          ],
          [
           0.268846488246671
          ],
          [
           0.6382274048563064
          ],
          [
           0.3229538449409028
          ],
          [
           0.32397430531244154
          ],
          [
           0.16552871457519225
          ],
          [
           0.37785035904778164
          ],
          [
           0.26282229722675315
          ],
          [
           0.26548432681302764
          ],
          [
           0.11143693167076614
          ],
          [
           0.3704279822743844
          ],
          [
           0.2242136017604749
          ],
          [
           0.21707277531502
          ],
          [
           0.19256250077655024
          ],
          [
           0.2740179332159534
          ],
          [
           0.4308401749912755
          ],
          [
           0.25931677847045226
          ],
          [
           0.234050638875217
          ],
          [
           0.2800147914692291
          ],
          [
           0.14769268827613422
          ],
          [
           0.15136358525255522
          ],
          [
           0.23447109645899553
          ],
          [
           0.2685228921016496
          ],
          [
           0.10406061985854424
          ],
          [
           0.06177002825067997
          ],
          [
           0.15546579023304122
          ],
          [
           0.10592869239186997
          ],
          [
           0.09283835810573791
          ],
          [
           0.245558513120298
          ],
          [
           0.1476608029895677
          ],
          [
           0.1694869366579186
          ],
          [
           0.3952255458425057
          ],
          [
           0.17051207572622382
          ],
          [
           0.23255521616743424
          ],
          [
           0.21713782969643522
          ],
          [
           0.17571758194275713
          ],
          [
           0.2532164929380047
          ],
          [
           0.3516294529570696
          ],
          [
           0.34166517069655866
          ],
          [
           0.15952126002911568
          ],
          [
           0.2609634196227872
          ],
          [
           0.27592578676329205
          ],
          [
           0.35738628582342447
          ],
          [
           0.33027741399678445
          ],
          [
           0.21848658516734135
          ],
          [
           0.40882081283974353
          ],
          [
           0.19195743916280805
          ],
          [
           0.24928382882378455
          ],
          [
           0.23267188218023283
          ],
          [
           0.2479866920653661
          ],
          [
           0.34655466471860147
          ],
          [
           0.08781181874389615
          ],
          [
           0.07873744215746988
          ],
          [
           0.255443449797955
          ],
          [
           0.21804608320803265
          ],
          [
           0.10984504181774275
          ],
          [
           0.1353442456165796
          ],
          [
           0.3446618374800917
          ],
          [
           0.32192078943484265
          ],
          [
           0.16827655367488306
          ],
          [
           0.3615514323275313
          ],
          [
           0.43191377563885935
          ],
          [
           0.09089325419838498
          ],
          [
           0.23068047125994584
          ],
          [
           0.3099228969469313
          ],
          [
           0.07059283402450689
          ],
          [
           0.13509565154337558
          ],
          [
           0.15640507423803832
          ],
          [
           0.3801568788792646
          ],
          [
           0.31333665816907025
          ],
          [
           0.28932063856174944
          ],
          [
           0.2168412570599362
          ],
          [
           0.15629360357434718
          ],
          [
           0.3399701136892845
          ],
          [
           0.18265974625562226
          ],
          [
           0.25381849688290087
          ],
          [
           0.3235449195323481
          ],
          [
           0.1612605836890652
          ],
          [
           0.26623881247572306
          ],
          [
           0.5374275899795787
          ],
          [
           0.12119620465992083
          ],
          [
           0.278266733326268
          ],
          [
           0.19140694677472597
          ],
          [
           0.11227843233448702
          ],
          [
           0.36122123103614623
          ],
          [
           0.212816714494216
          ],
          [
           0.394764403111491
          ],
          [
           0.23976122535838082
          ],
          [
           0.3243043786893204
          ],
          [
           0.09058425257935264
          ],
          [
           0.2520239137581955
          ],
          [
           0.2620843731311055
          ],
          [
           0.3213670414982998
          ],
          [
           0.12436401079912111
          ],
          [
           0.17939516475801018
          ],
          [
           0.2111019886633204
          ],
          [
           0.5042642912236165
          ],
          [
           0.29872618158740727
          ],
          [
           0.2941059124526441
          ],
          [
           0.15568066582661022
          ],
          [
           0.4022922420197873
          ],
          [
           0.34083448456354126
          ],
          [
           0.22225935259742213
          ],
          [
           0.11860825130101282
          ],
          [
           0.17486281382584637
          ],
          [
           0.11167825393741314
          ],
          [
           0.23752991987840222
          ],
          [
           0.2769935474796925
          ],
          [
           0.4167946164626291
          ],
          [
           0.4272797189650055
          ],
          [
           0.1982063470550914
          ],
          [
           1.6751443294615134
          ],
          [
           0.6597991304895476
          ],
          [
           0.2607734732113029
          ],
          [
           0.3761946802671209
          ],
          [
           0.2991264151261331
          ],
          [
           0.23449372970251378
          ],
          [
           0.19446443192548016
          ],
          [
           0.5684410729345356
          ],
          [
           0.24354558949166097
          ],
          [
           0.3928485993856658
          ],
          [
           0.33048425009967425
          ],
          [
           0.2703115414092344
          ],
          [
           0.20054627756207075
          ],
          [
           0.20555131248621425
          ],
          [
           0.2210586477534623
          ],
          [
           0.3523675180102373
          ],
          [
           0.12176076704071417
          ],
          [
           0.22915771620152858
          ],
          [
           0.2884223946560279
          ],
          [
           0.406781916209988
          ],
          [
           0.14484842125899783
          ],
          [
           0.20129362339956186
          ],
          [
           0.23827046528007012
          ],
          [
           0.23595148985932984
          ],
          [
           0.4464701115416797
          ],
          [
           0.7325501269310123
          ],
          [
           0.3033560103179482
          ],
          [
           0.21343496782965216
          ],
          [
           0.22753036752186045
          ],
          [
           0.23092918554020458
          ],
          [
           0.3593558785590036
          ],
          [
           0.16160078997135538
          ],
          [
           0.38100736359662796
          ],
          [
           0.027337056923783357
          ],
          [
           0.37099839410491653
          ],
          [
           0.13686036155345058
          ],
          [
           0.43450139022438466
          ],
          [
           0.14814641139030885
          ],
          [
           0.16634630840793813
          ],
          [
           0.22425388726171352
          ],
          [
           0.5659260384290763
          ],
          [
           0.23904689932195797
          ],
          [
           0.4995546379432122
          ],
          [
           0.23184762526823002
          ],
          [
           0.15124331650023717
          ],
          [
           0.3227863565050584
          ],
          [
           0.23297108201967623
          ],
          [
           0.10161722204762039
          ],
          [
           0.07988865457666258
          ],
          [
           0.29730694746419123
          ],
          [
           0.2693769976738279
          ],
          [
           0.15148240901442417
          ],
          [
           0.15346627950999042
          ],
          [
           0.1870715596152258
          ],
          [
           0.273080044033957
          ],
          [
           0.20294620493871174
          ],
          [
           0.25623919432413295
          ],
          [
           0.37597668999869666
          ],
          [
           0.16154079003065777
          ],
          [
           0.2707412579954135
          ],
          [
           0.2696259331044903
          ],
          [
           0.084276617324322
          ],
          [
           0.47708466286034923
          ],
          [
           0.3994328939390206
          ],
          [
           0.1873804427646781
          ],
          [
           0.15664706951530416
          ],
          [
           0.23826836843244958
          ],
          [
           0.28996320082708477
          ],
          [
           0.2761893783440987
          ],
          [
           0.2212604202232246
          ],
          [
           0.303247004888065
          ],
          [
           0.34175695471890916
          ],
          [
           0.5320267886952175
          ],
          [
           0.3770713874489454
          ],
          [
           0.4419072870025043
          ],
          [
           0.3307675651314773
          ],
          [
           0.1597095669543293
          ],
          [
           0.3247511103332401
          ],
          [
           0.11236099582043685
          ],
          [
           0.25274901891345686
          ],
          [
           0.36497285641053384
          ],
          [
           0.2751831619362324
          ],
          [
           0.1147717198070827
          ],
          [
           0.19604120685993376
          ],
          [
           0.24554269213246654
          ],
          [
           0.2889150483741392
          ],
          [
           0.14020658087059948
          ],
          [
           0.15725953851719987
          ],
          [
           0.17618023075357342
          ],
          [
           0.22835881615766027
          ],
          [
           0.2772921518401798
          ],
          [
           0.16023838617080957
          ],
          [
           0.32867953058481897
          ],
          [
           0.971260574710057
          ],
          [
           0.2717075465600224
          ],
          [
           0.2849915297384044
          ],
          [
           0.12984457195648882
          ],
          [
           0.4260026928099279
          ],
          [
           0.10229064616368266
          ],
          [
           0.3491570231539252
          ],
          [
           0.18131202076266845
          ],
          [
           0.44858649615504714
          ],
          [
           0.30477686365092366
          ],
          [
           0.18489910584625566
          ],
          [
           0.22685267588823643
          ],
          [
           0.3557390693084926
          ],
          [
           0.23768169368775866
          ],
          [
           0.49392106845604605
          ],
          [
           0.16764386448138266
          ],
          [
           0.30590416052525055
          ],
          [
           0.40181031859300476
          ],
          [
           0.31281933726295513
          ],
          [
           0.15277683991382018
          ],
          [
           0.16429904920818914
          ],
          [
           0.20069104029976167
          ],
          [
           0.14823630991927594
          ],
          [
           0.29070425345600226
          ],
          [
           0.24960310836038616
          ],
          [
           0.3491321425600565
          ],
          [
           0.2438714591913779
          ],
          [
           0.5423974489274878
          ],
          [
           0.25627746850218647
          ],
          [
           0.24357189639971766
          ],
          [
           0.42077180110290524
          ],
          [
           0.12386130995018707
          ],
          [
           0.24392237233553776
          ],
          [
           0.2628349767421942
          ],
          [
           0.17551340586408196
          ],
          [
           0.4425903860509558
          ],
          [
           0.32836231119708664
          ],
          [
           0.29365256965720177
          ],
          [
           0.11334889886859713
          ],
          [
           0.26022822406045926
          ],
          [
           2.662012848412438
          ],
          [
           0.3816349883873932
          ],
          [
           0.23169748980897525
          ],
          [
           0.3453000622012291
          ],
          [
           0.19191990669360814
          ],
          [
           0.2944820814465163
          ],
          [
           0.3456725845986044
          ],
          [
           0.2563508116095476
          ],
          [
           0.3174055002234997
          ],
          [
           0.0918570974674927
          ],
          [
           0.15666125897001637
          ],
          [
           0.16154876047149183
          ],
          [
           0.17164242315906014
          ],
          [
           0.23811054877613416
          ],
          [
           0.31779386754647265
          ],
          [
           0.23920386530923238
          ],
          [
           0.15587489617717154
          ],
          [
           0.3291225732137553
          ],
          [
           0.14952789031500094
          ],
          [
           0.396870291890744
          ],
          [
           0.2636719309781917
          ],
          [
           0.20009319063045683
          ],
          [
           0.15312710152037518
          ],
          [
           0.13074919035378746
          ],
          [
           0.09363630885670336
          ],
          [
           0.061454554125678275
          ],
          [
           0.13626607250034656
          ],
          [
           0.1585761102885842
          ],
          [
           0.21719575323205753
          ],
          [
           0.21219089498952634
          ],
          [
           0.3247157984247666
          ],
          [
           0.43298160855625906
          ],
          [
           0.13676013262327275
          ],
          [
           0.235901276036089
          ],
          [
           0.3318382684919182
          ],
          [
           0.3052733252926271
          ],
          [
           0.1732925218137795
          ],
          [
           0.19840485307856429
          ],
          [
           0.1141603212139497
          ],
          [
           0.23706201161259022
          ],
          [
           0.17762139490566192
          ],
          [
           0.4428325136147326
          ],
          [
           0.14179559933907704
          ],
          [
           0.2915905091769349
          ],
          [
           0.29350966598691375
          ],
          [
           0.11522238007576632
          ],
          [
           0.40000338190551576
          ],
          [
           0.3017705042072139
          ],
          [
           0.1434496925804997
          ],
          [
           0.11192833061747873
          ],
          [
           0.20553846200058554
          ],
          [
           0.41460793934211126
          ],
          [
           0.3485722837773325
          ],
          [
           0.3114416821389707
          ],
          [
           0.28564605224189415
          ],
          [
           0.44615747519358845
          ],
          [
           0.17488830855726106
          ],
          [
           0.41018674355113793
          ],
          [
           0.24430472934405478
          ],
          [
           0.29313252168236564
          ],
          [
           0.2574261711320682
          ],
          [
           0.6504354280259297
          ],
          [
           0.2577455594988103
          ],
          [
           0.29892311076386774
          ],
          [
           0.16895090758638848
          ]
         ],
         "domain": {
          "x": [
           0,
           1
          ],
          "y": [
           0,
           1
          ]
         },
         "hovertemplate": "labels=%{label}<br>value=%{value}<br>parent=%{parent}<br>id=%{id}<br>volatility=%{color}<extra></extra>",
         "ids": [
          "Health Care/A",
          "Industrials/AAL",
          "Consumer Discretionary/AAP",
          "Information Technology/AAPL",
          "Health Care/ABBV",
          "Health Care/ABC",
          "Health Care/ABT",
          "Financials/ACGL",
          "Information Technology/ACN",
          "Information Technology/ADBE",
          "Information Technology/ADI",
          "Consumer Staples/ADM",
          "Industrials/ADP",
          "Information Technology/ADSK",
          "Utilities/AEE",
          "Utilities/AEP",
          "Utilities/AES",
          "Financials/AFL",
          "Financials/AIG",
          "Financials/AIZ",
          "Financials/AJG",
          "Information Technology/AKAM",
          "Materials/ALB",
          "Health Care/ALGN",
          "Industrials/ALK",
          "Financials/ALL",
          "Industrials/ALLE",
          "Information Technology/AMAT",
          "Materials/AMCR",
          "Information Technology/AMD",
          "Industrials/AME",
          "Health Care/AMGN",
          "Financials/AMP",
          "Real Estate/AMT",
          "Consumer Discretionary/AMZN",
          "Information Technology/ANET",
          "Information Technology/ANSS",
          "Financials/AON",
          "Industrials/AOS",
          "Energy/APA",
          "Materials/APD",
          "Information Technology/APH",
          "Consumer Discretionary/APTV",
          "Real Estate/ARE",
          "Utilities/ATO",
          "Communication Services/ATVI",
          "Real Estate/AVB",
          "Information Technology/AVGO",
          "Materials/AVY",
          "Utilities/AWK",
          "Industrials/AXON",
          "Financials/AXP",
          "Consumer Discretionary/AZO",
          "Industrials/BA",
          "Financials/BAC",
          "Materials/BALL",
          "Health Care/BAX",
          "Consumer Discretionary/BBWI",
          "Consumer Discretionary/BBY",
          "Health Care/BDX",
          "Financials/BEN",
          "Consumer Staples/BG",
          "Health Care/BIIB",
          "Health Care/BIO",
          "Financials/BK",
          "Consumer Discretionary/BKNG",
          "Energy/BKR",
          "Financials/BLK",
          "Health Care/BMY",
          "Industrials/BR",
          "Financials/BRO",
          "Health Care/BSX",
          "Consumer Discretionary/BWA",
          "Real Estate/BXP",
          "Financials/C",
          "Consumer Staples/CAG",
          "Health Care/CAH",
          "Industrials/CARR",
          "Industrials/CAT",
          "Financials/CB",
          "Financials/CBOE",
          "Real Estate/CBRE",
          "Real Estate/CCI",
          "Consumer Discretionary/CCL",
          "Information Technology/CDAY",
          "Information Technology/CDNS",
          "Information Technology/CDW",
          "Materials/CE",
          "Utilities/CEG",
          "Materials/CF",
          "Financials/CFG",
          "Consumer Staples/CHD",
          "Industrials/CHRW",
          "Communication Services/CHTR",
          "Health Care/CI",
          "Financials/CINF",
          "Consumer Staples/CL",
          "Consumer Staples/CLX",
          "Financials/CMA",
          "Communication Services/CMCSA",
          "Financials/CME",
          "Consumer Discretionary/CMG",
          "Industrials/CMI",
          "Utilities/CMS",
          "Health Care/CNC",
          "Utilities/CNP",
          "Financials/COF",
          "Health Care/COO",
          "Energy/COP",
          "Consumer Staples/COST",
          "Consumer Staples/CPB",
          "Industrials/CPRT",
          "Real Estate/CPT",
          "Health Care/CRL",
          "Information Technology/CRM",
          "Information Technology/CSCO",
          "Industrials/CSGP",
          "Industrials/CSX",
          "Industrials/CTAS",
          "Health Care/CTLT",
          "Energy/CTRA",
          "Information Technology/CTSH",
          "Materials/CTVA",
          "Health Care/CVS",
          "Energy/CVX",
          "Consumer Discretionary/CZR",
          "Utilities/D",
          "Industrials/DAL",
          "Materials/DD",
          "Industrials/DE",
          "Financials/DFS",
          "Consumer Staples/DG",
          "Health Care/DGX",
          "Consumer Discretionary/DHI",
          "Health Care/DHR",
          "Communication Services/DIS",
          "Communication Services/DISH",
          "Real Estate/DLR",
          "Consumer Staples/DLTR",
          "Industrials/DOV",
          "Materials/DOW",
          "Consumer Discretionary/DPZ",
          "Consumer Discretionary/DRI",
          "Utilities/DTE",
          "Utilities/DUK",
          "Health Care/DVA",
          "Energy/DVN",
          "Information Technology/DXC",
          "Health Care/DXCM",
          "Communication Services/EA",
          "Consumer Discretionary/EBAY",
          "Materials/ECL",
          "Utilities/ED",
          "Industrials/EFX",
          "Utilities/EIX",
          "Consumer Staples/EL",
          "Health Care/ELV",
          "Materials/EMN",
          "Industrials/EMR",
          "Information Technology/ENPH",
          "Energy/EOG",
          "Information Technology/EPAM",
          "Real Estate/EQIX",
          "Real Estate/EQR",
          "Energy/EQT",
          "Utilities/ES",
          "Real Estate/ESS",
          "Industrials/ETN",
          "Utilities/ETR",
          "Consumer Discretionary/ETSY",
          "Utilities/EVRG",
          "Health Care/EW",
          "Utilities/EXC",
          "Industrials/EXPD",
          "Consumer Discretionary/EXPE",
          "Real Estate/EXR",
          "Consumer Discretionary/F",
          "Energy/FANG",
          "Industrials/FAST",
          "Materials/FCX",
          "Financials/FDS",
          "Industrials/FDX",
          "Utilities/FE",
          "Information Technology/FFIV",
          "Information Technology/FICO",
          "Financials/FIS",
          "Financials/FISV",
          "Financials/FITB",
          "Financials/FLT",
          "Materials/FMC",
          "Communication Services/FOX",
          "Communication Services/FOXA",
          "Real Estate/FRT",
          "Information Technology/FSLR",
          "Information Technology/FTNT",
          "Industrials/FTV",
          "Industrials/GD",
          "Industrials/GE",
          "Health Care/GEHC",
          "Information Technology/GEN",
          "Health Care/GILD",
          "Consumer Staples/GIS",
          "Financials/GL",
          "Information Technology/GLW",
          "Consumer Discretionary/GM",
          "Industrials/GNRC",
          "Communication Services/GOOG",
          "Communication Services/GOOGL",
          "Consumer Discretionary/GPC",
          "Financials/GPN",
          "Consumer Discretionary/GRMN",
          "Financials/GS",
          "Industrials/GWW",
          "Energy/HAL",
          "Consumer Discretionary/HAS",
          "Financials/HBAN",
          "Health Care/HCA",
          "Consumer Discretionary/HD",
          "Energy/HES",
          "Financials/HIG",
          "Industrials/HII",
          "Consumer Discretionary/HLT",
          "Health Care/HOLX",
          "Industrials/HON",
          "Information Technology/HPE",
          "Information Technology/HPQ",
          "Consumer Staples/HRL",
          "Health Care/HSIC",
          "Real Estate/HST",
          "Consumer Staples/HSY",
          "Health Care/HUM",
          "Industrials/HWM",
          "Information Technology/IBM",
          "Financials/ICE",
          "Health Care/IDXX",
          "Industrials/IEX",
          "Materials/IFF",
          "Health Care/ILMN",
          "Health Care/INCY",
          "Information Technology/INTC",
          "Information Technology/INTU",
          "Real Estate/INVH",
          "Materials/IP",
          "Communication Services/IPG",
          "Health Care/IQV",
          "Industrials/IR",
          "Real Estate/IRM",
          "Health Care/ISRG",
          "Information Technology/IT",
          "Industrials/ITW",
          "Financials/IVZ",
          "Industrials/J",
          "Industrials/JBHT",
          "Industrials/JCI",
          "Financials/JKHY",
          "Health Care/JNJ",
          "Information Technology/JNPR",
          "Financials/JPM",
          "Consumer Staples/K",
          "Consumer Staples/KDP",
          "Financials/KEY",
          "Information Technology/KEYS",
          "Consumer Staples/KHC",
          "Real Estate/KIM",
          "Information Technology/KLAC",
          "Consumer Staples/KMB",
          "Energy/KMI",
          "Consumer Discretionary/KMX",
          "Consumer Staples/KO",
          "Consumer Staples/KR",
          "Financials/L",
          "Industrials/LDOS",
          "Consumer Discretionary/LEN",
          "Health Care/LH",
          "Industrials/LHX",
          "Materials/LIN",
          "Consumer Discretionary/LKQ",
          "Health Care/LLY",
          "Industrials/LMT",
          "Financials/LNC",
          "Utilities/LNT",
          "Consumer Discretionary/LOW",
          "Information Technology/LRCX",
          "Industrials/LUV",
          "Consumer Discretionary/LVS",
          "Consumer Staples/LW",
          "Materials/LYB",
          "Communication Services/LYV",
          "Financials/MA",
          "Real Estate/MAA",
          "Consumer Discretionary/MAR",
          "Industrials/MAS",
          "Consumer Discretionary/MCD",
          "Information Technology/MCHP",
          "Health Care/MCK",
          "Financials/MCO",
          "Consumer Staples/MDLZ",
          "Health Care/MDT",
          "Financials/MET",
          "Communication Services/META",
          "Consumer Discretionary/MGM",
          "Consumer Discretionary/MHK",
          "Consumer Staples/MKC",
          "Financials/MKTX",
          "Materials/MLM",
          "Financials/MMC",
          "Industrials/MMM",
          "Consumer Staples/MNST",
          "Consumer Staples/MO",
          "Health Care/MOH",
          "Materials/MOS",
          "Energy/MPC",
          "Information Technology/MPWR",
          "Health Care/MRK",
          "Health Care/MRNA",
          "Energy/MRO",
          "Financials/MS",
          "Financials/MSCI",
          "Information Technology/MSFT",
          "Information Technology/MSI",
          "Financials/MTB",
          "Communication Services/MTCH",
          "Health Care/MTD",
          "Information Technology/MU",
          "Consumer Discretionary/NCLH",
          "Financials/NDAQ",
          "Industrials/NDSN",
          "Utilities/NEE",
          "Materials/NEM",
          "Communication Services/NFLX",
          "Utilities/NI",
          "Consumer Discretionary/NKE",
          "Industrials/NOC",
          "Information Technology/NOW",
          "Utilities/NRG",
          "Industrials/NSC",
          "Information Technology/NTAP",
          "Financials/NTRS",
          "Materials/NUE",
          "Information Technology/NVDA",
          "Consumer Discretionary/NVR",
          "Consumer Discretionary/NWL",
          "Communication Services/NWS",
          "Communication Services/NWSA",
          "Information Technology/NXPI",
          "Real Estate/O",
          "Industrials/ODFL",
          "Health Care/OGN",
          "Energy/OKE",
          "Communication Services/OMC",
          "Information Technology/ON",
          "Information Technology/ORCL",
          "Consumer Discretionary/ORLY",
          "Industrials/OTIS",
          "Energy/OXY",
          "Communication Services/PARA",
          "Information Technology/PAYC",
          "Industrials/PAYX",
          "Industrials/PCAR",
          "Utilities/PCG",
          "Real Estate/PEAK",
          "Utilities/PEG",
          "Consumer Staples/PEP",
          "Health Care/PFE",
          "Financials/PFG",
          "Consumer Staples/PG",
          "Financials/PGR",
          "Industrials/PH",
          "Consumer Discretionary/PHM",
          "Materials/PKG",
          "Health Care/PKI",
          "Real Estate/PLD",
          "Consumer Staples/PM",
          "Financials/PNC",
          "Industrials/PNR",
          "Utilities/PNW",
          "Health Care/PODD",
          "Consumer Discretionary/POOL",
          "Materials/PPG",
          "Utilities/PPL",
          "Financials/PRU",
          "Real Estate/PSA",
          "Energy/PSX",
          "Information Technology/PTC",
          "Industrials/PWR",
          "Energy/PXD",
          "Financials/PYPL",
          "Information Technology/QCOM",
          "Information Technology/QRVO",
          "Consumer Discretionary/RCL",
          "Financials/RE",
          "Real Estate/REG",
          "Health Care/REGN",
          "Financials/RF",
          "Industrials/RHI",
          "Financials/RJF",
          "Consumer Discretionary/RL",
          "Health Care/RMD",
          "Industrials/ROK",
          "Industrials/ROL",
          "Information Technology/ROP",
          "Consumer Discretionary/ROST",
          "Industrials/RSG",
          "Industrials/RTX",
          "Real Estate/SBAC",
          "Consumer Discretionary/SBUX",
          "Financials/SCHW",
          "Information Technology/SEDG",
          "Materials/SEE",
          "Materials/SHW",
          "Consumer Staples/SJM",
          "Energy/SLB",
          "Industrials/SNA",
          "Information Technology/SNPS",
          "Utilities/SO",
          "Real Estate/SPG",
          "Financials/SPGI",
          "Utilities/SRE",
          "Health Care/STE",
          "Materials/STLD",
          "Financials/STT",
          "Information Technology/STX",
          "Consumer Staples/STZ",
          "Industrials/SWK",
          "Information Technology/SWKS",
          "Financials/SYF",
          "Health Care/SYK",
          "Consumer Staples/SYY",
          "Communication Services/T",
          "Consumer Staples/TAP",
          "Industrials/TDG",
          "Information Technology/TDY",
          "Health Care/TECH",
          "Information Technology/TEL",
          "Information Technology/TER",
          "Financials/TFC",
          "Health Care/TFX",
          "Consumer Staples/TGT",
          "Consumer Discretionary/TJX",
          "Health Care/TMO",
          "Communication Services/TMUS",
          "Consumer Discretionary/TPR",
          "Energy/TRGP",
          "Information Technology/TRMB",
          "Financials/TROW",
          "Financials/TRV",
          "Consumer Discretionary/TSCO",
          "Consumer Discretionary/TSLA",
          "Consumer Staples/TSN",
          "Industrials/TT",
          "Communication Services/TTWO",
          "Information Technology/TXN",
          "Industrials/TXT",
          "Information Technology/TYL",
          "Industrials/UAL",
          "Real Estate/UDR",
          "Health Care/UHS",
          "Consumer Discretionary/ULTA",
          "Health Care/UNH",
          "Industrials/UNP",
          "Industrials/UPS",
          "Industrials/URI",
          "Financials/USB",
          "Financials/V",
          "Consumer Discretionary/VFC",
          "Real Estate/VICI",
          "Energy/VLO",
          "Materials/VMC",
          "Industrials/VRSK",
          "Information Technology/VRSN",
          "Health Care/VRTX",
          "Real Estate/VTR",
          "Health Care/VTRS",
          "Communication Services/VZ",
          "Industrials/WAB",
          "Health Care/WAT",
          "Consumer Staples/WBA",
          "Communication Services/WBD",
          "Information Technology/WDC",
          "Utilities/WEC",
          "Real Estate/WELL",
          "Financials/WFC",
          "Consumer Discretionary/WHR",
          "Industrials/WM",
          "Energy/WMB",
          "Consumer Staples/WMT",
          "Financials/WRB",
          "Materials/WRK",
          "Health Care/WST",
          "Financials/WTW",
          "Real Estate/WY",
          "Consumer Discretionary/WYNN",
          "Utilities/XEL",
          "Energy/XOM",
          "Health Care/XRAY",
          "Industrials/XYL",
          "Consumer Discretionary/YUM",
          "Health Care/ZBH",
          "Information Technology/ZBRA",
          "Financials/ZION",
          "Health Care/ZTS",
          "Communication Services",
          "Consumer Discretionary",
          "Consumer Staples",
          "Energy",
          "Financials",
          "Health Care",
          "Industrials",
          "Information Technology",
          "Materials",
          "Real Estate",
          "Utilities"
         ],
         "labels": [
          "A",
          "AAL",
          "AAP",
          "AAPL",
          "ABBV",
          "ABC",
          "ABT",
          "ACGL",
          "ACN",
          "ADBE",
          "ADI",
          "ADM",
          "ADP",
          "ADSK",
          "AEE",
          "AEP",
          "AES",
          "AFL",
          "AIG",
          "AIZ",
          "AJG",
          "AKAM",
          "ALB",
          "ALGN",
          "ALK",
          "ALL",
          "ALLE",
          "AMAT",
          "AMCR",
          "AMD",
          "AME",
          "AMGN",
          "AMP",
          "AMT",
          "AMZN",
          "ANET",
          "ANSS",
          "AON",
          "AOS",
          "APA",
          "APD",
          "APH",
          "APTV",
          "ARE",
          "ATO",
          "ATVI",
          "AVB",
          "AVGO",
          "AVY",
          "AWK",
          "AXON",
          "AXP",
          "AZO",
          "BA",
          "BAC",
          "BALL",
          "BAX",
          "BBWI",
          "BBY",
          "BDX",
          "BEN",
          "BG",
          "BIIB",
          "BIO",
          "BK",
          "BKNG",
          "BKR",
          "BLK",
          "BMY",
          "BR",
          "BRO",
          "BSX",
          "BWA",
          "BXP",
          "C",
          "CAG",
          "CAH",
          "CARR",
          "CAT",
          "CB",
          "CBOE",
          "CBRE",
          "CCI",
          "CCL",
          "CDAY",
          "CDNS",
          "CDW",
          "CE",
          "CEG",
          "CF",
          "CFG",
          "CHD",
          "CHRW",
          "CHTR",
          "CI",
          "CINF",
          "CL",
          "CLX",
          "CMA",
          "CMCSA",
          "CME",
          "CMG",
          "CMI",
          "CMS",
          "CNC",
          "CNP",
          "COF",
          "COO",
          "COP",
          "COST",
          "CPB",
          "CPRT",
          "CPT",
          "CRL",
          "CRM",
          "CSCO",
          "CSGP",
          "CSX",
          "CTAS",
          "CTLT",
          "CTRA",
          "CTSH",
          "CTVA",
          "CVS",
          "CVX",
          "CZR",
          "D",
          "DAL",
          "DD",
          "DE",
          "DFS",
          "DG",
          "DGX",
          "DHI",
          "DHR",
          "DIS",
          "DISH",
          "DLR",
          "DLTR",
          "DOV",
          "DOW",
          "DPZ",
          "DRI",
          "DTE",
          "DUK",
          "DVA",
          "DVN",
          "DXC",
          "DXCM",
          "EA",
          "EBAY",
          "ECL",
          "ED",
          "EFX",
          "EIX",
          "EL",
          "ELV",
          "EMN",
          "EMR",
          "ENPH",
          "EOG",
          "EPAM",
          "EQIX",
          "EQR",
          "EQT",
          "ES",
          "ESS",
          "ETN",
          "ETR",
          "ETSY",
          "EVRG",
          "EW",
          "EXC",
          "EXPD",
          "EXPE",
          "EXR",
          "F",
          "FANG",
          "FAST",
          "FCX",
          "FDS",
          "FDX",
          "FE",
          "FFIV",
          "FICO",
          "FIS",
          "FISV",
          "FITB",
          "FLT",
          "FMC",
          "FOX",
          "FOXA",
          "FRT",
          "FSLR",
          "FTNT",
          "FTV",
          "GD",
          "GE",
          "GEHC",
          "GEN",
          "GILD",
          "GIS",
          "GL",
          "GLW",
          "GM",
          "GNRC",
          "GOOG",
          "GOOGL",
          "GPC",
          "GPN",
          "GRMN",
          "GS",
          "GWW",
          "HAL",
          "HAS",
          "HBAN",
          "HCA",
          "HD",
          "HES",
          "HIG",
          "HII",
          "HLT",
          "HOLX",
          "HON",
          "HPE",
          "HPQ",
          "HRL",
          "HSIC",
          "HST",
          "HSY",
          "HUM",
          "HWM",
          "IBM",
          "ICE",
          "IDXX",
          "IEX",
          "IFF",
          "ILMN",
          "INCY",
          "INTC",
          "INTU",
          "INVH",
          "IP",
          "IPG",
          "IQV",
          "IR",
          "IRM",
          "ISRG",
          "IT",
          "ITW",
          "IVZ",
          "J",
          "JBHT",
          "JCI",
          "JKHY",
          "JNJ",
          "JNPR",
          "JPM",
          "K",
          "KDP",
          "KEY",
          "KEYS",
          "KHC",
          "KIM",
          "KLAC",
          "KMB",
          "KMI",
          "KMX",
          "KO",
          "KR",
          "L",
          "LDOS",
          "LEN",
          "LH",
          "LHX",
          "LIN",
          "LKQ",
          "LLY",
          "LMT",
          "LNC",
          "LNT",
          "LOW",
          "LRCX",
          "LUV",
          "LVS",
          "LW",
          "LYB",
          "LYV",
          "MA",
          "MAA",
          "MAR",
          "MAS",
          "MCD",
          "MCHP",
          "MCK",
          "MCO",
          "MDLZ",
          "MDT",
          "MET",
          "META",
          "MGM",
          "MHK",
          "MKC",
          "MKTX",
          "MLM",
          "MMC",
          "MMM",
          "MNST",
          "MO",
          "MOH",
          "MOS",
          "MPC",
          "MPWR",
          "MRK",
          "MRNA",
          "MRO",
          "MS",
          "MSCI",
          "MSFT",
          "MSI",
          "MTB",
          "MTCH",
          "MTD",
          "MU",
          "NCLH",
          "NDAQ",
          "NDSN",
          "NEE",
          "NEM",
          "NFLX",
          "NI",
          "NKE",
          "NOC",
          "NOW",
          "NRG",
          "NSC",
          "NTAP",
          "NTRS",
          "NUE",
          "NVDA",
          "NVR",
          "NWL",
          "NWS",
          "NWSA",
          "NXPI",
          "O",
          "ODFL",
          "OGN",
          "OKE",
          "OMC",
          "ON",
          "ORCL",
          "ORLY",
          "OTIS",
          "OXY",
          "PARA",
          "PAYC",
          "PAYX",
          "PCAR",
          "PCG",
          "PEAK",
          "PEG",
          "PEP",
          "PFE",
          "PFG",
          "PG",
          "PGR",
          "PH",
          "PHM",
          "PKG",
          "PKI",
          "PLD",
          "PM",
          "PNC",
          "PNR",
          "PNW",
          "PODD",
          "POOL",
          "PPG",
          "PPL",
          "PRU",
          "PSA",
          "PSX",
          "PTC",
          "PWR",
          "PXD",
          "PYPL",
          "QCOM",
          "QRVO",
          "RCL",
          "RE",
          "REG",
          "REGN",
          "RF",
          "RHI",
          "RJF",
          "RL",
          "RMD",
          "ROK",
          "ROL",
          "ROP",
          "ROST",
          "RSG",
          "RTX",
          "SBAC",
          "SBUX",
          "SCHW",
          "SEDG",
          "SEE",
          "SHW",
          "SJM",
          "SLB",
          "SNA",
          "SNPS",
          "SO",
          "SPG",
          "SPGI",
          "SRE",
          "STE",
          "STLD",
          "STT",
          "STX",
          "STZ",
          "SWK",
          "SWKS",
          "SYF",
          "SYK",
          "SYY",
          "T",
          "TAP",
          "TDG",
          "TDY",
          "TECH",
          "TEL",
          "TER",
          "TFC",
          "TFX",
          "TGT",
          "TJX",
          "TMO",
          "TMUS",
          "TPR",
          "TRGP",
          "TRMB",
          "TROW",
          "TRV",
          "TSCO",
          "TSLA",
          "TSN",
          "TT",
          "TTWO",
          "TXN",
          "TXT",
          "TYL",
          "UAL",
          "UDR",
          "UHS",
          "ULTA",
          "UNH",
          "UNP",
          "UPS",
          "URI",
          "USB",
          "V",
          "VFC",
          "VICI",
          "VLO",
          "VMC",
          "VRSK",
          "VRSN",
          "VRTX",
          "VTR",
          "VTRS",
          "VZ",
          "WAB",
          "WAT",
          "WBA",
          "WBD",
          "WDC",
          "WEC",
          "WELL",
          "WFC",
          "WHR",
          "WM",
          "WMB",
          "WMT",
          "WRB",
          "WRK",
          "WST",
          "WTW",
          "WY",
          "WYNN",
          "XEL",
          "XOM",
          "XRAY",
          "XYL",
          "YUM",
          "ZBH",
          "ZBRA",
          "ZION",
          "ZTS",
          "Communication Services",
          "Consumer Discretionary",
          "Consumer Staples",
          "Energy",
          "Financials",
          "Health Care",
          "Industrials",
          "Information Technology",
          "Materials",
          "Real Estate",
          "Utilities"
         ],
         "marker": {
          "coloraxis": "coloraxis",
          "colors": [
           0.20010025804875525,
           0.2236749535283802,
           0.3057239340451148,
           0.4305756590044747,
           0.16065825010010748,
           0.16334029691812618,
           0.18166218663518535,
           0.2603722467168518,
           0.3362142016498956,
           0.307656289815578,
           0.16455156052811196,
           0.20365637892417554,
           0.20144163948487936,
           0.32025168108477675,
           0.08733704334346594,
           0.13395577917710375,
           0.19204367218976015,
           0.18348821180192962,
           0.3094397945975291,
           0.2041698206232608,
           0.13017797487101312,
           0.2481020200256519,
           0.4717115525659019,
           0.49727665106764335,
           0.13445008509395698,
           0.19520856705285816,
           0.23110306949818354,
           0.5023926427423733,
           0.12942292176860523,
           0.6070911832734033,
           0.1900724726769362,
           0.14115197242648794,
           0.31629481899780326,
           0.2547546627925668,
           0.36482303342937356,
           0.41970048179391384,
           0.38160819089440795,
           0.20247858703851718,
           0.3197886869463007,
           0.49323643931877553,
           0.17920916033894657,
           0.19759548614682543,
           0.36469298050221366,
           0.28192574475738846,
           0.11740095638871649,
           0.3167934475013479,
           0.32631214670479014,
           0.23873705413762092,
           0.2602501541941482,
           0.20039128392178357,
           0.2404199049610914,
           0.191036837764206,
           0.25222341959071753,
           0.1324681504712003,
           0.3122275358378782,
           0.3105351409843832,
           0.20881760546774011,
           0.6805050330943784,
           0.31635919008686947,
           0.09808050657436551,
           0.1976708629159467,
           0.20529574017497557,
           0.11148530103987313,
           0.36776196996836785,
           0.21678029923399394,
           0.1878684778652851,
           0.2290327331334703,
           0.277704788479421,
           0.11443724021760968,
           0.20565390430758895,
           0.24330356505860304,
           0.16198059867834136,
           0.1957504324966548,
           0.2786692424761689,
           0.27311615653716376,
           0.319295912896791,
           0.20164070683910054,
           0.9359327525779684,
           0.15023594246107017,
           0.14861917761202265,
           0.20559361928534203,
           0.3952694697543594,
           0.25954118860679354,
           0.307863166651472,
           0.4487035871543533,
           0.3390072345283192,
           0.37432928931566584,
           0.26946587233028996,
           0.5669418578060347,
           0.3325074874806616,
           0.2873391107436844,
           0.18315633209598223,
           0.13329613118113065,
           0.3541842298677608,
           0.19676385975591673,
           0.21542261819303812,
           0.12135576847336393,
           0.202197457143727,
           0.3453385435846033,
           0.19188951813892177,
           0.1746280149459874,
           0.35726169812412045,
           0.17303999295661962,
           0.12195057955266547,
           0.14622596991191242,
           0.1526787396305385,
           0.29569866256391786,
           0.15343454295356435,
           0.45093448687015164,
           0.24407530946481076,
           0.2654077046844471,
           0.35059789725525287,
           0.3862746172573302,
           0.3607178206696405,
           0.2918571967633723,
           0.2181241797062518,
           0.3506116201901732,
           0.15682899444353976,
           0.22431539516177545,
           0.5305122680235519,
           0.19612448863439805,
           0.2197301974676223,
           0.13933858597954257,
           0.236617888320069,
           0.30284326191059197,
           0.3592731742106997,
           0.14334285743233124,
           0.1650674778236264,
           0.1379328872558093,
           0.19715586446522218,
           0.2314709638705836,
           0.18993179691281734,
           0.22951388173204723,
           0.3135867904001797,
           0.27885938877519356,
           0.2583761052157362,
           0.3225931789488325,
           0.24550045312880303,
           0.11461993916232421,
           0.30290143385391544,
           0.07374790497926992,
           0.28221181759554953,
           0.10807833534796633,
           0.11062459249184547,
           0.08372473843609053,
           0.33264017076284963,
           0.786771666994983,
           0.20331148483037131,
           0.35689010600790544,
           0.2469311215046153,
           0.2904138322341406,
           0.21637543638228632,
           0.1462452680088836,
           0.33989782267507546,
           0.16872549163191441,
           0.3363165108847086,
           0.166947758426655,
           0.24451446582087208,
           0.1607909722191998,
           2.19473583138063,
           0.4498032564294843,
           0.5432845201010522,
           0.2919958434077476,
           0.31749014499642814,
           0.4056985418821507,
           0.14691395436767055,
           0.3122901812751545,
           0.22014593636191745,
           0.19063285224204463,
           1.122375919003947,
           0.14530881498319753,
           0.31222473552366836,
           0.16014851151918907,
           0.1974223317622814,
           0.2763784219986779,
           0.43995621563522114,
           0.6202442945587238,
           0.5542686291263249,
           0.23629719363821167,
           0.4332100976301325,
           0.22185800563391075,
           0.3589363354692794,
           0.26550614523338556,
           0.2618252331076684,
           0.35911715882412765,
           0.24828543658609015,
           0.23399496121205235,
           0.3440413825074665,
           0.25567791490436736,
           0.23456274798536073,
           0.15610834517006134,
           0.18426392277697454,
           0.331120111108601,
           0.40048064300794706,
           0.5230360175715193,
           0.09894940539403674,
           0.24001939445117468,
           0.341210843306293,
           0.22519641149611697,
           0.3029969355474463,
           0.13380168342953574,
           0.15870316764005787,
           0.201696043397541,
           0.11509268876761035,
           0.268846488246671,
           0.6382274048563064,
           0.3229538449409028,
           0.32397430531244154,
           0.16552871457519225,
           0.37785035904778164,
           0.26282229722675315,
           0.26548432681302764,
           0.11143693167076614,
           0.3704279822743844,
           0.2242136017604749,
           0.21707277531502,
           0.19256250077655024,
           0.2740179332159534,
           0.4308401749912755,
           0.25931677847045226,
           0.234050638875217,
           0.2800147914692291,
           0.14769268827613422,
           0.15136358525255522,
           0.23447109645899553,
           0.2685228921016496,
           0.10406061985854424,
           0.06177002825067997,
           0.15546579023304122,
           0.10592869239186997,
           0.09283835810573791,
           0.245558513120298,
           0.1476608029895677,
           0.1694869366579186,
           0.3952255458425057,
           0.17051207572622382,
           0.23255521616743424,
           0.21713782969643522,
           0.17571758194275713,
           0.2532164929380047,
           0.3516294529570696,
           0.34166517069655866,
           0.15952126002911568,
           0.2609634196227872,
           0.27592578676329205,
           0.35738628582342447,
           0.33027741399678445,
           0.21848658516734135,
           0.40882081283974353,
           0.19195743916280805,
           0.24928382882378455,
           0.23267188218023283,
           0.2479866920653661,
           0.34655466471860147,
           0.08781181874389615,
           0.07873744215746988,
           0.255443449797955,
           0.21804608320803265,
           0.10984504181774275,
           0.1353442456165796,
           0.3446618374800917,
           0.32192078943484265,
           0.16827655367488306,
           0.3615514323275313,
           0.43191377563885935,
           0.09089325419838498,
           0.23068047125994584,
           0.3099228969469313,
           0.07059283402450689,
           0.13509565154337558,
           0.15640507423803832,
           0.3801568788792646,
           0.31333665816907025,
           0.28932063856174944,
           0.2168412570599362,
           0.15629360357434718,
           0.3399701136892845,
           0.18265974625562226,
           0.25381849688290087,
           0.3235449195323481,
           0.1612605836890652,
           0.26623881247572306,
           0.5374275899795787,
           0.12119620465992083,
           0.278266733326268,
           0.19140694677472597,
           0.11227843233448702,
           0.36122123103614623,
           0.212816714494216,
           0.394764403111491,
           0.23976122535838082,
           0.3243043786893204,
           0.09058425257935264,
           0.2520239137581955,
           0.2620843731311055,
           0.3213670414982998,
           0.12436401079912111,
           0.17939516475801018,
           0.2111019886633204,
           0.5042642912236165,
           0.29872618158740727,
           0.2941059124526441,
           0.15568066582661022,
           0.4022922420197873,
           0.34083448456354126,
           0.22225935259742213,
           0.11860825130101282,
           0.17486281382584637,
           0.11167825393741314,
           0.23752991987840222,
           0.2769935474796925,
           0.4167946164626291,
           0.4272797189650055,
           0.1982063470550914,
           1.6751443294615134,
           0.6597991304895476,
           0.2607734732113029,
           0.3761946802671209,
           0.2991264151261331,
           0.23449372970251378,
           0.19446443192548016,
           0.5684410729345356,
           0.24354558949166097,
           0.3928485993856658,
           0.33048425009967425,
           0.2703115414092344,
           0.20054627756207075,
           0.20555131248621425,
           0.2210586477534623,
           0.3523675180102373,
           0.12176076704071417,
           0.22915771620152858,
           0.2884223946560279,
           0.406781916209988,
           0.14484842125899783,
           0.20129362339956186,
           0.23827046528007012,
           0.23595148985932984,
           0.4464701115416797,
           0.7325501269310123,
           0.3033560103179482,
           0.21343496782965216,
           0.22753036752186045,
           0.23092918554020458,
           0.3593558785590036,
           0.16160078997135538,
           0.38100736359662796,
           0.027337056923783357,
           0.37099839410491653,
           0.13686036155345058,
           0.43450139022438466,
           0.14814641139030885,
           0.16634630840793813,
           0.22425388726171352,
           0.5659260384290763,
           0.23904689932195797,
           0.4995546379432122,
           0.23184762526823002,
           0.15124331650023717,
           0.3227863565050584,
           0.23297108201967623,
           0.10161722204762039,
           0.07988865457666258,
           0.29730694746419123,
           0.2693769976738279,
           0.15148240901442417,
           0.15346627950999042,
           0.1870715596152258,
           0.273080044033957,
           0.20294620493871174,
           0.25623919432413295,
           0.37597668999869666,
           0.16154079003065777,
           0.2707412579954135,
           0.2696259331044903,
           0.084276617324322,
           0.47708466286034923,
           0.3994328939390206,
           0.1873804427646781,
           0.15664706951530416,
           0.23826836843244958,
           0.28996320082708477,
           0.2761893783440987,
           0.2212604202232246,
           0.303247004888065,
           0.34175695471890916,
           0.5320267886952175,
           0.3770713874489454,
           0.4419072870025043,
           0.3307675651314773,
           0.1597095669543293,
           0.3247511103332401,
           0.11236099582043685,
           0.25274901891345686,
           0.36497285641053384,
           0.2751831619362324,
           0.1147717198070827,
           0.19604120685993376,
           0.24554269213246654,
           0.2889150483741392,
           0.14020658087059948,
           0.15725953851719987,
           0.17618023075357342,
           0.22835881615766027,
           0.2772921518401798,
           0.16023838617080957,
           0.32867953058481897,
           0.971260574710057,
           0.2717075465600224,
           0.2849915297384044,
           0.12984457195648882,
           0.4260026928099279,
           0.10229064616368266,
           0.3491570231539252,
           0.18131202076266845,
           0.44858649615504714,
           0.30477686365092366,
           0.18489910584625566,
           0.22685267588823643,
           0.3557390693084926,
           0.23768169368775866,
           0.49392106845604605,
           0.16764386448138266,
           0.30590416052525055,
           0.40181031859300476,
           0.31281933726295513,
           0.15277683991382018,
           0.16429904920818914,
           0.20069104029976167,
           0.14823630991927594,
           0.29070425345600226,
           0.24960310836038616,
           0.3491321425600565,
           0.2438714591913779,
           0.5423974489274878,
           0.25627746850218647,
           0.24357189639971766,
           0.42077180110290524,
           0.12386130995018707,
           0.24392237233553776,
           0.2628349767421942,
           0.17551340586408196,
           0.4425903860509558,
           0.32836231119708664,
           0.29365256965720177,
           0.11334889886859713,
           0.26022822406045926,
           2.662012848412438,
           0.3816349883873932,
           0.23169748980897525,
           0.3453000622012291,
           0.19191990669360814,
           0.2944820814465163,
           0.3456725845986044,
           0.2563508116095476,
           0.3174055002234997,
           0.0918570974674927,
           0.15666125897001637,
           0.16154876047149183,
           0.17164242315906014,
           0.23811054877613416,
           0.31779386754647265,
           0.23920386530923238,
           0.15587489617717154,
           0.3291225732137553,
           0.14952789031500094,
           0.396870291890744,
           0.2636719309781917,
           0.20009319063045683,
           0.15312710152037518,
           0.13074919035378746,
           0.09363630885670336,
           0.061454554125678275,
           0.13626607250034656,
           0.1585761102885842,
           0.21719575323205753,
           0.21219089498952634,
           0.3247157984247666,
           0.43298160855625906,
           0.13676013262327275,
           0.235901276036089,
           0.3318382684919182,
           0.3052733252926271,
           0.1732925218137795,
           0.19840485307856429,
           0.1141603212139497,
           0.23706201161259022,
           0.17762139490566192,
           0.4428325136147326,
           0.14179559933907704,
           0.2915905091769349,
           0.29350966598691375,
           0.11522238007576632,
           0.40000338190551576,
           0.3017705042072139,
           0.1434496925804997,
           0.11192833061747873,
           0.20553846200058554,
           0.41460793934211126,
           0.3485722837773325,
           0.3114416821389707,
           0.28564605224189415,
           0.44615747519358845,
           0.17488830855726106,
           0.41018674355113793,
           0.24430472934405478,
           0.29313252168236564,
           0.2574261711320682,
           0.6504354280259297,
           0.2577455594988103,
           0.29892311076386774,
           0.16895090758638848
          ]
         },
         "name": "",
         "parents": [
          "Health Care",
          "Industrials",
          "Consumer Discretionary",
          "Information Technology",
          "Health Care",
          "Health Care",
          "Health Care",
          "Financials",
          "Information Technology",
          "Information Technology",
          "Information Technology",
          "Consumer Staples",
          "Industrials",
          "Information Technology",
          "Utilities",
          "Utilities",
          "Utilities",
          "Financials",
          "Financials",
          "Financials",
          "Financials",
          "Information Technology",
          "Materials",
          "Health Care",
          "Industrials",
          "Financials",
          "Industrials",
          "Information Technology",
          "Materials",
          "Information Technology",
          "Industrials",
          "Health Care",
          "Financials",
          "Real Estate",
          "Consumer Discretionary",
          "Information Technology",
          "Information Technology",
          "Financials",
          "Industrials",
          "Energy",
          "Materials",
          "Information Technology",
          "Consumer Discretionary",
          "Real Estate",
          "Utilities",
          "Communication Services",
          "Real Estate",
          "Information Technology",
          "Materials",
          "Utilities",
          "Industrials",
          "Financials",
          "Consumer Discretionary",
          "Industrials",
          "Financials",
          "Materials",
          "Health Care",
          "Consumer Discretionary",
          "Consumer Discretionary",
          "Health Care",
          "Financials",
          "Consumer Staples",
          "Health Care",
          "Health Care",
          "Financials",
          "Consumer Discretionary",
          "Energy",
          "Financials",
          "Health Care",
          "Industrials",
          "Financials",
          "Health Care",
          "Consumer Discretionary",
          "Real Estate",
          "Financials",
          "Consumer Staples",
          "Health Care",
          "Industrials",
          "Industrials",
          "Financials",
          "Financials",
          "Real Estate",
          "Real Estate",
          "Consumer Discretionary",
          "Information Technology",
          "Information Technology",
          "Information Technology",
          "Materials",
          "Utilities",
          "Materials",
          "Financials",
          "Consumer Staples",
          "Industrials",
          "Communication Services",
          "Health Care",
          "Financials",
          "Consumer Staples",
          "Consumer Staples",
          "Financials",
          "Communication Services",
          "Financials",
          "Consumer Discretionary",
          "Industrials",
          "Utilities",
          "Health Care",
          "Utilities",
          "Financials",
          "Health Care",
          "Energy",
          "Consumer Staples",
          "Consumer Staples",
          "Industrials",
          "Real Estate",
          "Health Care",
          "Information Technology",
          "Information Technology",
          "Industrials",
          "Industrials",
          "Industrials",
          "Health Care",
          "Energy",
          "Information Technology",
          "Materials",
          "Health Care",
          "Energy",
          "Consumer Discretionary",
          "Utilities",
          "Industrials",
          "Materials",
          "Industrials",
          "Financials",
          "Consumer Staples",
          "Health Care",
          "Consumer Discretionary",
          "Health Care",
          "Communication Services",
          "Communication Services",
          "Real Estate",
          "Consumer Staples",
          "Industrials",
          "Materials",
          "Consumer Discretionary",
          "Consumer Discretionary",
          "Utilities",
          "Utilities",
          "Health Care",
          "Energy",
          "Information Technology",
          "Health Care",
          "Communication Services",
          "Consumer Discretionary",
          "Materials",
          "Utilities",
          "Industrials",
          "Utilities",
          "Consumer Staples",
          "Health Care",
          "Materials",
          "Industrials",
          "Information Technology",
          "Energy",
          "Information Technology",
          "Real Estate",
          "Real Estate",
          "Energy",
          "Utilities",
          "Real Estate",
          "Industrials",
          "Utilities",
          "Consumer Discretionary",
          "Utilities",
          "Health Care",
          "Utilities",
          "Industrials",
          "Consumer Discretionary",
          "Real Estate",
          "Consumer Discretionary",
          "Energy",
          "Industrials",
          "Materials",
          "Financials",
          "Industrials",
          "Utilities",
          "Information Technology",
          "Information Technology",
          "Financials",
          "Financials",
          "Financials",
          "Financials",
          "Materials",
          "Communication Services",
          "Communication Services",
          "Real Estate",
          "Information Technology",
          "Information Technology",
          "Industrials",
          "Industrials",
          "Industrials",
          "Health Care",
          "Information Technology",
          "Health Care",
          "Consumer Staples",
          "Financials",
          "Information Technology",
          "Consumer Discretionary",
          "Industrials",
          "Communication Services",
          "Communication Services",
          "Consumer Discretionary",
          "Financials",
          "Consumer Discretionary",
          "Financials",
          "Industrials",
          "Energy",
          "Consumer Discretionary",
          "Financials",
          "Health Care",
          "Consumer Discretionary",
          "Energy",
          "Financials",
          "Industrials",
          "Consumer Discretionary",
          "Health Care",
          "Industrials",
          "Information Technology",
          "Information Technology",
          "Consumer Staples",
          "Health Care",
          "Real Estate",
          "Consumer Staples",
          "Health Care",
          "Industrials",
          "Information Technology",
          "Financials",
          "Health Care",
          "Industrials",
          "Materials",
          "Health Care",
          "Health Care",
          "Information Technology",
          "Information Technology",
          "Real Estate",
          "Materials",
          "Communication Services",
          "Health Care",
          "Industrials",
          "Real Estate",
          "Health Care",
          "Information Technology",
          "Industrials",
          "Financials",
          "Industrials",
          "Industrials",
          "Industrials",
          "Financials",
          "Health Care",
          "Information Technology",
          "Financials",
          "Consumer Staples",
          "Consumer Staples",
          "Financials",
          "Information Technology",
          "Consumer Staples",
          "Real Estate",
          "Information Technology",
          "Consumer Staples",
          "Energy",
          "Consumer Discretionary",
          "Consumer Staples",
          "Consumer Staples",
          "Financials",
          "Industrials",
          "Consumer Discretionary",
          "Health Care",
          "Industrials",
          "Materials",
          "Consumer Discretionary",
          "Health Care",
          "Industrials",
          "Financials",
          "Utilities",
          "Consumer Discretionary",
          "Information Technology",
          "Industrials",
          "Consumer Discretionary",
          "Consumer Staples",
          "Materials",
          "Communication Services",
          "Financials",
          "Real Estate",
          "Consumer Discretionary",
          "Industrials",
          "Consumer Discretionary",
          "Information Technology",
          "Health Care",
          "Financials",
          "Consumer Staples",
          "Health Care",
          "Financials",
          "Communication Services",
          "Consumer Discretionary",
          "Consumer Discretionary",
          "Consumer Staples",
          "Financials",
          "Materials",
          "Financials",
          "Industrials",
          "Consumer Staples",
          "Consumer Staples",
          "Health Care",
          "Materials",
          "Energy",
          "Information Technology",
          "Health Care",
          "Health Care",
          "Energy",
          "Financials",
          "Financials",
          "Information Technology",
          "Information Technology",
          "Financials",
          "Communication Services",
          "Health Care",
          "Information Technology",
          "Consumer Discretionary",
          "Financials",
          "Industrials",
          "Utilities",
          "Materials",
          "Communication Services",
          "Utilities",
          "Consumer Discretionary",
          "Industrials",
          "Information Technology",
          "Utilities",
          "Industrials",
          "Information Technology",
          "Financials",
          "Materials",
          "Information Technology",
          "Consumer Discretionary",
          "Consumer Discretionary",
          "Communication Services",
          "Communication Services",
          "Information Technology",
          "Real Estate",
          "Industrials",
          "Health Care",
          "Energy",
          "Communication Services",
          "Information Technology",
          "Information Technology",
          "Consumer Discretionary",
          "Industrials",
          "Energy",
          "Communication Services",
          "Information Technology",
          "Industrials",
          "Industrials",
          "Utilities",
          "Real Estate",
          "Utilities",
          "Consumer Staples",
          "Health Care",
          "Financials",
          "Consumer Staples",
          "Financials",
          "Industrials",
          "Consumer Discretionary",
          "Materials",
          "Health Care",
          "Real Estate",
          "Consumer Staples",
          "Financials",
          "Industrials",
          "Utilities",
          "Health Care",
          "Consumer Discretionary",
          "Materials",
          "Utilities",
          "Financials",
          "Real Estate",
          "Energy",
          "Information Technology",
          "Industrials",
          "Energy",
          "Financials",
          "Information Technology",
          "Information Technology",
          "Consumer Discretionary",
          "Financials",
          "Real Estate",
          "Health Care",
          "Financials",
          "Industrials",
          "Financials",
          "Consumer Discretionary",
          "Health Care",
          "Industrials",
          "Industrials",
          "Information Technology",
          "Consumer Discretionary",
          "Industrials",
          "Industrials",
          "Real Estate",
          "Consumer Discretionary",
          "Financials",
          "Information Technology",
          "Materials",
          "Materials",
          "Consumer Staples",
          "Energy",
          "Industrials",
          "Information Technology",
          "Utilities",
          "Real Estate",
          "Financials",
          "Utilities",
          "Health Care",
          "Materials",
          "Financials",
          "Information Technology",
          "Consumer Staples",
          "Industrials",
          "Information Technology",
          "Financials",
          "Health Care",
          "Consumer Staples",
          "Communication Services",
          "Consumer Staples",
          "Industrials",
          "Information Technology",
          "Health Care",
          "Information Technology",
          "Information Technology",
          "Financials",
          "Health Care",
          "Consumer Staples",
          "Consumer Discretionary",
          "Health Care",
          "Communication Services",
          "Consumer Discretionary",
          "Energy",
          "Information Technology",
          "Financials",
          "Financials",
          "Consumer Discretionary",
          "Consumer Discretionary",
          "Consumer Staples",
          "Industrials",
          "Communication Services",
          "Information Technology",
          "Industrials",
          "Information Technology",
          "Industrials",
          "Real Estate",
          "Health Care",
          "Consumer Discretionary",
          "Health Care",
          "Industrials",
          "Industrials",
          "Industrials",
          "Financials",
          "Financials",
          "Consumer Discretionary",
          "Real Estate",
          "Energy",
          "Materials",
          "Industrials",
          "Information Technology",
          "Health Care",
          "Real Estate",
          "Health Care",
          "Communication Services",
          "Industrials",
          "Health Care",
          "Consumer Staples",
          "Communication Services",
          "Information Technology",
          "Utilities",
          "Real Estate",
          "Financials",
          "Consumer Discretionary",
          "Industrials",
          "Energy",
          "Consumer Staples",
          "Financials",
          "Materials",
          "Health Care",
          "Financials",
          "Real Estate",
          "Consumer Discretionary",
          "Utilities",
          "Energy",
          "Health Care",
          "Industrials",
          "Consumer Discretionary",
          "Health Care",
          "Information Technology",
          "Financials",
          "Health Care",
          "",
          "",
          "",
          "",
          "",
          "",
          "",
          "",
          "",
          "",
          ""
         ],
         "type": "sunburst",
         "values": [
          0.08646627554243327,
          0.0347256337291111,
          0.058925869252552575,
          0.13747639208466916,
          0.08101199297724755,
          0.08827069588602715,
          0.08556996418490365,
          0.10994990648192575,
          0.08245985815011957,
          0.0692281680643809,
          0.090679764524061,
          0.08334745298244997,
          0.08146214273819317,
          0.0685624650073223,
          0.0762266099694175,
          0.0713015575116245,
          0.08745600305663416,
          0.0754823902601812,
          0.05782632709755792,
          0.07450300875107203,
          0.12247124284942404,
          0.05671666637990061,
          0.07953224366697495,
          0.058813215091305354,
          0.04670757724057663,
          0.06395131616961015,
          0.07008172725638594,
          0.09305172738407079,
          0.060860024450597364,
          0.23385187651935693,
          0.0858629652037804,
          0.07187000732411117,
          0.0958382715954437,
          0.07071689608518883,
          0.06331870838800695,
          0.08730495746093164,
          0.08002174201361231,
          0.09577637041861922,
          0.06092048839991689,
          0.05321364268870597,
          0.08482744655456666,
          0.07931389351198694,
          0.05713229746899696,
          0.05686757389808553,
          0.06726492633688494,
          0.057412222339330105,
          0.06268749164824197,
          0.11735458384328479,
          0.07721980750332684,
          0.08067786973639525,
          0.17075808693137873,
          0.07406825437553503,
          0.14733184619310902,
          0.043163212988133276,
          0.056072566206816186,
          0.06738331294282596,
          0.04588179881523511,
          0.06825931107709092,
          0.058288947424493344,
          0.06292450028117046,
          0.052218273255082194,
          0.07026154525539151,
          0.059093677778482095,
          0.07890775043602273,
          0.04998219286011684,
          0.06065015834770748,
          0.05156888803146494,
          0.06632568913535922,
          0.06989834422584645,
          0.07110373707338753,
          0.0976187241080646,
          0.07709786668357763,
          0.05535742321991868,
          0.039489652176643346,
          0.04834778210742206,
          0.060298491334405596,
          0.07992995363434169,
          0.1302338643438009,
          0.07323352284404479,
          0.07377188116691052,
          0.06500962984421116,
          0.07238121831903853,
          0.06544486841349835,
          0.02967463042137576,
          0.07953591418235706,
          0.1747653609835243,
          0.09272252920772205,
          0.05564243571832734,
          0.07961887549396286,
          0.0909503807833766,
          0.04822525031963192,
          0.08970029955476555,
          0.06748129100935134,
          0.06295785484720713,
          0.06885195240297406,
          0.07543133565344443,
          0.0681876904712667,
          0.0741162450803031,
          0.038741681449956426,
          0.06682291590745135,
          0.06472338339769317,
          0.1704207422893461,
          0.07761579835212358,
          0.06996834730790126,
          0.06018946484133042,
          0.06406423082239364,
          0.056923539731466556,
          0.07503385883352778,
          0.07533143847341575,
          0.10548960987524747,
          0.07115169839484121,
          0.11417039709633374,
          0.06842993280151069,
          0.07879956633926091,
          0.06989047883396224,
          0.05957386850811892,
          0.08153196374810097,
          0.0733648738233044,
          0.10645203810890087,
          0.06115295118993153,
          0.06346312799012645,
          0.0488575447858612,
          0.089591645233907,
          0.06368207940262545,
          0.07120478139815704,
          0.055866035772492495,
          0.05613866015082477,
          0.04544458828533154,
          0.047737605261574924,
          0.11219388570574097,
          0.06909339324373256,
          0.09656740734851899,
          0.06922246837679018,
          0.10172866535542764,
          0.09965387027721281,
          0.05490612605210868,
          0.03099363118845124,
          0.05635379687241731,
          0.07357900477193167,
          0.08738368547618879,
          0.0638983107524496,
          0.06403022925358358,
          0.08046276850294297,
          0.06885802968072792,
          0.06955273551997618,
          0.06450098857936841,
          0.07348604742908832,
          0.03323520833978607,
          0.18757742890815157,
          0.05523673378277814,
          0.06236869270121501,
          0.06209608757990775,
          0.06955068511014915,
          0.08001634817614771,
          0.06647692431529834,
          0.07188904724486352,
          0.08779843440857878,
          0.05126040586921754,
          0.06581100644210913,
          1.0296746304213757,
          0.060135879288925914,
          0.09359071054671854,
          0.08236851550358948,
          0.06005881123987262,
          0.06097145332032436,
          0.0696819152621839,
          0.05605998271230069,
          0.10081047249722652,
          0.07142805008427676,
          0.11834240697452607,
          0.06491746132369682,
          0.08250589267683839,
          0.0752293296396637,
          0.08288097165290464,
          0.049656934471096516,
          0.0801692687785387,
          0.06345619917200529,
          0.05904148655202308,
          0.09621016076664225,
          0.09983730210872004,
          0.08891482515273108,
          0.05497503519878034,
          0.06581864676904575,
          0.047870964750949034,
          0.15148046503844179,
          0.04137526966715204,
          0.07517128863946378,
          0.050945740017718816,
          0.05517348456723362,
          0.0734186935469182,
          0.04905170792089697,
          0.052010243592280375,
          0.053972323885131616,
          0.1019140205420961,
          0.1860365359394572,
          0.056354424915366484,
          0.06066879338899876,
          0.061971424339013245,
          0.06429762649773732,
          0.05819329086125419,
          0.06915451115537552,
          0.09875437259325208,
          0.06332660851297767,
          0.06489990061521932,
          0.05389876028387861,
          0.0972726503598931,
          0.08458481270613466,
          0.08392388514790168,
          0.0904446172442353,
          0.05258499971116086,
          0.08193567796159355,
          0.07057237011594492,
          0.10090758862796685,
          0.04311044263532998,
          0.04848991204455876,
          0.050328923683207856,
          0.11357339054010072,
          0.07827355030108199,
          0.09842257977562145,
          0.06893559858655382,
          0.05481236210706055,
          0.0790167737369046,
          0.09246262927697933,
          0.07192847309533401,
          0.05318666542931208,
          0.0723737313309812,
          0.06256877414961734,
          0.0645653326330942,
          0.05246735770081402,
          0.12369007925203641,
          0.08222233047361978,
          0.1017248842786362,
          0.05895879038561524,
          0.07189412443303136,
          0.09334258616398527,
          0.07337603501933121,
          0.04991822338237124,
          0.04757818274885997,
          0.05698975104717048,
          0.04445664817841239,
          0.09451958012355487,
          0.07179669399783713,
          0.04916056128959539,
          0.07823267628300402,
          0.08140691274400622,
          0.07743001648140305,
          0.09088940909635322,
          0.08322818599622737,
          0.09819248144044877,
          0.07874910351157734,
          0.04670528112829665,
          0.08764596714724314,
          0.07070203353787692,
          0.0789505886513247,
          0.0655458375635135,
          0.06954331638207266,
          0.06326263839972374,
          0.06773454211228543,
          0.0668129232954234,
          0.08111678604063657,
          0.042430970418314166,
          0.10586094744543616,
          0.05052867834954752,
          0.07239329570332746,
          0.14009071909186796,
          0.07438735315831792,
          0.06575097076313624,
          0.057555356318277004,
          0.0773630181141621,
          0.09208361149085394,
          0.05959372910915122,
          0.0675934243931399,
          0.09044912966642556,
          0.06452200125322334,
          0.06529108959687943,
          0.10050180171587296,
          0.08184980912787247,
          0.20318407108952932,
          0.07319432542020457,
          0.03540696819057104,
          0.06855540061052764,
          0.10434378639566284,
          0.11067279603737186,
          0.04309964029631438,
          0.05123258409349633,
          0.07795309737578646,
          0.058652234704431136,
          0.06916625612570614,
          0.08533243668945649,
          0.0806760565499057,
          0.06506811894533936,
          0.06961819794004197,
          0.08460317867632225,
          0.07986536168365709,
          0.10131814726020719,
          0.08059412639656487,
          0.09091779349875216,
          0.06050182523734511,
          0.06893299423751588,
          0.06439714578557185,
          0.06758781664567821,
          0.03887531011379206,
          0.07916639928587764,
          0.06990039822039028,
          0.08056517650319688,
          0.09538313502224235,
          0.04304324065435283,
          0.08984623308594147,
          0.060659873639515485,
          0.13122754933840494,
          0.07340942855962725,
          0.07621935944896481,
          0.14135448115245886,
          0.09960511756424115,
          0.23250156353910362,
          0.060472040626954146,
          0.0804153217130738,
          0.11853348338094266,
          0.12434582860326525,
          0.1109766642460724,
          0.04663288387302616,
          0.05444176855925238,
          0.10495719798343575,
          0.06261494656103504,
          0.0332151561839517,
          0.08310697393967599,
          0.07608302290034362,
          0.08608561572177559,
          0.06620266569624461,
          0.05391646949874619,
          0.06344579869026322,
          0.08185295113874778,
          0.0698819866415881,
          0.09856074994654337,
          0.05798640321443559,
          0.0701305172783509,
          0.05613368215080185,
          0.048564071048484606,
          0.10311475525234302,
          0.15886984431257795,
          0.08114634272124743,
          0.0386303377702701,
          0.05762131526779506,
          0.057759030412461956,
          0.07890873650246229,
          0.06889057097626959,
          0.13033417782985104,
          0.04794535527495031,
          0.06611738108148164,
          0.06684987197636913,
          0.1268797995341076,
          0.09118793301863756,
          0.1299284997955298,
          0.08322630318414678,
          0.05095243341863732,
          0.03972493474488401,
          0.10533499252539585,
          0.08397435556386251,
          0.08507350297631915,
          0.03637363434509572,
          0.0577530495388342,
          0.06770568167729632,
          0.09200372003438885,
          0.06617028538344345,
          0.0693682121194504,
          0.09835825738086161,
          0.09573343889799814,
          0.0861465026123132,
          0.0927536957785527,
          0.06561460052105954,
          0.0782112325035719,
          0.08873587741202378,
          0.07114345160398106,
          0.052925290975973246,
          0.06670717047012001,
          0.060591354252074486,
          0.13878613391934883,
          0.10114072894847623,
          0.06700838535809932,
          0.06282523893304152,
          0.055357316928195045,
          0.07378423874858715,
          0.05520214090460283,
          0.0677557672784686,
          0.1691624801398934,
          0.06351423493677087,
          0.05326190215842556,
          0.09734992899586316,
          0.05975859468541629,
          0.04483959934990817,
          0.07978841550313158,
          0.06171622140465132,
          0.10747615479139162,
          0.055765387392784665,
          0.06135837201501818,
          0.06943436087163887,
          0.059707754306613084,
          0.10026828388438654,
          0.07718127655092591,
          0.08374162292997805,
          0.07636013842619836,
          0.06559562326984304,
          0.09429632442017077,
          0.06759653916817863,
          0.0715840306833669,
          0.08430444782106773,
          0.05159767130062326,
          0.1623421519060043,
          0.05541994078944036,
          0.08178555111225375,
          0.07291696913295403,
          0.04747285896576233,
          0.08514355091071056,
          0.14757447588592149,
          0.084346822334018,
          0.05113674534360963,
          0.08107154529772778,
          0.07287165459705507,
          0.08507913417645466,
          0.09856686793069311,
          0.048993634570526905,
          0.06216642114760116,
          0.05716852869208309,
          0.04543702692253896,
          0.06063192253227912,
          0.05362172015062342,
          0.07872081861903027,
          0.06475314720897882,
          0.05628310266495637,
          0.06127355073355328,
          0.10475213831582725,
          0.08735850625424554,
          0.09521489701689471,
          0.06733909912227416,
          0.10269770798587866,
          0.04351225010334724,
          0.055193292266379305,
          0.09923329733059875,
          0.08529479488484919,
          0.10398323042918872,
          0.09830568311876857,
          0.05408004938962131,
          0.08115721727474995,
          0.06433839133427703,
          0.05756615428356748,
          0.07118931718478377,
          0.14087870921486756,
          0.2609967977019176,
          0.05490823823605477,
          0.10968896314438543,
          0.057764712032169395,
          0.07764229337355767,
          0.05606728401880287,
          0.07594586231707282,
          0.044423571389270604,
          0.06359104116954509,
          0.06171058800651546,
          0.08622105122288672,
          0.09173484093391011,
          0.07269986765479716,
          0.07913126540694844,
          0.09025164374672527,
          0.04589351076214564,
          0.07849713041238827,
          0.035420157574062985,
          0.093117453685917,
          0.05988760493491199,
          0.06991035396422358,
          0.08491733874064605,
          0.07882831445238107,
          0.09362474370035889,
          0.05821922307776601,
          0.03297368672801175,
          0.05478620929654923,
          0.057704478835576084,
          0.0705554156730405,
          0.04324573592436913,
          0.04115215773275087,
          0.038417542078858835,
          0.075579059447671,
          0.07466386937786751,
          0.049858425715736884,
          0.05733895434694516,
          0.09014717541245053,
          0.069452322410797,
          0.08207015598993124,
          0.08227832720475313,
          0.041440398370201185,
          0.1517540946287846,
          0.07250595688362066,
          0.05442256735990452,
          0.04277092060046988,
          0.07559018804606239,
          0.07832231900881868,
          0.05174329365603928,
          0.0717502317209726,
          0.07844494300632866,
          0.06277779689905384,
          0.08067130320496804,
          0.038817871844826476,
          0.09117604169424906,
          1.4483014669835255,
          4.093457762867163,
          2.7875125379114603,
          1.484470651358771,
          4.723426637172226,
          5.525986548207018,
          5.845938429750567,
          6.972049957581547,
          2.065526647122344,
          2.010838034160638,
          2.086187709960374
         ]
        }
       ],
       "layout": {
        "coloraxis": {
         "colorbar": {
          "title": {
           "text": "volatility"
          }
         },
         "colorscale": [
          [
           0,
           "#0d0887"
          ],
          [
           0.1111111111111111,
           "#46039f"
          ],
          [
           0.2222222222222222,
           "#7201a8"
          ],
          [
           0.3333333333333333,
           "#9c179e"
          ],
          [
           0.4444444444444444,
           "#bd3786"
          ],
          [
           0.5555555555555556,
           "#d8576b"
          ],
          [
           0.6666666666666666,
           "#ed7953"
          ],
          [
           0.7777777777777778,
           "#fb9f3a"
          ],
          [
           0.8888888888888888,
           "#fdca26"
          ],
          [
           1,
           "#f0f921"
          ]
         ]
        },
        "height": 600,
        "legend": {
         "tracegroupgap": 0
        },
        "margin": {
         "t": 60
        },
        "template": {
         "data": {
          "bar": [
           {
            "error_x": {
             "color": "#2a3f5f"
            },
            "error_y": {
             "color": "#2a3f5f"
            },
            "marker": {
             "line": {
              "color": "#E5ECF6",
              "width": 0.5
             },
             "pattern": {
              "fillmode": "overlay",
              "size": 10,
              "solidity": 0.2
             }
            },
            "type": "bar"
           }
          ],
          "barpolar": [
           {
            "marker": {
             "line": {
              "color": "#E5ECF6",
              "width": 0.5
             },
             "pattern": {
              "fillmode": "overlay",
              "size": 10,
              "solidity": 0.2
             }
            },
            "type": "barpolar"
           }
          ],
          "carpet": [
           {
            "aaxis": {
             "endlinecolor": "#2a3f5f",
             "gridcolor": "white",
             "linecolor": "white",
             "minorgridcolor": "white",
             "startlinecolor": "#2a3f5f"
            },
            "baxis": {
             "endlinecolor": "#2a3f5f",
             "gridcolor": "white",
             "linecolor": "white",
             "minorgridcolor": "white",
             "startlinecolor": "#2a3f5f"
            },
            "type": "carpet"
           }
          ],
          "choropleth": [
           {
            "colorbar": {
             "outlinewidth": 0,
             "ticks": ""
            },
            "type": "choropleth"
           }
          ],
          "contour": [
           {
            "colorbar": {
             "outlinewidth": 0,
             "ticks": ""
            },
            "colorscale": [
             [
              0,
              "#0d0887"
             ],
             [
              0.1111111111111111,
              "#46039f"
             ],
             [
              0.2222222222222222,
              "#7201a8"
             ],
             [
              0.3333333333333333,
              "#9c179e"
             ],
             [
              0.4444444444444444,
              "#bd3786"
             ],
             [
              0.5555555555555556,
              "#d8576b"
             ],
             [
              0.6666666666666666,
              "#ed7953"
             ],
             [
              0.7777777777777778,
              "#fb9f3a"
             ],
             [
              0.8888888888888888,
              "#fdca26"
             ],
             [
              1,
              "#f0f921"
             ]
            ],
            "type": "contour"
           }
          ],
          "contourcarpet": [
           {
            "colorbar": {
             "outlinewidth": 0,
             "ticks": ""
            },
            "type": "contourcarpet"
           }
          ],
          "heatmap": [
           {
            "colorbar": {
             "outlinewidth": 0,
             "ticks": ""
            },
            "colorscale": [
             [
              0,
              "#0d0887"
             ],
             [
              0.1111111111111111,
              "#46039f"
             ],
             [
              0.2222222222222222,
              "#7201a8"
             ],
             [
              0.3333333333333333,
              "#9c179e"
             ],
             [
              0.4444444444444444,
              "#bd3786"
             ],
             [
              0.5555555555555556,
              "#d8576b"
             ],
             [
              0.6666666666666666,
              "#ed7953"
             ],
             [
              0.7777777777777778,
              "#fb9f3a"
             ],
             [
              0.8888888888888888,
              "#fdca26"
             ],
             [
              1,
              "#f0f921"
             ]
            ],
            "type": "heatmap"
           }
          ],
          "heatmapgl": [
           {
            "colorbar": {
             "outlinewidth": 0,
             "ticks": ""
            },
            "colorscale": [
             [
              0,
              "#0d0887"
             ],
             [
              0.1111111111111111,
              "#46039f"
             ],
             [
              0.2222222222222222,
              "#7201a8"
             ],
             [
              0.3333333333333333,
              "#9c179e"
             ],
             [
              0.4444444444444444,
              "#bd3786"
             ],
             [
              0.5555555555555556,
              "#d8576b"
             ],
             [
              0.6666666666666666,
              "#ed7953"
             ],
             [
              0.7777777777777778,
              "#fb9f3a"
             ],
             [
              0.8888888888888888,
              "#fdca26"
             ],
             [
              1,
              "#f0f921"
             ]
            ],
            "type": "heatmapgl"
           }
          ],
          "histogram": [
           {
            "marker": {
             "pattern": {
              "fillmode": "overlay",
              "size": 10,
              "solidity": 0.2
             }
            },
            "type": "histogram"
           }
          ],
          "histogram2d": [
           {
            "colorbar": {
             "outlinewidth": 0,
             "ticks": ""
            },
            "colorscale": [
             [
              0,
              "#0d0887"
             ],
             [
              0.1111111111111111,
              "#46039f"
             ],
             [
              0.2222222222222222,
              "#7201a8"
             ],
             [
              0.3333333333333333,
              "#9c179e"
             ],
             [
              0.4444444444444444,
              "#bd3786"
             ],
             [
              0.5555555555555556,
              "#d8576b"
             ],
             [
              0.6666666666666666,
              "#ed7953"
             ],
             [
              0.7777777777777778,
              "#fb9f3a"
             ],
             [
              0.8888888888888888,
              "#fdca26"
             ],
             [
              1,
              "#f0f921"
             ]
            ],
            "type": "histogram2d"
           }
          ],
          "histogram2dcontour": [
           {
            "colorbar": {
             "outlinewidth": 0,
             "ticks": ""
            },
            "colorscale": [
             [
              0,
              "#0d0887"
             ],
             [
              0.1111111111111111,
              "#46039f"
             ],
             [
              0.2222222222222222,
              "#7201a8"
             ],
             [
              0.3333333333333333,
              "#9c179e"
             ],
             [
              0.4444444444444444,
              "#bd3786"
             ],
             [
              0.5555555555555556,
              "#d8576b"
             ],
             [
              0.6666666666666666,
              "#ed7953"
             ],
             [
              0.7777777777777778,
              "#fb9f3a"
             ],
             [
              0.8888888888888888,
              "#fdca26"
             ],
             [
              1,
              "#f0f921"
             ]
            ],
            "type": "histogram2dcontour"
           }
          ],
          "mesh3d": [
           {
            "colorbar": {
             "outlinewidth": 0,
             "ticks": ""
            },
            "type": "mesh3d"
           }
          ],
          "parcoords": [
           {
            "line": {
             "colorbar": {
              "outlinewidth": 0,
              "ticks": ""
             }
            },
            "type": "parcoords"
           }
          ],
          "pie": [
           {
            "automargin": true,
            "type": "pie"
           }
          ],
          "scatter": [
           {
            "fillpattern": {
             "fillmode": "overlay",
             "size": 10,
             "solidity": 0.2
            },
            "type": "scatter"
           }
          ],
          "scatter3d": [
           {
            "line": {
             "colorbar": {
              "outlinewidth": 0,
              "ticks": ""
             }
            },
            "marker": {
             "colorbar": {
              "outlinewidth": 0,
              "ticks": ""
             }
            },
            "type": "scatter3d"
           }
          ],
          "scattercarpet": [
           {
            "marker": {
             "colorbar": {
              "outlinewidth": 0,
              "ticks": ""
             }
            },
            "type": "scattercarpet"
           }
          ],
          "scattergeo": [
           {
            "marker": {
             "colorbar": {
              "outlinewidth": 0,
              "ticks": ""
             }
            },
            "type": "scattergeo"
           }
          ],
          "scattergl": [
           {
            "marker": {
             "colorbar": {
              "outlinewidth": 0,
              "ticks": ""
             }
            },
            "type": "scattergl"
           }
          ],
          "scattermapbox": [
           {
            "marker": {
             "colorbar": {
              "outlinewidth": 0,
              "ticks": ""
             }
            },
            "type": "scattermapbox"
           }
          ],
          "scatterpolar": [
           {
            "marker": {
             "colorbar": {
              "outlinewidth": 0,
              "ticks": ""
             }
            },
            "type": "scatterpolar"
           }
          ],
          "scatterpolargl": [
           {
            "marker": {
             "colorbar": {
              "outlinewidth": 0,
              "ticks": ""
             }
            },
            "type": "scatterpolargl"
           }
          ],
          "scatterternary": [
           {
            "marker": {
             "colorbar": {
              "outlinewidth": 0,
              "ticks": ""
             }
            },
            "type": "scatterternary"
           }
          ],
          "surface": [
           {
            "colorbar": {
             "outlinewidth": 0,
             "ticks": ""
            },
            "colorscale": [
             [
              0,
              "#0d0887"
             ],
             [
              0.1111111111111111,
              "#46039f"
             ],
             [
              0.2222222222222222,
              "#7201a8"
             ],
             [
              0.3333333333333333,
              "#9c179e"
             ],
             [
              0.4444444444444444,
              "#bd3786"
             ],
             [
              0.5555555555555556,
              "#d8576b"
             ],
             [
              0.6666666666666666,
              "#ed7953"
             ],
             [
              0.7777777777777778,
              "#fb9f3a"
             ],
             [
              0.8888888888888888,
              "#fdca26"
             ],
             [
              1,
              "#f0f921"
             ]
            ],
            "type": "surface"
           }
          ],
          "table": [
           {
            "cells": {
             "fill": {
              "color": "#EBF0F8"
             },
             "line": {
              "color": "white"
             }
            },
            "header": {
             "fill": {
              "color": "#C8D4E3"
             },
             "line": {
              "color": "white"
             }
            },
            "type": "table"
           }
          ]
         },
         "layout": {
          "annotationdefaults": {
           "arrowcolor": "#2a3f5f",
           "arrowhead": 0,
           "arrowwidth": 1
          },
          "autotypenumbers": "strict",
          "coloraxis": {
           "colorbar": {
            "outlinewidth": 0,
            "ticks": ""
           }
          },
          "colorscale": {
           "diverging": [
            [
             0,
             "#8e0152"
            ],
            [
             0.1,
             "#c51b7d"
            ],
            [
             0.2,
             "#de77ae"
            ],
            [
             0.3,
             "#f1b6da"
            ],
            [
             0.4,
             "#fde0ef"
            ],
            [
             0.5,
             "#f7f7f7"
            ],
            [
             0.6,
             "#e6f5d0"
            ],
            [
             0.7,
             "#b8e186"
            ],
            [
             0.8,
             "#7fbc41"
            ],
            [
             0.9,
             "#4d9221"
            ],
            [
             1,
             "#276419"
            ]
           ],
           "sequential": [
            [
             0,
             "#0d0887"
            ],
            [
             0.1111111111111111,
             "#46039f"
            ],
            [
             0.2222222222222222,
             "#7201a8"
            ],
            [
             0.3333333333333333,
             "#9c179e"
            ],
            [
             0.4444444444444444,
             "#bd3786"
            ],
            [
             0.5555555555555556,
             "#d8576b"
            ],
            [
             0.6666666666666666,
             "#ed7953"
            ],
            [
             0.7777777777777778,
             "#fb9f3a"
            ],
            [
             0.8888888888888888,
             "#fdca26"
            ],
            [
             1,
             "#f0f921"
            ]
           ],
           "sequentialminus": [
            [
             0,
             "#0d0887"
            ],
            [
             0.1111111111111111,
             "#46039f"
            ],
            [
             0.2222222222222222,
             "#7201a8"
            ],
            [
             0.3333333333333333,
             "#9c179e"
            ],
            [
             0.4444444444444444,
             "#bd3786"
            ],
            [
             0.5555555555555556,
             "#d8576b"
            ],
            [
             0.6666666666666666,
             "#ed7953"
            ],
            [
             0.7777777777777778,
             "#fb9f3a"
            ],
            [
             0.8888888888888888,
             "#fdca26"
            ],
            [
             1,
             "#f0f921"
            ]
           ]
          },
          "colorway": [
           "#636efa",
           "#EF553B",
           "#00cc96",
           "#ab63fa",
           "#FFA15A",
           "#19d3f3",
           "#FF6692",
           "#B6E880",
           "#FF97FF",
           "#FECB52"
          ],
          "font": {
           "color": "#2a3f5f"
          },
          "geo": {
           "bgcolor": "white",
           "lakecolor": "white",
           "landcolor": "#E5ECF6",
           "showlakes": true,
           "showland": true,
           "subunitcolor": "white"
          },
          "hoverlabel": {
           "align": "left"
          },
          "hovermode": "closest",
          "mapbox": {
           "style": "light"
          },
          "paper_bgcolor": "white",
          "plot_bgcolor": "#E5ECF6",
          "polar": {
           "angularaxis": {
            "gridcolor": "white",
            "linecolor": "white",
            "ticks": ""
           },
           "bgcolor": "#E5ECF6",
           "radialaxis": {
            "gridcolor": "white",
            "linecolor": "white",
            "ticks": ""
           }
          },
          "scene": {
           "xaxis": {
            "backgroundcolor": "#E5ECF6",
            "gridcolor": "white",
            "gridwidth": 2,
            "linecolor": "white",
            "showbackground": true,
            "ticks": "",
            "zerolinecolor": "white"
           },
           "yaxis": {
            "backgroundcolor": "#E5ECF6",
            "gridcolor": "white",
            "gridwidth": 2,
            "linecolor": "white",
            "showbackground": true,
            "ticks": "",
            "zerolinecolor": "white"
           },
           "zaxis": {
            "backgroundcolor": "#E5ECF6",
            "gridcolor": "white",
            "gridwidth": 2,
            "linecolor": "white",
            "showbackground": true,
            "ticks": "",
            "zerolinecolor": "white"
           }
          },
          "shapedefaults": {
           "line": {
            "color": "#2a3f5f"
           }
          },
          "ternary": {
           "aaxis": {
            "gridcolor": "white",
            "linecolor": "white",
            "ticks": ""
           },
           "baxis": {
            "gridcolor": "white",
            "linecolor": "white",
            "ticks": ""
           },
           "bgcolor": "#E5ECF6",
           "caxis": {
            "gridcolor": "white",
            "linecolor": "white",
            "ticks": ""
           }
          },
          "title": {
           "x": 0.05
          },
          "xaxis": {
           "automargin": true,
           "gridcolor": "white",
           "linecolor": "white",
           "ticks": "",
           "title": {
            "standoff": 15
           },
           "zerolinecolor": "white",
           "zerolinewidth": 2
          },
          "yaxis": {
           "automargin": true,
           "gridcolor": "white",
           "linecolor": "white",
           "ticks": "",
           "title": {
            "standoff": 15
           },
           "zerolinecolor": "white",
           "zerolinewidth": 2
          }
         }
        },
        "width": 800
       }
      }
     },
     "metadata": {},
     "output_type": "display_data"
    }
   ],
   "source": [
    "fig.update_layout(\n",
    "    width=800,  # specify the desired width\n",
    "    height=600,  # specify the desired height\n",
    ")\n"
   ]
  }
 ],
 "metadata": {
  "kernelspec": {
   "display_name": "Python 3",
   "language": "python",
   "name": "python3"
  },
  "language_info": {
   "codemirror_mode": {
    "name": "ipython",
    "version": 3
   },
   "file_extension": ".py",
   "mimetype": "text/x-python",
   "name": "python",
   "nbconvert_exporter": "python",
   "pygments_lexer": "ipython3",
   "version": "3.10.8"
  },
  "orig_nbformat": 4
 },
 "nbformat": 4,
 "nbformat_minor": 2
}
