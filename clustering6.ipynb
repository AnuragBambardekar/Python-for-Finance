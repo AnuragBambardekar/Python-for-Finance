{
 "cells": [
  {
   "attachments": {},
   "cell_type": "markdown",
   "metadata": {},
   "source": [
    "Concept of Beta\n",
    "\n",
    "Beta can be used as a tool for diversifying the portfolio of stocks. Investing in stocks with different betas can reduce the overall portfolio risk as different betas tend to indicate different stock returns."
   ]
  },
  {
   "attachments": {},
   "cell_type": "markdown",
   "metadata": {},
   "source": [
    "What is Beta?\n",
    "Beta is a metric that calculates the extent to which a stock’s price movements align with the market as a whole.\n",
    "\n",
    "In other words, beta measures a stock’s correlation to the market and can indicate its volatility in relation to market fluctuations. A beta of 1 indicates perfect correlation to the market, less than 1 indicates less volatility, and greater than 1 indicates higher volatility than the market. Stocks with higher betas are more sensitive to market sentiment changes than those with lower betas.\n",
    "\n",
    "For example, let’s assume that a stock’s beta is 0.88. This implies that the stock is 12% (1–0.88) less volatile than the market. Be aware that the beta is not a constant number and can change over time depending on the market conditions.\n",
    "\n",
    "In terms of returns, while the stocks with higher beta experience greater price fluctuations, they tend to have greater returns than the equities with lower betas."
   ]
  },
  {
   "attachments": {},
   "cell_type": "markdown",
   "metadata": {},
   "source": [
    "Beta can help diversify the stock portfolio by managing risk through investing in variety of stocks with different betas.\n",
    "\n",
    "Diversification involves spreading your investment dollars across different stocks. Diversification is important because it lowers the risk of an investor’s portfolio by limiting their exposure to one stock or industry. If you had only invested in one company and it went bankrupt, then your entire investment would be lost. By investing in a portfolio of different stocks, you reduce the chance that all of your money will be lost if one company goes out of business. However, it is important to note that diversification is not guarantee of a profit but rather potential risk reduction.\n",
    "\n",
    "By investing in a portfolio of stocks with different betas, an investor can potentially reduce their overall portfolio risk because stocks with different betas tend to have different returns in different market conditions. For example, if an investor holds a portfolio of stocks with a high average beta, it will be more sensitive to the market fluctuations. Oppositely, a portfolio of stocks with low average beta will be less sensitive to market changes. Therefore, by diversifying the portfolio with a mix of high and low beta stocks, the investor can potentially reduce their overall portfolio risk."
   ]
  },
  {
   "attachments": {},
   "cell_type": "markdown",
   "metadata": {},
   "source": [
    "Beta = (correlation of stock’s returns and index’s returns) * (Stock’s standard deviation of returns / index’s standard deviation of returns)\n",
    "\n",
    "Let’s break down the formula into key steps.\n",
    "\n",
    "Obtain historical data for stock and index for the desired time period\n",
    "Calculate returns and standard deviation for stock and index\n",
    "Find the correlation of returns between stock and index\n",
    "Use the above formula to calculate beta"
   ]
  },
  {
   "cell_type": "code",
   "execution_count": 1,
   "metadata": {},
   "outputs": [],
   "source": [
    "#import libraries \n",
    "import yfinance as yf\n",
    "import pandas as pd\n",
    "\n",
    "#initiate the function\n",
    "def betas(markets, stocks, start_date, end_date):\n",
    "#download the historical data for the index/market\n",
    "  market = yf.download(markets, start_date, end_date)\n",
    "  market['stock_name'] = markets\n",
    "#calculate daily returns \n",
    "  market['daily_return'] = market['Close'].pct_change(1)\n",
    "#calculate standard deviation of the returns\n",
    "  market_std = market['daily_return'].std()\n",
    "  market.dropna(inplace=True)\n",
    "  market = market[['Close', 'stock_name', 'daily_return']] \n",
    "#download the historical data for each stock and calculate its standard deviation \n",
    "#using for loops/iteration \n",
    "  frames = []\n",
    "  stds = []\n",
    "  for i in stocks: \n",
    "    data = yf.download(i, start_date, end_date)\n",
    "    data['stock_name'] = i\n",
    "    data['daily_return'] = data['Close'].pct_change(1)\n",
    "    data.dropna(inplace=True)\n",
    "    data = data[[ 'Close', 'stock_name', 'daily_return']]\n",
    "    data_std = data['daily_return'].std()\n",
    "    frames.append(data)\n",
    "    stds.append(data_std)\n",
    "#for each stock calculate its correlation with index/market \n",
    "  stock_correlation = []\n",
    "  for i in frames: \n",
    "    correlation = i['daily_return'].corr(market['daily_return'])\n",
    "    stock_correlation.append(correlation)\n",
    "#calculate beta \n",
    "  betas = []\n",
    "  for b,i in zip(stock_correlation, stds):\n",
    "    beta_calc = b * (i/market_std)\n",
    "    betas.append(beta_calc)\n",
    "#form dataframe with the results \n",
    "  dictionary = {stocks[e]: betas[e] for e in range(len(stocks))}\n",
    "  dataframe = pd.DataFrame([dictionary]).T\n",
    "  dataframe.reset_index(inplace=True)\n",
    "  dataframe.rename(\n",
    "    columns={\"index\": \"Stock_Name\", 0: \"Beta\"},\n",
    "    inplace=True,)\n",
    "  return dataframe"
   ]
  },
  {
   "cell_type": "code",
   "execution_count": 2,
   "metadata": {},
   "outputs": [
    {
     "name": "stdout",
     "output_type": "stream",
     "text": [
      "[*********************100%***********************]  1 of 1 completed\n",
      "[*********************100%***********************]  1 of 1 completed\n",
      "[*********************100%***********************]  1 of 1 completed\n",
      "[*********************100%***********************]  1 of 1 completed\n",
      "[*********************100%***********************]  1 of 1 completed\n",
      "[*********************100%***********************]  1 of 1 completed\n",
      "[*********************100%***********************]  1 of 1 completed\n",
      "[*********************100%***********************]  1 of 1 completed\n",
      "[*********************100%***********************]  1 of 1 completed\n",
      "[*********************100%***********************]  1 of 1 completed\n",
      "[*********************100%***********************]  1 of 1 completed\n"
     ]
    }
   ],
   "source": [
    "betas = betas('^GSPC', ['JPM', 'NFLX', 'F', 'GOOG', 'MSFT', 'DVN', 'LOW', 'WMT', 'V', 'VZ'], '2010-01-01', '2023-01-20')"
   ]
  },
  {
   "cell_type": "code",
   "execution_count": 3,
   "metadata": {},
   "outputs": [
    {
     "data": {
      "text/html": [
       "<div>\n",
       "<style scoped>\n",
       "    .dataframe tbody tr th:only-of-type {\n",
       "        vertical-align: middle;\n",
       "    }\n",
       "\n",
       "    .dataframe tbody tr th {\n",
       "        vertical-align: top;\n",
       "    }\n",
       "\n",
       "    .dataframe thead th {\n",
       "        text-align: right;\n",
       "    }\n",
       "</style>\n",
       "<table border=\"1\" class=\"dataframe\">\n",
       "  <thead>\n",
       "    <tr style=\"text-align: right;\">\n",
       "      <th></th>\n",
       "      <th>Stock_Name</th>\n",
       "      <th>Beta</th>\n",
       "    </tr>\n",
       "  </thead>\n",
       "  <tbody>\n",
       "    <tr>\n",
       "      <th>0</th>\n",
       "      <td>JPM</td>\n",
       "      <td>1.215307</td>\n",
       "    </tr>\n",
       "    <tr>\n",
       "      <th>1</th>\n",
       "      <td>NFLX</td>\n",
       "      <td>1.088346</td>\n",
       "    </tr>\n",
       "    <tr>\n",
       "      <th>2</th>\n",
       "      <td>F</td>\n",
       "      <td>1.211950</td>\n",
       "    </tr>\n",
       "    <tr>\n",
       "      <th>3</th>\n",
       "      <td>GOOG</td>\n",
       "      <td>1.070965</td>\n",
       "    </tr>\n",
       "    <tr>\n",
       "      <th>4</th>\n",
       "      <td>MSFT</td>\n",
       "      <td>1.117739</td>\n",
       "    </tr>\n",
       "    <tr>\n",
       "      <th>5</th>\n",
       "      <td>DVN</td>\n",
       "      <td>1.423611</td>\n",
       "    </tr>\n",
       "    <tr>\n",
       "      <th>6</th>\n",
       "      <td>LOW</td>\n",
       "      <td>1.031713</td>\n",
       "    </tr>\n",
       "    <tr>\n",
       "      <th>7</th>\n",
       "      <td>WMT</td>\n",
       "      <td>0.508050</td>\n",
       "    </tr>\n",
       "    <tr>\n",
       "      <th>8</th>\n",
       "      <td>V</td>\n",
       "      <td>1.058391</td>\n",
       "    </tr>\n",
       "    <tr>\n",
       "      <th>9</th>\n",
       "      <td>VZ</td>\n",
       "      <td>0.512126</td>\n",
       "    </tr>\n",
       "  </tbody>\n",
       "</table>\n",
       "</div>"
      ],
      "text/plain": [
       "  Stock_Name      Beta\n",
       "0        JPM  1.215307\n",
       "1       NFLX  1.088346\n",
       "2          F  1.211950\n",
       "3       GOOG  1.070965\n",
       "4       MSFT  1.117739\n",
       "5        DVN  1.423611\n",
       "6        LOW  1.031713\n",
       "7        WMT  0.508050\n",
       "8          V  1.058391\n",
       "9         VZ  0.512126"
      ]
     },
     "execution_count": 3,
     "metadata": {},
     "output_type": "execute_result"
    }
   ],
   "source": [
    "betas"
   ]
  },
  {
   "attachments": {},
   "cell_type": "markdown",
   "metadata": {},
   "source": [
    "The majority of the dataframe’s stocks appear to be more volatile than the whole S&P 500. As previously said, a portfolio with just high beta equities will see considerable fluctuations. WMT and VZ are two of the stocks on this list that might reduce risk due to their tendency to fluctuate less with the market."
   ]
  }
 ],
 "metadata": {
  "kernelspec": {
   "display_name": "Python 3",
   "language": "python",
   "name": "python3"
  },
  "language_info": {
   "codemirror_mode": {
    "name": "ipython",
    "version": 3
   },
   "file_extension": ".py",
   "mimetype": "text/x-python",
   "name": "python",
   "nbconvert_exporter": "python",
   "pygments_lexer": "ipython3",
   "version": "3.10.8"
  },
  "orig_nbformat": 4
 },
 "nbformat": 4,
 "nbformat_minor": 2
}
